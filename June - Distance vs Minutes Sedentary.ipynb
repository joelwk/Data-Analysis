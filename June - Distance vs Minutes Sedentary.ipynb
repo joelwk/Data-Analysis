{
 "cells": [
  {
   "cell_type": "markdown",
   "metadata": {},
   "source": [
    "## **Regression Analysis of Distance and Minutes Sedentary over the month of June**"
   ]
  },
  {
   "cell_type": "code",
   "execution_count": 3,
   "metadata": {},
   "outputs": [],
   "source": [
    "import numpy as np\n",
    "import csv\n",
    "import sys\n",
    "import plotly.express as pxl\n",
    "import os\n",
    "import pandas as pd\n",
    "import matplotlib.pyplot as plt\n",
    "import statsmodels.api as sm\n",
    "import seaborn as sns\n",
    "sns.set()\n",
    "import seaborn as sns\n",
    "sns.set()\n",
    "from sklearn.linear_model import LinearRegression"
   ]
  },
  {
   "cell_type": "code",
   "execution_count": 4,
   "metadata": {},
   "outputs": [],
   "source": [
    "filename = 'June.csv'"
   ]
  },
  {
   "cell_type": "code",
   "execution_count": 26,
   "metadata": {},
   "outputs": [],
   "source": [
    "fields = []\n",
    "rows = []\n",
    "\n",
    "with open('June.csv', 'r') as csvfile:\n",
    "    csvfile = csvfile.read().split('\\n')\n",
    "    csvreader = csv.reader(csvfile)\n",
    "    fields = next(csvreader)\n",
    "    for row in csvreader:\n",
    "        rows.append(row)\n",
    "data = pd.DataFrame(rows)"
   ]
  },
  {
   "cell_type": "code",
   "execution_count": 27,
   "metadata": {},
   "outputs": [],
   "source": [
    "data_h = data.iloc[0]\n",
    "data_b = data.iloc[1:31]\n",
    "data = np.array(data_b)\n",
    "data = pd.DataFrame(data, columns=data_h)\n",
    "data = data.replace(',','', regex=True)"
   ]
  },
  {
   "cell_type": "code",
   "execution_count": 28,
   "metadata": {},
   "outputs": [
    {
     "data": {
      "text/html": [
       "<div>\n",
       "<style scoped>\n",
       "    .dataframe tbody tr th:only-of-type {\n",
       "        vertical-align: middle;\n",
       "    }\n",
       "\n",
       "    .dataframe tbody tr th {\n",
       "        vertical-align: top;\n",
       "    }\n",
       "\n",
       "    .dataframe thead th {\n",
       "        text-align: right;\n",
       "    }\n",
       "</style>\n",
       "<table border=\"1\" class=\"dataframe\">\n",
       "  <thead>\n",
       "    <tr style=\"text-align: right;\">\n",
       "      <th></th>\n",
       "      <th>Date</th>\n",
       "      <th>Calories Burned</th>\n",
       "      <th>Steps</th>\n",
       "      <th>Distance</th>\n",
       "      <th>Floors</th>\n",
       "      <th>Minutes Sedentary</th>\n",
       "      <th>Minutes Lightly Active</th>\n",
       "      <th>Minutes Fairly Active</th>\n",
       "      <th>Minutes Very Active</th>\n",
       "      <th>Activity Calories</th>\n",
       "    </tr>\n",
       "  </thead>\n",
       "  <tbody>\n",
       "    <tr>\n",
       "      <th>0</th>\n",
       "      <td>2020-06-01</td>\n",
       "      <td>2648</td>\n",
       "      <td>11205</td>\n",
       "      <td>6.6</td>\n",
       "      <td>18</td>\n",
       "      <td>771</td>\n",
       "      <td>255</td>\n",
       "      <td>22</td>\n",
       "      <td>24</td>\n",
       "      <td>1331</td>\n",
       "    </tr>\n",
       "    <tr>\n",
       "      <th>1</th>\n",
       "      <td>2020-06-02</td>\n",
       "      <td>3118</td>\n",
       "      <td>13109</td>\n",
       "      <td>8.07</td>\n",
       "      <td>38</td>\n",
       "      <td>602</td>\n",
       "      <td>227</td>\n",
       "      <td>43</td>\n",
       "      <td>74</td>\n",
       "      <td>1807</td>\n",
       "    </tr>\n",
       "    <tr>\n",
       "      <th>2</th>\n",
       "      <td>2020-06-03</td>\n",
       "      <td>2794</td>\n",
       "      <td>12708</td>\n",
       "      <td>8.36</td>\n",
       "      <td>37</td>\n",
       "      <td>934</td>\n",
       "      <td>262</td>\n",
       "      <td>15</td>\n",
       "      <td>47</td>\n",
       "      <td>1531</td>\n",
       "    </tr>\n",
       "    <tr>\n",
       "      <th>3</th>\n",
       "      <td>2020-06-04</td>\n",
       "      <td>3221</td>\n",
       "      <td>17513</td>\n",
       "      <td>8.62</td>\n",
       "      <td>10</td>\n",
       "      <td>848</td>\n",
       "      <td>275</td>\n",
       "      <td>57</td>\n",
       "      <td>72</td>\n",
       "      <td>2009</td>\n",
       "    </tr>\n",
       "    <tr>\n",
       "      <th>4</th>\n",
       "      <td>2020-06-05</td>\n",
       "      <td>2789</td>\n",
       "      <td>7922</td>\n",
       "      <td>3.53</td>\n",
       "      <td>7</td>\n",
       "      <td>761</td>\n",
       "      <td>343</td>\n",
       "      <td>14</td>\n",
       "      <td>21</td>\n",
       "      <td>1519</td>\n",
       "    </tr>\n",
       "  </tbody>\n",
       "</table>\n",
       "</div>"
      ],
      "text/plain": [
       "0        Date Calories Burned  Steps Distance Floors Minutes Sedentary  \\\n",
       "0  2020-06-01            2648  11205      6.6     18               771   \n",
       "1  2020-06-02            3118  13109     8.07     38               602   \n",
       "2  2020-06-03            2794  12708     8.36     37               934   \n",
       "3  2020-06-04            3221  17513     8.62     10               848   \n",
       "4  2020-06-05            2789   7922     3.53      7               761   \n",
       "\n",
       "0 Minutes Lightly Active Minutes Fairly Active Minutes Very Active  \\\n",
       "0                    255                    22                  24   \n",
       "1                    227                    43                  74   \n",
       "2                    262                    15                  47   \n",
       "3                    275                    57                  72   \n",
       "4                    343                    14                  21   \n",
       "\n",
       "0 Activity Calories  \n",
       "0              1331  \n",
       "1              1807  \n",
       "2              1531  \n",
       "3              2009  \n",
       "4              1519  "
      ]
     },
     "execution_count": 28,
     "metadata": {},
     "output_type": "execute_result"
    }
   ],
   "source": [
    "data.head()"
   ]
  },
  {
   "cell_type": "code",
   "execution_count": null,
   "metadata": {},
   "outputs": [],
   "source": []
  },
  {
   "cell_type": "code",
   "execution_count": 29,
   "metadata": {},
   "outputs": [],
   "source": [
    "x1 = data['Distance'].astype(str).astype(float)\n",
    "y = data['Minutes Sedentary'].astype(str).astype(int)"
   ]
  },
  {
   "cell_type": "code",
   "execution_count": 30,
   "metadata": {},
   "outputs": [
    {
     "data": {
      "image/png": "[encoded data removed]",
      "text/plain": [
       "<Figure size 432x288 with 1 Axes>"
      ]
     },
     "metadata": {},
     "output_type": "display_data"
    }
   ],
   "source": [
    "plt.scatter(x1,y)\n",
    "plt.xlabel('Distance',fontsize=20)\n",
    "plt.ylabel('Minutes Sedentary',fontsize=20)\n",
    "plt.show()"
   ]
  },
  {
   "cell_type": "code",
   "execution_count": 10,
   "metadata": {},
   "outputs": [
    {
     "data": {
      "text/html": [
       "<table class=\"simpletable\">\n",
       "<caption>OLS Regression Results</caption>\n",
       "<tr>\n",
       "  <th>Dep. Variable:</th>    <td>Minutes Sedentary</td> <th>  R-squared:         </th> <td>   0.191</td>\n",
       "</tr>\n",
       "<tr>\n",
       "  <th>Model:</th>                   <td>OLS</td>        <th>  Adj. R-squared:    </th> <td>   0.162</td>\n",
       "</tr>\n",
       "<tr>\n",
       "  <th>Method:</th>             <td>Least Squares</td>   <th>  F-statistic:       </th> <td>   6.593</td>\n",
       "</tr>\n",
       "<tr>\n",
       "  <th>Date:</th>             <td>Tue, 28 Jul 2020</td>  <th>  Prob (F-statistic):</th>  <td>0.0159</td> \n",
       "</tr>\n",
       "<tr>\n",
       "  <th>Time:</th>                 <td>20:46:06</td>      <th>  Log-Likelihood:    </th> <td> -193.14</td>\n",
       "</tr>\n",
       "<tr>\n",
       "  <th>No. Observations:</th>      <td>    30</td>       <th>  AIC:               </th> <td>   390.3</td>\n",
       "</tr>\n",
       "<tr>\n",
       "  <th>Df Residuals:</th>          <td>    28</td>       <th>  BIC:               </th> <td>   393.1</td>\n",
       "</tr>\n",
       "<tr>\n",
       "  <th>Df Model:</th>              <td>     1</td>       <th>                     </th>     <td> </td>   \n",
       "</tr>\n",
       "<tr>\n",
       "  <th>Covariance Type:</th>      <td>nonrobust</td>     <th>                     </th>     <td> </td>   \n",
       "</tr>\n",
       "</table>\n",
       "<table class=\"simpletable\">\n",
       "<tr>\n",
       "      <td></td>        <th>coef</th>     <th>std err</th>      <th>t</th>      <th>P>|t|</th>  <th>[0.025</th>    <th>0.975]</th>  \n",
       "</tr>\n",
       "<tr>\n",
       "  <th>const</th>    <td>  931.7471</td> <td>   66.364</td> <td>   14.040</td> <td> 0.000</td> <td>  795.807</td> <td> 1067.688</td>\n",
       "</tr>\n",
       "<tr>\n",
       "  <th>Distance</th> <td>  -28.3484</td> <td>   11.041</td> <td>   -2.568</td> <td> 0.016</td> <td>  -50.964</td> <td>   -5.733</td>\n",
       "</tr>\n",
       "</table>\n",
       "<table class=\"simpletable\">\n",
       "<tr>\n",
       "  <th>Omnibus:</th>       <td> 8.227</td> <th>  Durbin-Watson:     </th> <td>   1.551</td>\n",
       "</tr>\n",
       "<tr>\n",
       "  <th>Prob(Omnibus):</th> <td> 0.016</td> <th>  Jarque-Bera (JB):  </th> <td>   7.031</td>\n",
       "</tr>\n",
       "<tr>\n",
       "  <th>Skew:</th>          <td> 1.163</td> <th>  Prob(JB):          </th> <td>  0.0297</td>\n",
       "</tr>\n",
       "<tr>\n",
       "  <th>Kurtosis:</th>      <td> 3.463</td> <th>  Cond. No.          </th> <td>    14.3</td>\n",
       "</tr>\n",
       "</table><br/><br/>Warnings:<br/>[1] Standard Errors assume that the covariance matrix of the errors is correctly specified."
      ],
      "text/plain": [
       "<class 'statsmodels.iolib.summary.Summary'>\n",
       "\"\"\"\n",
       "                            OLS Regression Results                            \n",
       "==============================================================================\n",
       "Dep. Variable:      Minutes Sedentary   R-squared:                       0.191\n",
       "Model:                            OLS   Adj. R-squared:                  0.162\n",
       "Method:                 Least Squares   F-statistic:                     6.593\n",
       "Date:                Tue, 28 Jul 2020   Prob (F-statistic):             0.0159\n",
       "Time:                        20:46:06   Log-Likelihood:                -193.14\n",
       "No. Observations:                  30   AIC:                             390.3\n",
       "Df Residuals:                      28   BIC:                             393.1\n",
       "Df Model:                           1                                         \n",
       "Covariance Type:            nonrobust                                         \n",
       "==============================================================================\n",
       "                 coef    std err          t      P>|t|      [0.025      0.975]\n",
       "------------------------------------------------------------------------------\n",
       "const        931.7471     66.364     14.040      0.000     795.807    1067.688\n",
       "Distance     -28.3484     11.041     -2.568      0.016     -50.964      -5.733\n",
       "==============================================================================\n",
       "Omnibus:                        8.227   Durbin-Watson:                   1.551\n",
       "Prob(Omnibus):                  0.016   Jarque-Bera (JB):                7.031\n",
       "Skew:                           1.163   Prob(JB):                       0.0297\n",
       "Kurtosis:                       3.463   Cond. No.                         14.3\n",
       "==============================================================================\n",
       "\n",
       "Warnings:\n",
       "[1] Standard Errors assume that the covariance matrix of the errors is correctly specified.\n",
       "\"\"\""
      ]
     },
     "execution_count": 10,
     "metadata": {},
     "output_type": "execute_result"
    }
   ],
   "source": [
    "x = sm.add_constant(x1)\n",
    "results = sm.OLS(y,x).fit()\n",
    "results.summary()"
   ]
  },
  {
   "cell_type": "code",
   "execution_count": 420,
   "metadata": {},
   "outputs": [
    {
     "data": {
      "image/png": "[encoded data removed]",
      "text/plain": [
       "<Figure size 432x288 with 1 Axes>"
      ]
     },
     "metadata": {},
     "output_type": "display_data"
    }
   ],
   "source": [
    "plt.scatter(x1,y)\n",
    "yhat = x1*-28.3484+931.7471\n",
    "fig = plt.plot(x1,yhat, lw=4, c='orange', label ='regression line')\n",
    "plt.xlabel('Distance(miles)', fontsize = 20)\n",
    "plt.ylabel('Minutes Sedentary(min)', fontsize = 20)\n",
    "plt.show()"
   ]
  },
  {
   "cell_type": "code",
   "execution_count": 422,
   "metadata": {},
   "outputs": [
    {
     "data": {
      "text/plain": [
       "LinearRegression(copy_X=True, fit_intercept=True, n_jobs=None, normalize=False)"
      ]
     },
     "execution_count": 422,
     "metadata": {},
     "output_type": "execute_result"
    }
   ],
   "source": [
    "#transform the inputs into a matrix (2D object)\n",
    "x_matrix = x1.values.reshape(-1,1)\n",
    "#regression itself\n",
    "reg = LinearRegression()\n",
    "reg.fit(x_matrix,y)"
   ]
  },
  {
   "cell_type": "code",
   "execution_count": 423,
   "metadata": {},
   "outputs": [
    {
     "data": {
      "text/plain": [
       "931.747055558918"
      ]
     },
     "execution_count": 423,
     "metadata": {},
     "output_type": "execute_result"
    }
   ],
   "source": [
    "#intercept\n",
    "reg.intercept_"
   ]
  },
  {
   "cell_type": "code",
   "execution_count": 427,
   "metadata": {},
   "outputs": [
    {
     "data": {
      "text/plain": [
       "0.19058539973246857"
      ]
     },
     "execution_count": 427,
     "metadata": {},
     "output_type": "execute_result"
    }
   ],
   "source": [
    "#r-squared\n",
    "reg.score(x_matrix,y)"
   ]
  },
  {
   "cell_type": "code",
   "execution_count": 428,
   "metadata": {},
   "outputs": [
    {
     "data": {
      "text/plain": [
       "array([-28.3483573])"
      ]
     },
     "execution_count": 428,
     "metadata": {},
     "output_type": "execute_result"
    }
   ],
   "source": [
    "#coefficent\n",
    "reg.coef_"
   ]
  },
  {
   "cell_type": "code",
   "execution_count": 426,
   "metadata": {},
   "outputs": [
    {
     "data": {
      "text/plain": [
       "array([704.96019717])"
      ]
     },
     "execution_count": 426,
     "metadata": {},
     "output_type": "execute_result"
    }
   ],
   "source": [
    "#prediction for sedentary minutes if 8 miles are ran\n",
    "reg.predict([[8]])"
   ]
  },
  {
   "cell_type": "code",
   "execution_count": null,
   "metadata": {},
   "outputs": [],
   "source": []
  }
 ],
 "metadata": {
  "kernelspec": {
   "display_name": "Python 3",
   "language": "python",
   "name": "python3"
  },
  "language_info": {
   "codemirror_mode": {
    "name": "ipython",
    "version": 3
   },
   "file_extension": ".py",
   "mimetype": "text/x-python",
   "name": "python",
   "nbconvert_exporter": "python",
   "pygments_lexer": "ipython3",
   "version": "3.7.6"
  }
 },
 "nbformat": 4,
 "nbformat_minor": 4
}
