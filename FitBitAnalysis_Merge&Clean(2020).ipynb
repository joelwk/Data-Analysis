{
 "metadata": {
  "language_info": {
   "codemirror_mode": {
    "name": "ipython",
    "version": 3
   },
   "file_extension": ".py",
   "mimetype": "text/x-python",
   "name": "python",
   "nbconvert_exporter": "python",
   "pygments_lexer": "ipython3",
   "version": "3.8.5-final"
  },
  "orig_nbformat": 2,
  "kernelspec": {
   "name": "python3",
   "display_name": "Python 3",
   "language": "python"
  }
 },
 "nbformat": 4,
 "nbformat_minor": 2,
 "cells": [
  {
   "cell_type": "code",
   "execution_count": 62,
   "metadata": {},
   "outputs": [],
   "source": [
    "from datetime import datetime,date\n",
    "import csv\n",
    "import pandas as pd\n",
    "import numpy as np\n",
    "import matplotlib.pyplot as plt\n",
    "import seaborn as sns"
   ]
  },
  {
   "source": [
    "## Merge and clean Activity and Sleep datasets from 2020\n",
    "* Will create two csv files: one with outliers and one without outliers\n",
    "* Units of measurment that represnt time are in hours. For example, 10.33 would be 10 hours and 33 minutes."
   ],
   "cell_type": "markdown",
   "metadata": {}
  },
  {
   "cell_type": "code",
   "execution_count": 63,
   "metadata": {},
   "outputs": [],
   "source": [
    "#Load and append both activity datasets\n",
    "a_first_half = pd.read_csv('C:\\\\Users\\jwkon\\Data Learning\\FitData\\Fit_Project(2020)\\Raw_Data\\Clean_Activity_Data(Jan-May).csv')\n",
    "a_second_half = pd.read_csv('C:\\\\Users\\jwkon\\Data Learning\\FitData\\Fit_Project(2020)\\Raw_Data\\Clean_Activity_Data(Jun-Dec).csv')\n",
    "activity = a_first_half.append(a_second_half)\n",
    "activity.reset_index(drop=True, inplace=True)\n",
    "#Load and append both sleep datasets\n",
    "s_first_half = pd.read_csv('C:\\\\Users\\jwkon\\Data Learning\\FitData\\Fit_Project(2020)\\Raw_Data\\Clean_Sleep_Data(Jan-May).csv')\n",
    "s_second_half = pd.read_csv('C:\\\\Users\\jwkon\\Data Learning\\FitData\\Fit_Project(2020)\\Raw_Data\\Clean_Sleep_Data(Jun-Dec).csv')\n",
    "sleep = s_first_half.append(s_second_half)\n",
    "sleep.reset_index(drop=True, inplace=True)"
   ]
  },
  {
   "cell_type": "code",
   "execution_count": 64,
   "metadata": {},
   "outputs": [
    {
     "output_type": "stream",
     "name": "stdout",
     "text": [
      "<class 'pandas.core.frame.DataFrame'>\nRangeIndex: 360 entries, 0 to 359\nData columns (total 10 columns):\n #   Column                            Non-Null Count  Dtype  \n---  ------                            --------------  -----  \n 0   Date                              360 non-null    object \n 1   Calories Burned                   360 non-null    int64  \n 2   Steps                             360 non-null    int64  \n 3   Distance                          360 non-null    float64\n 4   Floors                            360 non-null    int64  \n 5   Minutes Sedentary                 360 non-null    int64  \n 6   Minutes Lightly Active(Fat Burn)  360 non-null    int64  \n 7   Minutes Fairly Active(Cardio)     360 non-null    int64  \n 8   Minutes Very Active(Peak)         360 non-null    int64  \n 9   Activity Calories                 360 non-null    int64  \ndtypes: float64(1), int64(8), object(1)\nmemory usage: 28.2+ KB\n"
     ]
    }
   ],
   "source": [
    "#View column quality and data types\n",
    "activity.info()"
   ]
  },
  {
   "cell_type": "code",
   "execution_count": 65,
   "metadata": {},
   "outputs": [
    {
     "output_type": "stream",
     "name": "stdout",
     "text": [
      "<class 'pandas.core.frame.DataFrame'>\nRangeIndex: 363 entries, 0 to 362\nData columns (total 9 columns):\n #   Column                Non-Null Count  Dtype  \n---  ------                --------------  -----  \n 0   Start Time            363 non-null    object \n 1   End Time              363 non-null    object \n 2   Minutes Asleep        363 non-null    int64  \n 3   Minutes Awake         363 non-null    int64  \n 4   Number of Awakenings  363 non-null    int64  \n 5   Time in Bed           363 non-null    int64  \n 6   Minutes REM Sleep     363 non-null    float64\n 7   Minutes Light Sleep   363 non-null    float64\n 8   Minutes Deep Sleep    363 non-null    float64\ndtypes: float64(3), int64(4), object(2)\nmemory usage: 25.6+ KB\n"
     ]
    }
   ],
   "source": [
    "#View column quality and data types\n",
    "sleep.info()"
   ]
  },
  {
   "cell_type": "code",
   "execution_count": 66,
   "metadata": {},
   "outputs": [
    {
     "output_type": "execute_result",
     "data": {
      "text/plain": [
       "         Date  Calories Burned  Steps  Distance  Floors  Minutes Sedentary  \\\n",
       "0  2020-01-01             2736  10201      4.46       6                633   \n",
       "\n",
       "   Minutes Lightly Active(Fat Burn)  Minutes Fairly Active(Cardio)  \\\n",
       "0                               341                             10   \n",
       "\n",
       "   Minutes Very Active(Peak)  Activity Calories  \n",
       "0                         24               1482  "
      ],
      "text/html": "<div>\n<style scoped>\n    .dataframe tbody tr th:only-of-type {\n        vertical-align: middle;\n    }\n\n    .dataframe tbody tr th {\n        vertical-align: top;\n    }\n\n    .dataframe thead th {\n        text-align: right;\n    }\n</style>\n<table border=\"1\" class=\"dataframe\">\n  <thead>\n    <tr style=\"text-align: right;\">\n      <th></th>\n      <th>Date</th>\n      <th>Calories Burned</th>\n      <th>Steps</th>\n      <th>Distance</th>\n      <th>Floors</th>\n      <th>Minutes Sedentary</th>\n      <th>Minutes Lightly Active(Fat Burn)</th>\n      <th>Minutes Fairly Active(Cardio)</th>\n      <th>Minutes Very Active(Peak)</th>\n      <th>Activity Calories</th>\n    </tr>\n  </thead>\n  <tbody>\n    <tr>\n      <th>0</th>\n      <td>2020-01-01</td>\n      <td>2736</td>\n      <td>10201</td>\n      <td>4.46</td>\n      <td>6</td>\n      <td>633</td>\n      <td>341</td>\n      <td>10</td>\n      <td>24</td>\n      <td>1482</td>\n    </tr>\n  </tbody>\n</table>\n</div>"
     },
     "metadata": {},
     "execution_count": 66
    }
   ],
   "source": [
    "#Preview activity data\n",
    "activity.head(1)"
   ]
  },
  {
   "cell_type": "code",
   "execution_count": 67,
   "metadata": {},
   "outputs": [
    {
     "output_type": "execute_result",
     "data": {
      "text/plain": [
       "            Start Time             End Time  Minutes Asleep  Minutes Awake  \\\n",
       "0  2020-01-01 01:16:00  2020-01-01 08:28:00             334             98   \n",
       "\n",
       "   Number of Awakenings  Time in Bed  Minutes REM Sleep  Minutes Light Sleep  \\\n",
       "0                    20          432               47.0                242.0   \n",
       "\n",
       "   Minutes Deep Sleep  \n",
       "0                45.0  "
      ],
      "text/html": "<div>\n<style scoped>\n    .dataframe tbody tr th:only-of-type {\n        vertical-align: middle;\n    }\n\n    .dataframe tbody tr th {\n        vertical-align: top;\n    }\n\n    .dataframe thead th {\n        text-align: right;\n    }\n</style>\n<table border=\"1\" class=\"dataframe\">\n  <thead>\n    <tr style=\"text-align: right;\">\n      <th></th>\n      <th>Start Time</th>\n      <th>End Time</th>\n      <th>Minutes Asleep</th>\n      <th>Minutes Awake</th>\n      <th>Number of Awakenings</th>\n      <th>Time in Bed</th>\n      <th>Minutes REM Sleep</th>\n      <th>Minutes Light Sleep</th>\n      <th>Minutes Deep Sleep</th>\n    </tr>\n  </thead>\n  <tbody>\n    <tr>\n      <th>0</th>\n      <td>2020-01-01 01:16:00</td>\n      <td>2020-01-01 08:28:00</td>\n      <td>334</td>\n      <td>98</td>\n      <td>20</td>\n      <td>432</td>\n      <td>47.0</td>\n      <td>242.0</td>\n      <td>45.0</td>\n    </tr>\n  </tbody>\n</table>\n</div>"
     },
     "metadata": {},
     "execution_count": 67
    }
   ],
   "source": [
    "#Preview sleep data\n",
    "sleep.head(1)"
   ]
  },
  {
   "cell_type": "code",
   "execution_count": 68,
   "metadata": {},
   "outputs": [],
   "source": [
    "#Convert sleep Time columns to datetime format and group on End Time\n",
    "sleep['Start Time'] = pd.to_datetime(sleep['Start Time']).dt.date\n",
    "sleep['End Time'] = pd.to_datetime(sleep['End Time']).dt.date"
   ]
  },
  {
   "cell_type": "code",
   "execution_count": 69,
   "metadata": {},
   "outputs": [],
   "source": [
    "#Convert activity date column to datetime format and group on Date\n",
    "activity['Date'] = pd.to_datetime(activity['Date']).dt.date\n",
    "activity = activity.groupby(['Date']).agg(sum).reset_index()"
   ]
  },
  {
   "cell_type": "code",
   "execution_count": 70,
   "metadata": {},
   "outputs": [],
   "source": [
    "#Merge dataframes on Date & End Time\n",
    "data = pd.merge(activity, sleep, left_on=['Date'], right_on=['End Time'])"
   ]
  },
  {
   "cell_type": "code",
   "execution_count": 71,
   "metadata": {},
   "outputs": [],
   "source": [
    "#Identify and remove outliers\n",
    "Q1 = data.quantile(0.25)\n",
    "Q3 = data.quantile(0.75)\n",
    "IQR = Q3 - Q1\n",
    "\n",
    "data = data[~((data < (Q1 - 1.5 * IQR)) |(data > (Q3 + 1.5 * IQR))).any(axis=1)]"
   ]
  },
  {
   "cell_type": "code",
   "execution_count": 72,
   "metadata": {},
   "outputs": [],
   "source": [
    "#Set Date column to datetime format/data type\n",
    "data['Date'] = pd.to_datetime(data['Date'])"
   ]
  },
  {
   "cell_type": "code",
   "execution_count": 73,
   "metadata": {},
   "outputs": [],
   "source": [
    "#Function that converts the column values from raw minutes to a more familiar format of hours with minutes as a decimal\n",
    "def toHour(minutes = [], *args):\n",
    "    for i in minutes:\n",
    "        data[i] = pd.to_datetime(data[i], unit='m').dt.strftime('%H:%M')\n",
    "        data[i] = data[i].replace(':','.', regex=True)\n",
    "        data[i] = data[i].astype(str).astype(float)"
   ]
  },
  {
   "cell_type": "code",
   "execution_count": 74,
   "metadata": {},
   "outputs": [],
   "source": [
    "#Invoke toHour function\n",
    "toHour(['Minutes Sedentary', 'Minutes Lightly Active(Fat Burn)', 'Minutes Asleep', 'Minutes Awake', 'Time in Bed', 'Minutes REM Sleep','Minutes Light Sleep', 'Minutes Deep Sleep'])"
   ]
  },
  {
   "cell_type": "code",
   "execution_count": 75,
   "metadata": {},
   "outputs": [],
   "source": [
    "#Rename column headers\n",
    "data.rename(columns={'Distance': 'Distance(Miles)', 'Minutes Sedentary':'Time Sedentary', 'Minutes Lightly Active(Fat Burn)': 'Lightly Active(Fat Burn)', 'Minutes Fairly Active(Cardio)': 'Fairly Active(Cardio)', 'Minutes Very Active(Peak)': 'Very Active(Peak)', 'Minutes Asleep': 'Time Asleep', 'Minutes Awake': 'Time Awake', 'Minutes REM Sleep': 'REM Sleep', 'Minutes Light Sleep': 'Light Sleep', 'Minutes Deep Sleep': 'Deep Sleep'}, inplace=True)"
   ]
  },
  {
   "cell_type": "code",
   "execution_count": 76,
   "metadata": {},
   "outputs": [],
   "source": [
    "#Drop rows that have duplicates in the Date column since that represents each day with full data\n",
    "data = data.drop_duplicates(subset=['Date'], keep='first')"
   ]
  },
  {
   "cell_type": "code",
   "execution_count": 77,
   "metadata": {},
   "outputs": [
    {
     "output_type": "stream",
     "name": "stdout",
     "text": [
      "<class 'pandas.core.frame.DataFrame'>\nInt64Index: 276 entries, 0 to 360\nData columns (total 19 columns):\n #   Column                    Non-Null Count  Dtype         \n---  ------                    --------------  -----         \n 0   Date                      276 non-null    datetime64[ns]\n 1   Calories Burned           276 non-null    int64         \n 2   Steps                     276 non-null    int64         \n 3   Distance(Miles)           276 non-null    float64       \n 4   Floors                    276 non-null    int64         \n 5   Time Sedentary            276 non-null    float64       \n 6   Lightly Active(Fat Burn)  276 non-null    float64       \n 7   Fairly Active(Cardio)     276 non-null    int64         \n 8   Very Active(Peak)         276 non-null    int64         \n 9   Activity Calories         276 non-null    int64         \n 10  Start Time                276 non-null    object        \n 11  End Time                  276 non-null    object        \n 12  Time Asleep               276 non-null    float64       \n 13  Time Awake                276 non-null    float64       \n 14  Number of Awakenings      276 non-null    int64         \n 15  Time in Bed               276 non-null    float64       \n 16  REM Sleep                 276 non-null    float64       \n 17  Light Sleep               276 non-null    float64       \n 18  Deep Sleep                276 non-null    float64       \ndtypes: datetime64[ns](1), float64(9), int64(7), object(2)\nmemory usage: 43.1+ KB\n"
     ]
    }
   ],
   "source": [
    "#Verify column quality and data types\n",
    "data.info()"
   ]
  },
  {
   "cell_type": "code",
   "execution_count": 78,
   "metadata": {},
   "outputs": [
    {
     "output_type": "execute_result",
     "data": {
      "text/plain": [
       "        Date  Calories Burned  Steps  Distance(Miles)  Floors  Time Sedentary  \\\n",
       "0 2020-01-01             2736  10201             4.46       6           10.33   \n",
       "1 2020-01-02             2637   9539             4.25       4           10.08   \n",
       "2 2020-01-03             2656  11394             4.75       5           12.30   \n",
       "3 2020-01-04             2934  17150             7.20       6            9.01   \n",
       "5 2020-01-06             2174   7296             3.23       5           13.33   \n",
       "\n",
       "   Lightly Active(Fat Burn)  Fairly Active(Cardio)  Very Active(Peak)  \\\n",
       "0                      5.41                     10                 24   \n",
       "1                      4.52                     31                  2   \n",
       "2                      4.02                     32                 27   \n",
       "3                      4.54                     16                 36   \n",
       "5                      2.43                     15                  9   \n",
       "\n",
       "   Activity Calories  Start Time    End Time  Time Asleep  Time Awake  \\\n",
       "0               1482  2020-01-01  2020-01-01         5.34        1.38   \n",
       "1               1302  2020-01-01  2020-01-02         6.54        1.33   \n",
       "2               1328  2020-01-02  2020-01-03         5.31        0.58   \n",
       "3               1657  2020-01-03  2020-01-04         7.44        1.29   \n",
       "5                782  2020-01-05  2020-01-06         6.06        1.14   \n",
       "\n",
       "   Number of Awakenings  Time in Bed  REM Sleep  Light Sleep  Deep Sleep  \n",
       "0                    20         7.12       0.47         4.02        0.45  \n",
       "1                    33         8.27       0.50         5.46        0.18  \n",
       "2                    27         6.29       0.31         4.38        0.22  \n",
       "3                    36         9.13       1.24         5.41        0.39  \n",
       "5                    23         7.20       0.59         4.22        0.45  "
      ],
      "text/html": "<div>\n<style scoped>\n    .dataframe tbody tr th:only-of-type {\n        vertical-align: middle;\n    }\n\n    .dataframe tbody tr th {\n        vertical-align: top;\n    }\n\n    .dataframe thead th {\n        text-align: right;\n    }\n</style>\n<table border=\"1\" class=\"dataframe\">\n  <thead>\n    <tr style=\"text-align: right;\">\n      <th></th>\n      <th>Date</th>\n      <th>Calories Burned</th>\n      <th>Steps</th>\n      <th>Distance(Miles)</th>\n      <th>Floors</th>\n      <th>Time Sedentary</th>\n      <th>Lightly Active(Fat Burn)</th>\n      <th>Fairly Active(Cardio)</th>\n      <th>Very Active(Peak)</th>\n      <th>Activity Calories</th>\n      <th>Start Time</th>\n      <th>End Time</th>\n      <th>Time Asleep</th>\n      <th>Time Awake</th>\n      <th>Number of Awakenings</th>\n      <th>Time in Bed</th>\n      <th>REM Sleep</th>\n      <th>Light Sleep</th>\n      <th>Deep Sleep</th>\n    </tr>\n  </thead>\n  <tbody>\n    <tr>\n      <th>0</th>\n      <td>2020-01-01</td>\n      <td>2736</td>\n      <td>10201</td>\n      <td>4.46</td>\n      <td>6</td>\n      <td>10.33</td>\n      <td>5.41</td>\n      <td>10</td>\n      <td>24</td>\n      <td>1482</td>\n      <td>2020-01-01</td>\n      <td>2020-01-01</td>\n      <td>5.34</td>\n      <td>1.38</td>\n      <td>20</td>\n      <td>7.12</td>\n      <td>0.47</td>\n      <td>4.02</td>\n      <td>0.45</td>\n    </tr>\n    <tr>\n      <th>1</th>\n      <td>2020-01-02</td>\n      <td>2637</td>\n      <td>9539</td>\n      <td>4.25</td>\n      <td>4</td>\n      <td>10.08</td>\n      <td>4.52</td>\n      <td>31</td>\n      <td>2</td>\n      <td>1302</td>\n      <td>2020-01-01</td>\n      <td>2020-01-02</td>\n      <td>6.54</td>\n      <td>1.33</td>\n      <td>33</td>\n      <td>8.27</td>\n      <td>0.50</td>\n      <td>5.46</td>\n      <td>0.18</td>\n    </tr>\n    <tr>\n      <th>2</th>\n      <td>2020-01-03</td>\n      <td>2656</td>\n      <td>11394</td>\n      <td>4.75</td>\n      <td>5</td>\n      <td>12.30</td>\n      <td>4.02</td>\n      <td>32</td>\n      <td>27</td>\n      <td>1328</td>\n      <td>2020-01-02</td>\n      <td>2020-01-03</td>\n      <td>5.31</td>\n      <td>0.58</td>\n      <td>27</td>\n      <td>6.29</td>\n      <td>0.31</td>\n      <td>4.38</td>\n      <td>0.22</td>\n    </tr>\n    <tr>\n      <th>3</th>\n      <td>2020-01-04</td>\n      <td>2934</td>\n      <td>17150</td>\n      <td>7.20</td>\n      <td>6</td>\n      <td>9.01</td>\n      <td>4.54</td>\n      <td>16</td>\n      <td>36</td>\n      <td>1657</td>\n      <td>2020-01-03</td>\n      <td>2020-01-04</td>\n      <td>7.44</td>\n      <td>1.29</td>\n      <td>36</td>\n      <td>9.13</td>\n      <td>1.24</td>\n      <td>5.41</td>\n      <td>0.39</td>\n    </tr>\n    <tr>\n      <th>5</th>\n      <td>2020-01-06</td>\n      <td>2174</td>\n      <td>7296</td>\n      <td>3.23</td>\n      <td>5</td>\n      <td>13.33</td>\n      <td>2.43</td>\n      <td>15</td>\n      <td>9</td>\n      <td>782</td>\n      <td>2020-01-05</td>\n      <td>2020-01-06</td>\n      <td>6.06</td>\n      <td>1.14</td>\n      <td>23</td>\n      <td>7.20</td>\n      <td>0.59</td>\n      <td>4.22</td>\n      <td>0.45</td>\n    </tr>\n  </tbody>\n</table>\n</div>"
     },
     "metadata": {},
     "execution_count": 78
    }
   ],
   "source": [
    "#View first 5 rows\n",
    "data.head()"
   ]
  },
  {
   "cell_type": "code",
   "execution_count": 79,
   "metadata": {},
   "outputs": [
    {
     "output_type": "execute_result",
     "data": {
      "text/plain": [
       "          Date  Calories Burned  Steps  Distance(Miles)  Floors  \\\n",
       "355 2020-12-19             2352   6858             3.03       6   \n",
       "356 2020-12-20             2489   4726             2.10       0   \n",
       "357 2020-12-21             2416   7184             3.16       2   \n",
       "358 2020-12-22             2217   5625             2.50       7   \n",
       "360 2020-12-24             2609   7911             3.51       2   \n",
       "\n",
       "     Time Sedentary  Lightly Active(Fat Burn)  Fairly Active(Cardio)  \\\n",
       "355           12.51                      4.50                      0   \n",
       "356           12.29                      5.18                     10   \n",
       "357           14.16                      4.26                     19   \n",
       "358           12.23                      4.13                      0   \n",
       "360           11.08                      5.43                      0   \n",
       "\n",
       "     Very Active(Peak)  Activity Calories  Start Time    End Time  \\\n",
       "355                  0               1021  2020-12-18  2020-12-19   \n",
       "356                  0               1159  2020-12-19  2020-12-20   \n",
       "357                  4               1100  2020-12-21  2020-12-21   \n",
       "358                  0                859  2020-12-21  2020-12-22   \n",
       "360                  0               1273  2020-12-23  2020-12-24   \n",
       "\n",
       "     Time Asleep  Time Awake  Number of Awakenings  Time in Bed  REM Sleep  \\\n",
       "355         5.19        1.00                    22         6.19       1.06   \n",
       "356         5.11        0.52                    18         6.03       1.01   \n",
       "357         4.09        0.46                    14         4.55       0.54   \n",
       "358         6.26        0.58                    29         7.24       1.24   \n",
       "360         6.05        0.52                    32         6.57       1.32   \n",
       "\n",
       "     Light Sleep  Deep Sleep  \n",
       "355         4.09        0.04  \n",
       "356         3.30        0.40  \n",
       "357         2.45        0.30  \n",
       "358         3.51        1.11  \n",
       "360         3.41        0.52  "
      ],
      "text/html": "<div>\n<style scoped>\n    .dataframe tbody tr th:only-of-type {\n        vertical-align: middle;\n    }\n\n    .dataframe tbody tr th {\n        vertical-align: top;\n    }\n\n    .dataframe thead th {\n        text-align: right;\n    }\n</style>\n<table border=\"1\" class=\"dataframe\">\n  <thead>\n    <tr style=\"text-align: right;\">\n      <th></th>\n      <th>Date</th>\n      <th>Calories Burned</th>\n      <th>Steps</th>\n      <th>Distance(Miles)</th>\n      <th>Floors</th>\n      <th>Time Sedentary</th>\n      <th>Lightly Active(Fat Burn)</th>\n      <th>Fairly Active(Cardio)</th>\n      <th>Very Active(Peak)</th>\n      <th>Activity Calories</th>\n      <th>Start Time</th>\n      <th>End Time</th>\n      <th>Time Asleep</th>\n      <th>Time Awake</th>\n      <th>Number of Awakenings</th>\n      <th>Time in Bed</th>\n      <th>REM Sleep</th>\n      <th>Light Sleep</th>\n      <th>Deep Sleep</th>\n    </tr>\n  </thead>\n  <tbody>\n    <tr>\n      <th>355</th>\n      <td>2020-12-19</td>\n      <td>2352</td>\n      <td>6858</td>\n      <td>3.03</td>\n      <td>6</td>\n      <td>12.51</td>\n      <td>4.50</td>\n      <td>0</td>\n      <td>0</td>\n      <td>1021</td>\n      <td>2020-12-18</td>\n      <td>2020-12-19</td>\n      <td>5.19</td>\n      <td>1.00</td>\n      <td>22</td>\n      <td>6.19</td>\n      <td>1.06</td>\n      <td>4.09</td>\n      <td>0.04</td>\n    </tr>\n    <tr>\n      <th>356</th>\n      <td>2020-12-20</td>\n      <td>2489</td>\n      <td>4726</td>\n      <td>2.10</td>\n      <td>0</td>\n      <td>12.29</td>\n      <td>5.18</td>\n      <td>10</td>\n      <td>0</td>\n      <td>1159</td>\n      <td>2020-12-19</td>\n      <td>2020-12-20</td>\n      <td>5.11</td>\n      <td>0.52</td>\n      <td>18</td>\n      <td>6.03</td>\n      <td>1.01</td>\n      <td>3.30</td>\n      <td>0.40</td>\n    </tr>\n    <tr>\n      <th>357</th>\n      <td>2020-12-21</td>\n      <td>2416</td>\n      <td>7184</td>\n      <td>3.16</td>\n      <td>2</td>\n      <td>14.16</td>\n      <td>4.26</td>\n      <td>19</td>\n      <td>4</td>\n      <td>1100</td>\n      <td>2020-12-21</td>\n      <td>2020-12-21</td>\n      <td>4.09</td>\n      <td>0.46</td>\n      <td>14</td>\n      <td>4.55</td>\n      <td>0.54</td>\n      <td>2.45</td>\n      <td>0.30</td>\n    </tr>\n    <tr>\n      <th>358</th>\n      <td>2020-12-22</td>\n      <td>2217</td>\n      <td>5625</td>\n      <td>2.50</td>\n      <td>7</td>\n      <td>12.23</td>\n      <td>4.13</td>\n      <td>0</td>\n      <td>0</td>\n      <td>859</td>\n      <td>2020-12-21</td>\n      <td>2020-12-22</td>\n      <td>6.26</td>\n      <td>0.58</td>\n      <td>29</td>\n      <td>7.24</td>\n      <td>1.24</td>\n      <td>3.51</td>\n      <td>1.11</td>\n    </tr>\n    <tr>\n      <th>360</th>\n      <td>2020-12-24</td>\n      <td>2609</td>\n      <td>7911</td>\n      <td>3.51</td>\n      <td>2</td>\n      <td>11.08</td>\n      <td>5.43</td>\n      <td>0</td>\n      <td>0</td>\n      <td>1273</td>\n      <td>2020-12-23</td>\n      <td>2020-12-24</td>\n      <td>6.05</td>\n      <td>0.52</td>\n      <td>32</td>\n      <td>6.57</td>\n      <td>1.32</td>\n      <td>3.41</td>\n      <td>0.52</td>\n    </tr>\n  </tbody>\n</table>\n</div>"
     },
     "metadata": {},
     "execution_count": 79
    }
   ],
   "source": [
    "#View last 5 rows\n",
    "data.tail()"
   ]
  },
  {
   "cell_type": "code",
   "execution_count": 80,
   "metadata": {},
   "outputs": [
    {
     "output_type": "execute_result",
     "data": {
      "text/plain": [
       "       Calories Burned         Steps  Distance(Miles)      Floors  \\\n",
       "count       276.000000    276.000000       276.000000  276.000000   \n",
       "mean       2426.000000   7796.141304         3.723841    8.021739   \n",
       "std         325.269634   3575.180144         1.970808    7.025633   \n",
       "min        1792.000000   1746.000000         0.780000    0.000000   \n",
       "25%        2179.500000   4924.250000         2.190000    3.000000   \n",
       "50%        2389.500000   7073.500000         3.230000    6.000000   \n",
       "75%        2657.500000  10562.250000         4.970000   10.250000   \n",
       "max        3460.000000  20162.000000        10.420000   30.000000   \n",
       "\n",
       "       Time Sedentary  Lightly Active(Fat Burn)  Fairly Active(Cardio)  \\\n",
       "count      276.000000                276.000000             276.000000   \n",
       "mean        12.362065                  3.761957              12.942029   \n",
       "std          1.735667                  1.017042              14.353343   \n",
       "min          7.460000                  1.260000               0.000000   \n",
       "25%         11.257500                  3.170000               0.000000   \n",
       "50%         12.320000                  4.010000               9.000000   \n",
       "75%         13.382500                  4.370000              20.000000   \n",
       "max         16.350000                  6.340000              62.000000   \n",
       "\n",
       "       Very Active(Peak)  Activity Calories  Time Asleep  Time Awake  \\\n",
       "count         276.000000         276.000000   276.000000  276.000000   \n",
       "mean           15.315217        1068.028986     5.559203    0.806630   \n",
       "std            20.125748         384.344929     1.208215    0.346821   \n",
       "min             0.000000         302.000000     2.200000    0.150000   \n",
       "25%             0.000000         782.750000     5.057500    0.490000   \n",
       "50%             4.000000        1045.000000     5.535000    0.795000   \n",
       "75%            28.000000        1331.250000     6.322500    1.110000   \n",
       "max            82.000000        2259.000000     8.370000    1.470000   \n",
       "\n",
       "       Number of Awakenings  Time in Bed   REM Sleep  Light Sleep  Deep Sleep  \n",
       "count            276.000000   276.000000  276.000000   276.000000  276.000000  \n",
       "mean              23.909420     6.574529    0.815870     3.762029    0.587572  \n",
       "std                6.491599     1.406252    0.387086     0.894674    0.343786  \n",
       "min                3.000000     2.460000    0.080000     1.430000    0.040000  \n",
       "25%               19.750000     5.545000    0.467500     3.270000    0.360000  \n",
       "50%               24.000000     6.570000    1.000000     4.025000    0.490000  \n",
       "75%               29.000000     7.380000    1.170000     4.330000    1.000000  \n",
       "max               39.000000     9.550000    1.560000     6.070000    1.330000  "
      ],
      "text/html": "<div>\n<style scoped>\n    .dataframe tbody tr th:only-of-type {\n        vertical-align: middle;\n    }\n\n    .dataframe tbody tr th {\n        vertical-align: top;\n    }\n\n    .dataframe thead th {\n        text-align: right;\n    }\n</style>\n<table border=\"1\" class=\"dataframe\">\n  <thead>\n    <tr style=\"text-align: right;\">\n      <th></th>\n      <th>Calories Burned</th>\n      <th>Steps</th>\n      <th>Distance(Miles)</th>\n      <th>Floors</th>\n      <th>Time Sedentary</th>\n      <th>Lightly Active(Fat Burn)</th>\n      <th>Fairly Active(Cardio)</th>\n      <th>Very Active(Peak)</th>\n      <th>Activity Calories</th>\n      <th>Time Asleep</th>\n      <th>Time Awake</th>\n      <th>Number of Awakenings</th>\n      <th>Time in Bed</th>\n      <th>REM Sleep</th>\n      <th>Light Sleep</th>\n      <th>Deep Sleep</th>\n    </tr>\n  </thead>\n  <tbody>\n    <tr>\n      <th>count</th>\n      <td>276.000000</td>\n      <td>276.000000</td>\n      <td>276.000000</td>\n      <td>276.000000</td>\n      <td>276.000000</td>\n      <td>276.000000</td>\n      <td>276.000000</td>\n      <td>276.000000</td>\n      <td>276.000000</td>\n      <td>276.000000</td>\n      <td>276.000000</td>\n      <td>276.000000</td>\n      <td>276.000000</td>\n      <td>276.000000</td>\n      <td>276.000000</td>\n      <td>276.000000</td>\n    </tr>\n    <tr>\n      <th>mean</th>\n      <td>2426.000000</td>\n      <td>7796.141304</td>\n      <td>3.723841</td>\n      <td>8.021739</td>\n      <td>12.362065</td>\n      <td>3.761957</td>\n      <td>12.942029</td>\n      <td>15.315217</td>\n      <td>1068.028986</td>\n      <td>5.559203</td>\n      <td>0.806630</td>\n      <td>23.909420</td>\n      <td>6.574529</td>\n      <td>0.815870</td>\n      <td>3.762029</td>\n      <td>0.587572</td>\n    </tr>\n    <tr>\n      <th>std</th>\n      <td>325.269634</td>\n      <td>3575.180144</td>\n      <td>1.970808</td>\n      <td>7.025633</td>\n      <td>1.735667</td>\n      <td>1.017042</td>\n      <td>14.353343</td>\n      <td>20.125748</td>\n      <td>384.344929</td>\n      <td>1.208215</td>\n      <td>0.346821</td>\n      <td>6.491599</td>\n      <td>1.406252</td>\n      <td>0.387086</td>\n      <td>0.894674</td>\n      <td>0.343786</td>\n    </tr>\n    <tr>\n      <th>min</th>\n      <td>1792.000000</td>\n      <td>1746.000000</td>\n      <td>0.780000</td>\n      <td>0.000000</td>\n      <td>7.460000</td>\n      <td>1.260000</td>\n      <td>0.000000</td>\n      <td>0.000000</td>\n      <td>302.000000</td>\n      <td>2.200000</td>\n      <td>0.150000</td>\n      <td>3.000000</td>\n      <td>2.460000</td>\n      <td>0.080000</td>\n      <td>1.430000</td>\n      <td>0.040000</td>\n    </tr>\n    <tr>\n      <th>25%</th>\n      <td>2179.500000</td>\n      <td>4924.250000</td>\n      <td>2.190000</td>\n      <td>3.000000</td>\n      <td>11.257500</td>\n      <td>3.170000</td>\n      <td>0.000000</td>\n      <td>0.000000</td>\n      <td>782.750000</td>\n      <td>5.057500</td>\n      <td>0.490000</td>\n      <td>19.750000</td>\n      <td>5.545000</td>\n      <td>0.467500</td>\n      <td>3.270000</td>\n      <td>0.360000</td>\n    </tr>\n    <tr>\n      <th>50%</th>\n      <td>2389.500000</td>\n      <td>7073.500000</td>\n      <td>3.230000</td>\n      <td>6.000000</td>\n      <td>12.320000</td>\n      <td>4.010000</td>\n      <td>9.000000</td>\n      <td>4.000000</td>\n      <td>1045.000000</td>\n      <td>5.535000</td>\n      <td>0.795000</td>\n      <td>24.000000</td>\n      <td>6.570000</td>\n      <td>1.000000</td>\n      <td>4.025000</td>\n      <td>0.490000</td>\n    </tr>\n    <tr>\n      <th>75%</th>\n      <td>2657.500000</td>\n      <td>10562.250000</td>\n      <td>4.970000</td>\n      <td>10.250000</td>\n      <td>13.382500</td>\n      <td>4.370000</td>\n      <td>20.000000</td>\n      <td>28.000000</td>\n      <td>1331.250000</td>\n      <td>6.322500</td>\n      <td>1.110000</td>\n      <td>29.000000</td>\n      <td>7.380000</td>\n      <td>1.170000</td>\n      <td>4.330000</td>\n      <td>1.000000</td>\n    </tr>\n    <tr>\n      <th>max</th>\n      <td>3460.000000</td>\n      <td>20162.000000</td>\n      <td>10.420000</td>\n      <td>30.000000</td>\n      <td>16.350000</td>\n      <td>6.340000</td>\n      <td>62.000000</td>\n      <td>82.000000</td>\n      <td>2259.000000</td>\n      <td>8.370000</td>\n      <td>1.470000</td>\n      <td>39.000000</td>\n      <td>9.550000</td>\n      <td>1.560000</td>\n      <td>6.070000</td>\n      <td>1.330000</td>\n    </tr>\n  </tbody>\n</table>\n</div>"
     },
     "metadata": {},
     "execution_count": 80
    }
   ],
   "source": [
    "#View summary statistics\n",
    "data.describe()"
   ]
  },
  {
   "cell_type": "code",
   "execution_count": 81,
   "metadata": {},
   "outputs": [],
   "source": [
    "#Save to csv for analysis\n",
    "data.to_csv('FitData_2020(OutliersRemoved).csv', index=False)"
   ]
  },
  {
   "cell_type": "code",
   "execution_count": null,
   "metadata": {},
   "outputs": [],
   "source": []
  }
 ]
}