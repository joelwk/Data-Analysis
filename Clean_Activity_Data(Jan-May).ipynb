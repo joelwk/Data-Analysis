{
 "cells": [
  {
   "cell_type": "code",
   "execution_count": 1,
   "metadata": {},
   "outputs": [],
   "source": [
    "import pandas as  pd\n",
    "import numpy as np"
   ]
  },
  {
   "cell_type": "code",
   "execution_count": 2,
   "metadata": {},
   "outputs": [],
   "source": [
    "activity = pd.read_csv('Organized_Activity_Data(Jan-Dec).csv')"
   ]
  },
  {
   "cell_type": "code",
   "execution_count": 3,
   "metadata": {},
   "outputs": [
    {
     "output_type": "execute_result",
     "data": {
      "text/plain": [
       "         Date Calories Burned   Steps  Distance  Floors Minutes Sedentary  \\\n",
       "0  2020-01-01           2,736  10,201      4.46       6               633   \n",
       "1  2020-01-02           2,637   9,539      4.25       4               608   \n",
       "2  2020-01-03           2,656  11,394      4.75       5               750   \n",
       "3  2020-01-04           2,934  17,150      7.20       6               541   \n",
       "4  2020-01-05           2,961  18,607      7.82      11               452   \n",
       "\n",
       "   Minutes Lightly Active  Minutes Fairly Active  Minutes Very Active  \\\n",
       "0                     341                     10                   24   \n",
       "1                     292                     31                    2   \n",
       "2                     242                     32                   27   \n",
       "3                     294                     16                   36   \n",
       "4                     270                     18                   48   \n",
       "\n",
       "  Activity Calories  \n",
       "0             1,482  \n",
       "1             1,302  \n",
       "2             1,328  \n",
       "3             1,657  \n",
       "4             1,651  "
      ],
      "text/html": "<div>\n<style scoped>\n    .dataframe tbody tr th:only-of-type {\n        vertical-align: middle;\n    }\n\n    .dataframe tbody tr th {\n        vertical-align: top;\n    }\n\n    .dataframe thead th {\n        text-align: right;\n    }\n</style>\n<table border=\"1\" class=\"dataframe\">\n  <thead>\n    <tr style=\"text-align: right;\">\n      <th></th>\n      <th>Date</th>\n      <th>Calories Burned</th>\n      <th>Steps</th>\n      <th>Distance</th>\n      <th>Floors</th>\n      <th>Minutes Sedentary</th>\n      <th>Minutes Lightly Active</th>\n      <th>Minutes Fairly Active</th>\n      <th>Minutes Very Active</th>\n      <th>Activity Calories</th>\n    </tr>\n  </thead>\n  <tbody>\n    <tr>\n      <th>0</th>\n      <td>2020-01-01</td>\n      <td>2,736</td>\n      <td>10,201</td>\n      <td>4.46</td>\n      <td>6</td>\n      <td>633</td>\n      <td>341</td>\n      <td>10</td>\n      <td>24</td>\n      <td>1,482</td>\n    </tr>\n    <tr>\n      <th>1</th>\n      <td>2020-01-02</td>\n      <td>2,637</td>\n      <td>9,539</td>\n      <td>4.25</td>\n      <td>4</td>\n      <td>608</td>\n      <td>292</td>\n      <td>31</td>\n      <td>2</td>\n      <td>1,302</td>\n    </tr>\n    <tr>\n      <th>2</th>\n      <td>2020-01-03</td>\n      <td>2,656</td>\n      <td>11,394</td>\n      <td>4.75</td>\n      <td>5</td>\n      <td>750</td>\n      <td>242</td>\n      <td>32</td>\n      <td>27</td>\n      <td>1,328</td>\n    </tr>\n    <tr>\n      <th>3</th>\n      <td>2020-01-04</td>\n      <td>2,934</td>\n      <td>17,150</td>\n      <td>7.20</td>\n      <td>6</td>\n      <td>541</td>\n      <td>294</td>\n      <td>16</td>\n      <td>36</td>\n      <td>1,657</td>\n    </tr>\n    <tr>\n      <th>4</th>\n      <td>2020-01-05</td>\n      <td>2,961</td>\n      <td>18,607</td>\n      <td>7.82</td>\n      <td>11</td>\n      <td>452</td>\n      <td>270</td>\n      <td>18</td>\n      <td>48</td>\n      <td>1,651</td>\n    </tr>\n  </tbody>\n</table>\n</div>"
     },
     "metadata": {},
     "execution_count": 3
    }
   ],
   "source": [
    "#Preview the dataset\n",
    "activity.head()"
   ]
  },
  {
   "cell_type": "code",
   "execution_count": 5,
   "metadata": {},
   "outputs": [
    {
     "output_type": "stream",
     "name": "stdout",
     "text": [
      "<class 'pandas.core.frame.DataFrame'>\nRangeIndex: 152 entries, 0 to 151\nData columns (total 10 columns):\n #   Column                  Non-Null Count  Dtype  \n---  ------                  --------------  -----  \n 0   Date                    152 non-null    object \n 1   Calories Burned         152 non-null    object \n 2   Steps                   152 non-null    object \n 3   Distance                152 non-null    float64\n 4   Floors                  152 non-null    int64  \n 5   Minutes Sedentary       152 non-null    object \n 6   Minutes Lightly Active  152 non-null    int64  \n 7   Minutes Fairly Active   152 non-null    int64  \n 8   Minutes Very Active     152 non-null    int64  \n 9   Activity Calories       152 non-null    object \ndtypes: float64(1), int64(4), object(5)\nmemory usage: 12.0+ KB\n"
     ]
    }
   ],
   "source": [
    "#View data types and quality\n",
    "activity.info()"
   ]
  },
  {
   "cell_type": "code",
   "execution_count": 6,
   "metadata": {},
   "outputs": [],
   "source": [
    "#Convert Date column to datetime data type\n",
    "activity['Date'] = pd.to_datetime(activity['Date'])"
   ]
  },
  {
   "cell_type": "code",
   "execution_count": 7,
   "metadata": {},
   "outputs": [],
   "source": [
    "#Function that removes commas from select column values and converts them to integer data type\n",
    "def convertFit(colmz = [], *args):\n",
    "    for i in colmz:\n",
    "        activity[i] = activity[i].replace(',','', regex=True)\n",
    "        activity[i] = activity[i].astype(str).astype(int)"
   ]
  },
  {
   "cell_type": "code",
   "execution_count": 8,
   "metadata": {},
   "outputs": [],
   "source": [
    "#Invoke convertFit function\n",
    "convertFit(['Calories Burned', 'Steps', 'Minutes Sedentary', 'Activity Calories'])"
   ]
  },
  {
   "cell_type": "code",
   "execution_count": 9,
   "metadata": {},
   "outputs": [
    {
     "output_type": "stream",
     "name": "stdout",
     "text": [
      "<class 'pandas.core.frame.DataFrame'>\nRangeIndex: 152 entries, 0 to 151\nData columns (total 10 columns):\n #   Column                  Non-Null Count  Dtype         \n---  ------                  --------------  -----         \n 0   Date                    152 non-null    datetime64[ns]\n 1   Calories Burned         152 non-null    int32         \n 2   Steps                   152 non-null    int32         \n 3   Distance                152 non-null    float64       \n 4   Floors                  152 non-null    int64         \n 5   Minutes Sedentary       152 non-null    int32         \n 6   Minutes Lightly Active  152 non-null    int64         \n 7   Minutes Fairly Active   152 non-null    int64         \n 8   Minutes Very Active     152 non-null    int64         \n 9   Activity Calories       152 non-null    int32         \ndtypes: datetime64[ns](1), float64(1), int32(4), int64(4)\nmemory usage: 9.6 KB\n"
     ]
    }
   ],
   "source": [
    "#View data types and quality\n",
    "activity.info()"
   ]
  },
  {
   "cell_type": "code",
   "execution_count": 10,
   "metadata": {},
   "outputs": [],
   "source": [
    "#Rename Minute Active columns to be more descriptive\n",
    "activity.rename(columns={'Minutes Lightly Active': 'Minutes Lightly Active(Fat Burn)', 'Minutes Fairly Active': 'Minutes Fairly Active(Cardio)', 'Minutes Very Active': 'Minutes Very Active(Peak)'}, inplace=True)"
   ]
  },
  {
   "cell_type": "code",
   "execution_count": 11,
   "metadata": {},
   "outputs": [
    {
     "output_type": "execute_result",
     "data": {
      "text/plain": [
       "Empty DataFrame\n",
       "Columns: [Date, Calories Burned, Steps, Distance, Floors, Minutes Sedentary, Minutes Lightly Active(Fat Burn), Minutes Fairly Active(Cardio), Minutes Very Active(Peak), Activity Calories]\n",
       "Index: []"
      ],
      "text/html": "<div>\n<style scoped>\n    .dataframe tbody tr th:only-of-type {\n        vertical-align: middle;\n    }\n\n    .dataframe tbody tr th {\n        vertical-align: top;\n    }\n\n    .dataframe thead th {\n        text-align: right;\n    }\n</style>\n<table border=\"1\" class=\"dataframe\">\n  <thead>\n    <tr style=\"text-align: right;\">\n      <th></th>\n      <th>Date</th>\n      <th>Calories Burned</th>\n      <th>Steps</th>\n      <th>Distance</th>\n      <th>Floors</th>\n      <th>Minutes Sedentary</th>\n      <th>Minutes Lightly Active(Fat Burn)</th>\n      <th>Minutes Fairly Active(Cardio)</th>\n      <th>Minutes Very Active(Peak)</th>\n      <th>Activity Calories</th>\n    </tr>\n  </thead>\n  <tbody>\n  </tbody>\n</table>\n</div>"
     },
     "metadata": {},
     "execution_count": 11
    }
   ],
   "source": [
    "#Check for missing values\n",
    "activity[activity.isnull().any(axis=1)]"
   ]
  },
  {
   "cell_type": "code",
   "execution_count": 12,
   "metadata": {},
   "outputs": [
    {
     "output_type": "stream",
     "name": "stdout",
     "text": [
      "<class 'pandas.core.frame.DataFrame'>\nRangeIndex: 152 entries, 0 to 151\nData columns (total 10 columns):\n #   Column                            Non-Null Count  Dtype         \n---  ------                            --------------  -----         \n 0   Date                              152 non-null    datetime64[ns]\n 1   Calories Burned                   152 non-null    int32         \n 2   Steps                             152 non-null    int32         \n 3   Distance                          152 non-null    float64       \n 4   Floors                            152 non-null    int64         \n 5   Minutes Sedentary                 152 non-null    int32         \n 6   Minutes Lightly Active(Fat Burn)  152 non-null    int64         \n 7   Minutes Fairly Active(Cardio)     152 non-null    int64         \n 8   Minutes Very Active(Peak)         152 non-null    int64         \n 9   Activity Calories                 152 non-null    int32         \ndtypes: datetime64[ns](1), float64(1), int32(4), int64(4)\nmemory usage: 9.6 KB\n"
     ]
    }
   ],
   "source": [
    "#View data types and quality\n",
    "activity.info()"
   ]
  },
  {
   "cell_type": "code",
   "execution_count": 13,
   "metadata": {},
   "outputs": [
    {
     "output_type": "execute_result",
     "data": {
      "text/plain": [
       "          Date  Calories Burned  Steps  Distance  Floors  Minutes Sedentary  \\\n",
       "0   2020-01-01             2736  10201      4.46       6                633   \n",
       "1   2020-01-02             2637   9539      4.25       4                608   \n",
       "2   2020-01-03             2656  11394      4.75       5                750   \n",
       "3   2020-01-04             2934  17150      7.20       6                541   \n",
       "4   2020-01-05             2961  18607      7.82      11                452   \n",
       "..         ...              ...    ...       ...     ...                ...   \n",
       "147 2020-05-27             2330   7850      3.49       4                803   \n",
       "148 2020-05-28             3027  13189      8.61      45                706   \n",
       "149 2020-05-29             2965  14866      8.39      22                699   \n",
       "150 2020-05-30             2863  13723      8.38      17                612   \n",
       "151 2020-05-31             2131   4839      2.16       3                593   \n",
       "\n",
       "     Minutes Lightly Active(Fat Burn)  Minutes Fairly Active(Cardio)  \\\n",
       "0                                 341                             10   \n",
       "1                                 292                             31   \n",
       "2                                 242                             32   \n",
       "3                                 294                             16   \n",
       "4                                 270                             18   \n",
       "..                                ...                            ...   \n",
       "147                               277                              5   \n",
       "148                               276                             15   \n",
       "149                               304                              9   \n",
       "150                               299                             32   \n",
       "151                               236                              0   \n",
       "\n",
       "     Minutes Very Active(Peak)  Activity Calories  \n",
       "0                           24               1482  \n",
       "1                            2               1302  \n",
       "2                           27               1328  \n",
       "3                           36               1657  \n",
       "4                           48               1651  \n",
       "..                         ...                ...  \n",
       "147                          0                996  \n",
       "148                         57               1736  \n",
       "149                         55               1726  \n",
       "150                         31               1626  \n",
       "151                          0                761  \n",
       "\n",
       "[152 rows x 10 columns]"
      ],
      "text/html": "<div>\n<style scoped>\n    .dataframe tbody tr th:only-of-type {\n        vertical-align: middle;\n    }\n\n    .dataframe tbody tr th {\n        vertical-align: top;\n    }\n\n    .dataframe thead th {\n        text-align: right;\n    }\n</style>\n<table border=\"1\" class=\"dataframe\">\n  <thead>\n    <tr style=\"text-align: right;\">\n      <th></th>\n      <th>Date</th>\n      <th>Calories Burned</th>\n      <th>Steps</th>\n      <th>Distance</th>\n      <th>Floors</th>\n      <th>Minutes Sedentary</th>\n      <th>Minutes Lightly Active(Fat Burn)</th>\n      <th>Minutes Fairly Active(Cardio)</th>\n      <th>Minutes Very Active(Peak)</th>\n      <th>Activity Calories</th>\n    </tr>\n  </thead>\n  <tbody>\n    <tr>\n      <th>0</th>\n      <td>2020-01-01</td>\n      <td>2736</td>\n      <td>10201</td>\n      <td>4.46</td>\n      <td>6</td>\n      <td>633</td>\n      <td>341</td>\n      <td>10</td>\n      <td>24</td>\n      <td>1482</td>\n    </tr>\n    <tr>\n      <th>1</th>\n      <td>2020-01-02</td>\n      <td>2637</td>\n      <td>9539</td>\n      <td>4.25</td>\n      <td>4</td>\n      <td>608</td>\n      <td>292</td>\n      <td>31</td>\n      <td>2</td>\n      <td>1302</td>\n    </tr>\n    <tr>\n      <th>2</th>\n      <td>2020-01-03</td>\n      <td>2656</td>\n      <td>11394</td>\n      <td>4.75</td>\n      <td>5</td>\n      <td>750</td>\n      <td>242</td>\n      <td>32</td>\n      <td>27</td>\n      <td>1328</td>\n    </tr>\n    <tr>\n      <th>3</th>\n      <td>2020-01-04</td>\n      <td>2934</td>\n      <td>17150</td>\n      <td>7.20</td>\n      <td>6</td>\n      <td>541</td>\n      <td>294</td>\n      <td>16</td>\n      <td>36</td>\n      <td>1657</td>\n    </tr>\n    <tr>\n      <th>4</th>\n      <td>2020-01-05</td>\n      <td>2961</td>\n      <td>18607</td>\n      <td>7.82</td>\n      <td>11</td>\n      <td>452</td>\n      <td>270</td>\n      <td>18</td>\n      <td>48</td>\n      <td>1651</td>\n    </tr>\n    <tr>\n      <th>...</th>\n      <td>...</td>\n      <td>...</td>\n      <td>...</td>\n      <td>...</td>\n      <td>...</td>\n      <td>...</td>\n      <td>...</td>\n      <td>...</td>\n      <td>...</td>\n      <td>...</td>\n    </tr>\n    <tr>\n      <th>147</th>\n      <td>2020-05-27</td>\n      <td>2330</td>\n      <td>7850</td>\n      <td>3.49</td>\n      <td>4</td>\n      <td>803</td>\n      <td>277</td>\n      <td>5</td>\n      <td>0</td>\n      <td>996</td>\n    </tr>\n    <tr>\n      <th>148</th>\n      <td>2020-05-28</td>\n      <td>3027</td>\n      <td>13189</td>\n      <td>8.61</td>\n      <td>45</td>\n      <td>706</td>\n      <td>276</td>\n      <td>15</td>\n      <td>57</td>\n      <td>1736</td>\n    </tr>\n    <tr>\n      <th>149</th>\n      <td>2020-05-29</td>\n      <td>2965</td>\n      <td>14866</td>\n      <td>8.39</td>\n      <td>22</td>\n      <td>699</td>\n      <td>304</td>\n      <td>9</td>\n      <td>55</td>\n      <td>1726</td>\n    </tr>\n    <tr>\n      <th>150</th>\n      <td>2020-05-30</td>\n      <td>2863</td>\n      <td>13723</td>\n      <td>8.38</td>\n      <td>17</td>\n      <td>612</td>\n      <td>299</td>\n      <td>32</td>\n      <td>31</td>\n      <td>1626</td>\n    </tr>\n    <tr>\n      <th>151</th>\n      <td>2020-05-31</td>\n      <td>2131</td>\n      <td>4839</td>\n      <td>2.16</td>\n      <td>3</td>\n      <td>593</td>\n      <td>236</td>\n      <td>0</td>\n      <td>0</td>\n      <td>761</td>\n    </tr>\n  </tbody>\n</table>\n<p>152 rows × 10 columns</p>\n</div>"
     },
     "metadata": {},
     "execution_count": 13
    }
   ],
   "source": [
    "#Preivew dataset\n",
    "activity"
   ]
  },
  {
   "cell_type": "code",
   "execution_count": 12,
   "metadata": {},
   "outputs": [],
   "source": [
    "activity.to_csv('Clean_Activity_Data(Jan-May).csv', index=False)"
   ]
  },
  {
   "cell_type": "code",
   "execution_count": null,
   "metadata": {},
   "outputs": [],
   "source": []
  }
 ],
 "metadata": {
  "kernelspec": {
   "display_name": "Python 3",
   "language": "python",
   "name": "python3"
  },
  "language_info": {
   "codemirror_mode": {
    "name": "ipython",
    "version": 3
   },
   "file_extension": ".py",
   "mimetype": "text/x-python",
   "name": "python",
   "nbconvert_exporter": "python",
   "pygments_lexer": "ipython3",
   "version": "3.8.5-final"
  }
 },
 "nbformat": 4,
 "nbformat_minor": 4
}