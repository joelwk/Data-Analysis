{
 "metadata": {
  "language_info": {
   "codemirror_mode": {
    "name": "ipython",
    "version": 3
   },
   "file_extension": ".py",
   "mimetype": "text/x-python",
   "name": "python",
   "nbconvert_exporter": "python",
   "pygments_lexer": "ipython3",
   "version": "3.8.5-final"
  },
  "orig_nbformat": 2,
  "kernelspec": {
   "name": "python3",
   "display_name": "Python 3",
   "language": "python"
  }
 },
 "nbformat": 4,
 "nbformat_minor": 2,
 "cells": [
  {
   "cell_type": "code",
   "execution_count": 10,
   "metadata": {},
   "outputs": [],
   "source": [
    "import pandas as pd\n",
    "import numpy as np\n",
    "import glob\n",
    "import csv"
   ]
  },
  {
   "cell_type": "code",
   "execution_count": 11,
   "metadata": {},
   "outputs": [],
   "source": [
    "path = r\"C:\\Users\\jwkon\\Data Learning\\FitData\\Fit_Project(Jun-Dec)\\Raw_Data\"\n",
    "allFiles = glob.glob(os.path.join(path,\"*.csv\"))\n",
    "\n",
    "file = []\n",
    "rows = []\n",
    "for f in allFiles:\n",
    "    with open(f, 'r') as csvfile:\n",
    "        csvfile = csvfile.read().split('\\n')\n",
    "        csvreader = csv.reader(csvfile)\n",
    "        fields = next(csvreader)\n",
    "        for row in csvreader:\n",
    "            rows.append(row)\n",
    "data = pd.DataFrame(rows)"
   ]
  },
  {
   "cell_type": "code",
   "execution_count": 12,
   "metadata": {},
   "outputs": [
    {
     "output_type": "execute_result",
     "data": {
      "text/plain": [
       "              0      1       2     3   4      5    6   7   8      9\n",
       "1    2020-08-01  2,733  11,524  7.17  36    758  207  15  42  1,299\n",
       "2    2020-08-02  2,125   5,016  2.23   4    880  221   0   0    730\n",
       "3    2020-08-03  1,998   3,466  1.51   4    820  173   0   0    560\n",
       "4    2020-08-04  2,569   8,709  4.95  18    733  252  33  24  1,272\n",
       "5    2020-08-05  2,963  13,354  7.94   9    700  236  18  54  1,673\n",
       "..          ...    ...     ...   ...  ..    ...  ...  ..  ..    ...\n",
       "426  2020-09-26  2,928  11,203  7.28  30    792  257  29  40  1,582\n",
       "427  2020-09-27  2,572  10,241  6.41  18    755  232   1  41  1,262\n",
       "428  2020-09-28  2,135   3,820   1.7   6    758  216   0   0    700\n",
       "429  2020-09-29  2,180   5,380  2.39   4    682  248   0   0    817\n",
       "430  2020-09-30  2,086   4,216  1.86   6  1,238  202   0   0    655\n",
       "\n",
       "[208 rows x 10 columns]"
      ],
      "text/html": "<div>\n<style scoped>\n    .dataframe tbody tr th:only-of-type {\n        vertical-align: middle;\n    }\n\n    .dataframe tbody tr th {\n        vertical-align: top;\n    }\n\n    .dataframe thead th {\n        text-align: right;\n    }\n</style>\n<table border=\"1\" class=\"dataframe\">\n  <thead>\n    <tr style=\"text-align: right;\">\n      <th></th>\n      <th>0</th>\n      <th>1</th>\n      <th>2</th>\n      <th>3</th>\n      <th>4</th>\n      <th>5</th>\n      <th>6</th>\n      <th>7</th>\n      <th>8</th>\n      <th>9</th>\n    </tr>\n  </thead>\n  <tbody>\n    <tr>\n      <th>1</th>\n      <td>2020-08-01</td>\n      <td>2,733</td>\n      <td>11,524</td>\n      <td>7.17</td>\n      <td>36</td>\n      <td>758</td>\n      <td>207</td>\n      <td>15</td>\n      <td>42</td>\n      <td>1,299</td>\n    </tr>\n    <tr>\n      <th>2</th>\n      <td>2020-08-02</td>\n      <td>2,125</td>\n      <td>5,016</td>\n      <td>2.23</td>\n      <td>4</td>\n      <td>880</td>\n      <td>221</td>\n      <td>0</td>\n      <td>0</td>\n      <td>730</td>\n    </tr>\n    <tr>\n      <th>3</th>\n      <td>2020-08-03</td>\n      <td>1,998</td>\n      <td>3,466</td>\n      <td>1.51</td>\n      <td>4</td>\n      <td>820</td>\n      <td>173</td>\n      <td>0</td>\n      <td>0</td>\n      <td>560</td>\n    </tr>\n    <tr>\n      <th>4</th>\n      <td>2020-08-04</td>\n      <td>2,569</td>\n      <td>8,709</td>\n      <td>4.95</td>\n      <td>18</td>\n      <td>733</td>\n      <td>252</td>\n      <td>33</td>\n      <td>24</td>\n      <td>1,272</td>\n    </tr>\n    <tr>\n      <th>5</th>\n      <td>2020-08-05</td>\n      <td>2,963</td>\n      <td>13,354</td>\n      <td>7.94</td>\n      <td>9</td>\n      <td>700</td>\n      <td>236</td>\n      <td>18</td>\n      <td>54</td>\n      <td>1,673</td>\n    </tr>\n    <tr>\n      <th>...</th>\n      <td>...</td>\n      <td>...</td>\n      <td>...</td>\n      <td>...</td>\n      <td>...</td>\n      <td>...</td>\n      <td>...</td>\n      <td>...</td>\n      <td>...</td>\n      <td>...</td>\n    </tr>\n    <tr>\n      <th>426</th>\n      <td>2020-09-26</td>\n      <td>2,928</td>\n      <td>11,203</td>\n      <td>7.28</td>\n      <td>30</td>\n      <td>792</td>\n      <td>257</td>\n      <td>29</td>\n      <td>40</td>\n      <td>1,582</td>\n    </tr>\n    <tr>\n      <th>427</th>\n      <td>2020-09-27</td>\n      <td>2,572</td>\n      <td>10,241</td>\n      <td>6.41</td>\n      <td>18</td>\n      <td>755</td>\n      <td>232</td>\n      <td>1</td>\n      <td>41</td>\n      <td>1,262</td>\n    </tr>\n    <tr>\n      <th>428</th>\n      <td>2020-09-28</td>\n      <td>2,135</td>\n      <td>3,820</td>\n      <td>1.7</td>\n      <td>6</td>\n      <td>758</td>\n      <td>216</td>\n      <td>0</td>\n      <td>0</td>\n      <td>700</td>\n    </tr>\n    <tr>\n      <th>429</th>\n      <td>2020-09-29</td>\n      <td>2,180</td>\n      <td>5,380</td>\n      <td>2.39</td>\n      <td>4</td>\n      <td>682</td>\n      <td>248</td>\n      <td>0</td>\n      <td>0</td>\n      <td>817</td>\n    </tr>\n    <tr>\n      <th>430</th>\n      <td>2020-09-30</td>\n      <td>2,086</td>\n      <td>4,216</td>\n      <td>1.86</td>\n      <td>6</td>\n      <td>1,238</td>\n      <td>202</td>\n      <td>0</td>\n      <td>0</td>\n      <td>655</td>\n    </tr>\n  </tbody>\n</table>\n<p>208 rows × 10 columns</p>\n</div>"
     },
     "metadata": {},
     "execution_count": 12
    }
   ],
   "source": [
    "#Locate activity data in csv import & select Months of interest\n",
    "not_activity = data[-data[0].str.contains('AM|PM', na=False)]\n",
    "activity = not_activity[not_activity[0].str.contains('2020-06|2020-07|2020-08|2020-09|2020-10|2020-11|2020-12', na=False)]\n",
    "activity"
   ]
  },
  {
   "cell_type": "code",
   "execution_count": 13,
   "metadata": {},
   "outputs": [
    {
     "output_type": "execute_result",
     "data": {
      "text/plain": [
       "              0      1       2     3   4    5    6   7   8      9\n",
       "204  2020-06-01  2,648  11,205   6.6  18  771  255  22  24  1,331\n",
       "205  2020-06-02  3,118  13,109  8.07  38  602  227  43  74  1,807\n",
       "206  2020-06-03  2,794  12,708  8.36  37  934  262  15  47  1,531\n",
       "207  2020-06-04  3,221  17,513  8.62  10  848  275  57  72  2,009\n",
       "208  2020-06-05  2,789   7,922  3.53   7  761  343  14  21  1,519\n",
       "..          ...    ...     ...   ...  ..  ...  ...  ..  ..    ...\n",
       "93   2020-12-21  2,416   7,184  3.16   2  856  266  19   4  1,100\n",
       "94   2020-12-22  2,217   5,625   2.5   7  743  253   0   0    859\n",
       "95   2020-12-23  3,155   7,072  3.12   1  700  402  50  29  2,039\n",
       "96   2020-12-24  2,609   7,911  3.51   2  668  343   0   0  1,273\n",
       "97   2020-12-25    594     298  0.13   0  220   21   0   0     61\n",
       "\n",
       "[208 rows x 10 columns]"
      ],
      "text/html": "<div>\n<style scoped>\n    .dataframe tbody tr th:only-of-type {\n        vertical-align: middle;\n    }\n\n    .dataframe tbody tr th {\n        vertical-align: top;\n    }\n\n    .dataframe thead th {\n        text-align: right;\n    }\n</style>\n<table border=\"1\" class=\"dataframe\">\n  <thead>\n    <tr style=\"text-align: right;\">\n      <th></th>\n      <th>0</th>\n      <th>1</th>\n      <th>2</th>\n      <th>3</th>\n      <th>4</th>\n      <th>5</th>\n      <th>6</th>\n      <th>7</th>\n      <th>8</th>\n      <th>9</th>\n    </tr>\n  </thead>\n  <tbody>\n    <tr>\n      <th>204</th>\n      <td>2020-06-01</td>\n      <td>2,648</td>\n      <td>11,205</td>\n      <td>6.6</td>\n      <td>18</td>\n      <td>771</td>\n      <td>255</td>\n      <td>22</td>\n      <td>24</td>\n      <td>1,331</td>\n    </tr>\n    <tr>\n      <th>205</th>\n      <td>2020-06-02</td>\n      <td>3,118</td>\n      <td>13,109</td>\n      <td>8.07</td>\n      <td>38</td>\n      <td>602</td>\n      <td>227</td>\n      <td>43</td>\n      <td>74</td>\n      <td>1,807</td>\n    </tr>\n    <tr>\n      <th>206</th>\n      <td>2020-06-03</td>\n      <td>2,794</td>\n      <td>12,708</td>\n      <td>8.36</td>\n      <td>37</td>\n      <td>934</td>\n      <td>262</td>\n      <td>15</td>\n      <td>47</td>\n      <td>1,531</td>\n    </tr>\n    <tr>\n      <th>207</th>\n      <td>2020-06-04</td>\n      <td>3,221</td>\n      <td>17,513</td>\n      <td>8.62</td>\n      <td>10</td>\n      <td>848</td>\n      <td>275</td>\n      <td>57</td>\n      <td>72</td>\n      <td>2,009</td>\n    </tr>\n    <tr>\n      <th>208</th>\n      <td>2020-06-05</td>\n      <td>2,789</td>\n      <td>7,922</td>\n      <td>3.53</td>\n      <td>7</td>\n      <td>761</td>\n      <td>343</td>\n      <td>14</td>\n      <td>21</td>\n      <td>1,519</td>\n    </tr>\n    <tr>\n      <th>...</th>\n      <td>...</td>\n      <td>...</td>\n      <td>...</td>\n      <td>...</td>\n      <td>...</td>\n      <td>...</td>\n      <td>...</td>\n      <td>...</td>\n      <td>...</td>\n      <td>...</td>\n    </tr>\n    <tr>\n      <th>93</th>\n      <td>2020-12-21</td>\n      <td>2,416</td>\n      <td>7,184</td>\n      <td>3.16</td>\n      <td>2</td>\n      <td>856</td>\n      <td>266</td>\n      <td>19</td>\n      <td>4</td>\n      <td>1,100</td>\n    </tr>\n    <tr>\n      <th>94</th>\n      <td>2020-12-22</td>\n      <td>2,217</td>\n      <td>5,625</td>\n      <td>2.5</td>\n      <td>7</td>\n      <td>743</td>\n      <td>253</td>\n      <td>0</td>\n      <td>0</td>\n      <td>859</td>\n    </tr>\n    <tr>\n      <th>95</th>\n      <td>2020-12-23</td>\n      <td>3,155</td>\n      <td>7,072</td>\n      <td>3.12</td>\n      <td>1</td>\n      <td>700</td>\n      <td>402</td>\n      <td>50</td>\n      <td>29</td>\n      <td>2,039</td>\n    </tr>\n    <tr>\n      <th>96</th>\n      <td>2020-12-24</td>\n      <td>2,609</td>\n      <td>7,911</td>\n      <td>3.51</td>\n      <td>2</td>\n      <td>668</td>\n      <td>343</td>\n      <td>0</td>\n      <td>0</td>\n      <td>1,273</td>\n    </tr>\n    <tr>\n      <th>97</th>\n      <td>2020-12-25</td>\n      <td>594</td>\n      <td>298</td>\n      <td>0.13</td>\n      <td>0</td>\n      <td>220</td>\n      <td>21</td>\n      <td>0</td>\n      <td>0</td>\n      <td>61</td>\n    </tr>\n  </tbody>\n</table>\n<p>208 rows × 10 columns</p>\n</div>"
     },
     "metadata": {},
     "execution_count": 13
    }
   ],
   "source": [
    "#Sort values ascending\n",
    "activity.sort_values(by=[0], inplace=True, ascending=True)\n",
    "activity"
   ]
  },
  {
   "cell_type": "code",
   "execution_count": 14,
   "metadata": {},
   "outputs": [],
   "source": [
    "#Set column header and reset index\n",
    "activity.columns = [data.iloc[0]]\n",
    "activity = activity.reset_index(drop=True)"
   ]
  },
  {
   "cell_type": "code",
   "execution_count": 15,
   "metadata": {},
   "outputs": [
    {
     "output_type": "execute_result",
     "data": {
      "text/plain": [
       "0          Date Calories Burned   Steps Distance Floors Minutes Sedentary  \\\n",
       "0    2020-06-01           2,648  11,205      6.6     18               771   \n",
       "1    2020-06-02           3,118  13,109     8.07     38               602   \n",
       "2    2020-06-03           2,794  12,708     8.36     37               934   \n",
       "3    2020-06-04           3,221  17,513     8.62     10               848   \n",
       "4    2020-06-05           2,789   7,922     3.53      7               761   \n",
       "..          ...             ...     ...      ...    ...               ...   \n",
       "203  2020-12-21           2,416   7,184     3.16      2               856   \n",
       "204  2020-12-22           2,217   5,625      2.5      7               743   \n",
       "205  2020-12-23           3,155   7,072     3.12      1               700   \n",
       "206  2020-12-24           2,609   7,911     3.51      2               668   \n",
       "207  2020-12-25             594     298     0.13      0               220   \n",
       "\n",
       "0   Minutes Lightly Active Minutes Fairly Active Minutes Very Active  \\\n",
       "0                      255                    22                  24   \n",
       "1                      227                    43                  74   \n",
       "2                      262                    15                  47   \n",
       "3                      275                    57                  72   \n",
       "4                      343                    14                  21   \n",
       "..                     ...                   ...                 ...   \n",
       "203                    266                    19                   4   \n",
       "204                    253                     0                   0   \n",
       "205                    402                    50                  29   \n",
       "206                    343                     0                   0   \n",
       "207                     21                     0                   0   \n",
       "\n",
       "0   Activity Calories  \n",
       "0               1,331  \n",
       "1               1,807  \n",
       "2               1,531  \n",
       "3               2,009  \n",
       "4               1,519  \n",
       "..                ...  \n",
       "203             1,100  \n",
       "204               859  \n",
       "205             2,039  \n",
       "206             1,273  \n",
       "207                61  \n",
       "\n",
       "[208 rows x 10 columns]"
      ],
      "text/html": "<div>\n<style scoped>\n    .dataframe tbody tr th:only-of-type {\n        vertical-align: middle;\n    }\n\n    .dataframe tbody tr th {\n        vertical-align: top;\n    }\n\n    .dataframe thead tr th {\n        text-align: left;\n    }\n</style>\n<table border=\"1\" class=\"dataframe\">\n  <thead>\n    <tr>\n      <th></th>\n      <th>Date</th>\n      <th>Calories Burned</th>\n      <th>Steps</th>\n      <th>Distance</th>\n      <th>Floors</th>\n      <th>Minutes Sedentary</th>\n      <th>Minutes Lightly Active</th>\n      <th>Minutes Fairly Active</th>\n      <th>Minutes Very Active</th>\n      <th>Activity Calories</th>\n    </tr>\n  </thead>\n  <tbody>\n    <tr>\n      <th>0</th>\n      <td>2020-06-01</td>\n      <td>2,648</td>\n      <td>11,205</td>\n      <td>6.6</td>\n      <td>18</td>\n      <td>771</td>\n      <td>255</td>\n      <td>22</td>\n      <td>24</td>\n      <td>1,331</td>\n    </tr>\n    <tr>\n      <th>1</th>\n      <td>2020-06-02</td>\n      <td>3,118</td>\n      <td>13,109</td>\n      <td>8.07</td>\n      <td>38</td>\n      <td>602</td>\n      <td>227</td>\n      <td>43</td>\n      <td>74</td>\n      <td>1,807</td>\n    </tr>\n    <tr>\n      <th>2</th>\n      <td>2020-06-03</td>\n      <td>2,794</td>\n      <td>12,708</td>\n      <td>8.36</td>\n      <td>37</td>\n      <td>934</td>\n      <td>262</td>\n      <td>15</td>\n      <td>47</td>\n      <td>1,531</td>\n    </tr>\n    <tr>\n      <th>3</th>\n      <td>2020-06-04</td>\n      <td>3,221</td>\n      <td>17,513</td>\n      <td>8.62</td>\n      <td>10</td>\n      <td>848</td>\n      <td>275</td>\n      <td>57</td>\n      <td>72</td>\n      <td>2,009</td>\n    </tr>\n    <tr>\n      <th>4</th>\n      <td>2020-06-05</td>\n      <td>2,789</td>\n      <td>7,922</td>\n      <td>3.53</td>\n      <td>7</td>\n      <td>761</td>\n      <td>343</td>\n      <td>14</td>\n      <td>21</td>\n      <td>1,519</td>\n    </tr>\n    <tr>\n      <th>...</th>\n      <td>...</td>\n      <td>...</td>\n      <td>...</td>\n      <td>...</td>\n      <td>...</td>\n      <td>...</td>\n      <td>...</td>\n      <td>...</td>\n      <td>...</td>\n      <td>...</td>\n    </tr>\n    <tr>\n      <th>203</th>\n      <td>2020-12-21</td>\n      <td>2,416</td>\n      <td>7,184</td>\n      <td>3.16</td>\n      <td>2</td>\n      <td>856</td>\n      <td>266</td>\n      <td>19</td>\n      <td>4</td>\n      <td>1,100</td>\n    </tr>\n    <tr>\n      <th>204</th>\n      <td>2020-12-22</td>\n      <td>2,217</td>\n      <td>5,625</td>\n      <td>2.5</td>\n      <td>7</td>\n      <td>743</td>\n      <td>253</td>\n      <td>0</td>\n      <td>0</td>\n      <td>859</td>\n    </tr>\n    <tr>\n      <th>205</th>\n      <td>2020-12-23</td>\n      <td>3,155</td>\n      <td>7,072</td>\n      <td>3.12</td>\n      <td>1</td>\n      <td>700</td>\n      <td>402</td>\n      <td>50</td>\n      <td>29</td>\n      <td>2,039</td>\n    </tr>\n    <tr>\n      <th>206</th>\n      <td>2020-12-24</td>\n      <td>2,609</td>\n      <td>7,911</td>\n      <td>3.51</td>\n      <td>2</td>\n      <td>668</td>\n      <td>343</td>\n      <td>0</td>\n      <td>0</td>\n      <td>1,273</td>\n    </tr>\n    <tr>\n      <th>207</th>\n      <td>2020-12-25</td>\n      <td>594</td>\n      <td>298</td>\n      <td>0.13</td>\n      <td>0</td>\n      <td>220</td>\n      <td>21</td>\n      <td>0</td>\n      <td>0</td>\n      <td>61</td>\n    </tr>\n  </tbody>\n</table>\n<p>208 rows × 10 columns</p>\n</div>"
     },
     "metadata": {},
     "execution_count": 15
    }
   ],
   "source": [
    "#Verify dataframe has correct number of rows and months of interest\n",
    "activity"
   ]
  },
  {
   "cell_type": "code",
   "execution_count": 16,
   "metadata": {},
   "outputs": [],
   "source": [
    "activity.to_csv('Organized_Activity_Data(Jun-Dec).csv', index=False)"
   ]
  },
  {
   "cell_type": "code",
   "execution_count": null,
   "metadata": {},
   "outputs": [],
   "source": []
  }
 ]
}