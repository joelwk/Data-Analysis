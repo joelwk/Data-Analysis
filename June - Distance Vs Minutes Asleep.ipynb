{
 "cells": [
  {
   "cell_type": "code",
   "execution_count": 6,
   "metadata": {},
   "outputs": [],
   "source": [
    "import numpy as np\n",
    "import csv\n",
    "import sys\n",
    "import plotly.express as pxl\n",
    "import os\n",
    "import autoviz\n",
    "import pandas as pd\n",
    "import matplotlib.pyplot as plt\n",
    "import statsmodels.api as sm\n",
    "import seaborn as sns\n",
    "import seaborn as sns\n",
    "sns.set()\n",
    "from sklearn.linear_model import LinearRegression"
   ]
  },
  {
   "cell_type": "code",
   "execution_count": 7,
   "metadata": {},
   "outputs": [],
   "source": [
    "filename = 'June.csv'"
   ]
  },
  {
   "cell_type": "code",
   "execution_count": 8,
   "metadata": {},
   "outputs": [],
   "source": [
    "fields = []\n",
    "rows = []\n",
    "\n",
    "with open('June.csv', 'r') as csvfile:\n",
    "    csvfile = csvfile.read().split('\\n')\n",
    "    csvreader = csv.reader(csvfile)\n",
    "    fields = next(csvreader)\n",
    "    for row in csvreader:\n",
    "        rows.append(row)\n",
    "data_o = pd.DataFrame(rows)"
   ]
  },
  {
   "cell_type": "code",
   "execution_count": 9,
   "metadata": {},
   "outputs": [
    {
     "data": {
      "text/html": [
       "<div>\n",
       "<style scoped>\n",
       "    .dataframe tbody tr th:only-of-type {\n",
       "        vertical-align: middle;\n",
       "    }\n",
       "\n",
       "    .dataframe tbody tr th {\n",
       "        vertical-align: top;\n",
       "    }\n",
       "\n",
       "    .dataframe thead th {\n",
       "        text-align: right;\n",
       "    }\n",
       "</style>\n",
       "<table border=\"1\" class=\"dataframe\">\n",
       "  <thead>\n",
       "    <tr style=\"text-align: right;\">\n",
       "      <th></th>\n",
       "      <th>0</th>\n",
       "      <th>1</th>\n",
       "      <th>2</th>\n",
       "      <th>3</th>\n",
       "      <th>4</th>\n",
       "      <th>5</th>\n",
       "      <th>6</th>\n",
       "      <th>7</th>\n",
       "      <th>8</th>\n",
       "      <th>9</th>\n",
       "    </tr>\n",
       "  </thead>\n",
       "  <tbody>\n",
       "  </tbody>\n",
       "</table>\n",
       "</div>"
      ],
      "text/plain": [
       "Empty DataFrame\n",
       "Columns: [0, 1, 2, 3, 4, 5, 6, 7, 8, 9]\n",
       "Index: []"
      ]
     },
     "execution_count": 9,
     "metadata": {},
     "output_type": "execute_result"
    }
   ],
   "source": [
    "#locate Activities Data\n",
    "df = data_o[data_o.eq('Activities').any(axis=1)]\n",
    "df"
   ]
  },
  {
   "cell_type": "code",
   "execution_count": 10,
   "metadata": {},
   "outputs": [],
   "source": [
    "#Set dataframe with header of activities and following array\n",
    "data_ah = data_o.iloc[0]\n",
    "data_ab = data_o.iloc[1:31]\n",
    "data = np.array(data_ab)\n",
    "data = pd.DataFrame(data, columns=data_ah)\n",
    "activ = data.replace(',','', regex=True)"
   ]
  },
  {
   "cell_type": "code",
   "execution_count": 11,
   "metadata": {},
   "outputs": [
    {
     "data": {
      "text/html": [
       "<div>\n",
       "<style scoped>\n",
       "    .dataframe tbody tr th:only-of-type {\n",
       "        vertical-align: middle;\n",
       "    }\n",
       "\n",
       "    .dataframe tbody tr th {\n",
       "        vertical-align: top;\n",
       "    }\n",
       "\n",
       "    .dataframe thead th {\n",
       "        text-align: right;\n",
       "    }\n",
       "</style>\n",
       "<table border=\"1\" class=\"dataframe\">\n",
       "  <thead>\n",
       "    <tr style=\"text-align: right;\">\n",
       "      <th></th>\n",
       "      <th>Date</th>\n",
       "      <th>Calories Burned</th>\n",
       "      <th>Steps</th>\n",
       "      <th>Distance</th>\n",
       "      <th>Floors</th>\n",
       "      <th>Minutes Sedentary</th>\n",
       "      <th>Minutes Lightly Active</th>\n",
       "      <th>Minutes Fairly Active</th>\n",
       "      <th>Minutes Very Active</th>\n",
       "      <th>Activity Calories</th>\n",
       "    </tr>\n",
       "  </thead>\n",
       "  <tbody>\n",
       "    <tr>\n",
       "      <th>0</th>\n",
       "      <td>2020-06-01</td>\n",
       "      <td>2648</td>\n",
       "      <td>11205</td>\n",
       "      <td>6.6</td>\n",
       "      <td>18</td>\n",
       "      <td>771</td>\n",
       "      <td>255</td>\n",
       "      <td>22</td>\n",
       "      <td>24</td>\n",
       "      <td>1331</td>\n",
       "    </tr>\n",
       "    <tr>\n",
       "      <th>1</th>\n",
       "      <td>2020-06-02</td>\n",
       "      <td>3118</td>\n",
       "      <td>13109</td>\n",
       "      <td>8.07</td>\n",
       "      <td>38</td>\n",
       "      <td>602</td>\n",
       "      <td>227</td>\n",
       "      <td>43</td>\n",
       "      <td>74</td>\n",
       "      <td>1807</td>\n",
       "    </tr>\n",
       "    <tr>\n",
       "      <th>2</th>\n",
       "      <td>2020-06-03</td>\n",
       "      <td>2794</td>\n",
       "      <td>12708</td>\n",
       "      <td>8.36</td>\n",
       "      <td>37</td>\n",
       "      <td>934</td>\n",
       "      <td>262</td>\n",
       "      <td>15</td>\n",
       "      <td>47</td>\n",
       "      <td>1531</td>\n",
       "    </tr>\n",
       "    <tr>\n",
       "      <th>3</th>\n",
       "      <td>2020-06-04</td>\n",
       "      <td>3221</td>\n",
       "      <td>17513</td>\n",
       "      <td>8.62</td>\n",
       "      <td>10</td>\n",
       "      <td>848</td>\n",
       "      <td>275</td>\n",
       "      <td>57</td>\n",
       "      <td>72</td>\n",
       "      <td>2009</td>\n",
       "    </tr>\n",
       "    <tr>\n",
       "      <th>4</th>\n",
       "      <td>2020-06-05</td>\n",
       "      <td>2789</td>\n",
       "      <td>7922</td>\n",
       "      <td>3.53</td>\n",
       "      <td>7</td>\n",
       "      <td>761</td>\n",
       "      <td>343</td>\n",
       "      <td>14</td>\n",
       "      <td>21</td>\n",
       "      <td>1519</td>\n",
       "    </tr>\n",
       "  </tbody>\n",
       "</table>\n",
       "</div>"
      ],
      "text/plain": [
       "0        Date Calories Burned  Steps Distance Floors Minutes Sedentary  \\\n",
       "0  2020-06-01            2648  11205      6.6     18               771   \n",
       "1  2020-06-02            3118  13109     8.07     38               602   \n",
       "2  2020-06-03            2794  12708     8.36     37               934   \n",
       "3  2020-06-04            3221  17513     8.62     10               848   \n",
       "4  2020-06-05            2789   7922     3.53      7               761   \n",
       "\n",
       "0 Minutes Lightly Active Minutes Fairly Active Minutes Very Active  \\\n",
       "0                    255                    22                  24   \n",
       "1                    227                    43                  74   \n",
       "2                    262                    15                  47   \n",
       "3                    275                    57                  72   \n",
       "4                    343                    14                  21   \n",
       "\n",
       "0 Activity Calories  \n",
       "0              1331  \n",
       "1              1807  \n",
       "2              1531  \n",
       "3              2009  \n",
       "4              1519  "
      ]
     },
     "execution_count": 11,
     "metadata": {},
     "output_type": "execute_result"
    }
   ],
   "source": [
    "activ.head()"
   ]
  },
  {
   "cell_type": "code",
   "execution_count": 12,
   "metadata": {},
   "outputs": [
    {
     "data": {
      "text/html": [
       "<div>\n",
       "<style scoped>\n",
       "    .dataframe tbody tr th:only-of-type {\n",
       "        vertical-align: middle;\n",
       "    }\n",
       "\n",
       "    .dataframe tbody tr th {\n",
       "        vertical-align: top;\n",
       "    }\n",
       "\n",
       "    .dataframe thead th {\n",
       "        text-align: right;\n",
       "    }\n",
       "</style>\n",
       "<table border=\"1\" class=\"dataframe\">\n",
       "  <thead>\n",
       "    <tr style=\"text-align: right;\">\n",
       "      <th></th>\n",
       "      <th>0</th>\n",
       "      <th>1</th>\n",
       "      <th>2</th>\n",
       "      <th>3</th>\n",
       "      <th>4</th>\n",
       "      <th>5</th>\n",
       "      <th>6</th>\n",
       "      <th>7</th>\n",
       "      <th>8</th>\n",
       "      <th>9</th>\n",
       "    </tr>\n",
       "  </thead>\n",
       "  <tbody>\n",
       "    <tr>\n",
       "      <th>32</th>\n",
       "      <td>Sleep</td>\n",
       "      <td>None</td>\n",
       "      <td>None</td>\n",
       "      <td>None</td>\n",
       "      <td>None</td>\n",
       "      <td>None</td>\n",
       "      <td>None</td>\n",
       "      <td>None</td>\n",
       "      <td>None</td>\n",
       "      <td>None</td>\n",
       "    </tr>\n",
       "  </tbody>\n",
       "</table>\n",
       "</div>"
      ],
      "text/plain": [
       "        0     1     2     3     4     5     6     7     8     9\n",
       "32  Sleep  None  None  None  None  None  None  None  None  None"
      ]
     },
     "execution_count": 12,
     "metadata": {},
     "output_type": "execute_result"
    }
   ],
   "source": [
    "#locate Sleep data\n",
    "df = data_o[data_o.eq('Sleep').any(axis=1)]\n",
    "df"
   ]
  },
  {
   "cell_type": "code",
   "execution_count": 13,
   "metadata": {},
   "outputs": [],
   "source": [
    "#Set dataframe with header of sleep data and following array\n",
    "data_hslp = data_o.iloc[33]\n",
    "data_bslp = data_o.iloc[34:64]\n",
    "data = np.array(data_bslp)\n",
    "data = pd.DataFrame(data, columns=data_hslp)\n",
    "data = data.replace(',','', regex=True)\n",
    "sleep = data.iloc[::-1]"
   ]
  },
  {
   "cell_type": "code",
   "execution_count": 14,
   "metadata": {},
   "outputs": [
    {
     "data": {
      "text/html": [
       "<div>\n",
       "<style scoped>\n",
       "    .dataframe tbody tr th:only-of-type {\n",
       "        vertical-align: middle;\n",
       "    }\n",
       "\n",
       "    .dataframe tbody tr th {\n",
       "        vertical-align: top;\n",
       "    }\n",
       "\n",
       "    .dataframe thead th {\n",
       "        text-align: right;\n",
       "    }\n",
       "</style>\n",
       "<table border=\"1\" class=\"dataframe\">\n",
       "  <thead>\n",
       "    <tr style=\"text-align: right;\">\n",
       "      <th>33</th>\n",
       "      <th>Start Time</th>\n",
       "      <th>End Time</th>\n",
       "      <th>Minutes Asleep</th>\n",
       "      <th>Minutes Awake</th>\n",
       "      <th>Number of Awakenings</th>\n",
       "      <th>Time in Bed</th>\n",
       "      <th>Minutes REM Sleep</th>\n",
       "      <th>Minutes Light Sleep</th>\n",
       "      <th>Minutes Deep Sleep</th>\n",
       "      <th>NaN</th>\n",
       "    </tr>\n",
       "  </thead>\n",
       "  <tbody>\n",
       "    <tr>\n",
       "      <th>29</th>\n",
       "      <td>2020-06-01 10:38PM</td>\n",
       "      <td>2020-06-02 4:15AM</td>\n",
       "      <td>290</td>\n",
       "      <td>47</td>\n",
       "      <td>18</td>\n",
       "      <td>337</td>\n",
       "      <td>58</td>\n",
       "      <td>200</td>\n",
       "      <td>32</td>\n",
       "      <td>None</td>\n",
       "    </tr>\n",
       "    <tr>\n",
       "      <th>28</th>\n",
       "      <td>2020-06-02 9:18PM</td>\n",
       "      <td>2020-06-02 11:55PM</td>\n",
       "      <td>136</td>\n",
       "      <td>21</td>\n",
       "      <td>5</td>\n",
       "      <td>157</td>\n",
       "      <td>N/A</td>\n",
       "      <td>N/A</td>\n",
       "      <td>N/A</td>\n",
       "      <td>None</td>\n",
       "    </tr>\n",
       "    <tr>\n",
       "      <th>27</th>\n",
       "      <td>2020-06-03 1:37AM</td>\n",
       "      <td>2020-06-03 4:39AM</td>\n",
       "      <td>153</td>\n",
       "      <td>29</td>\n",
       "      <td>16</td>\n",
       "      <td>182</td>\n",
       "      <td>9</td>\n",
       "      <td>119</td>\n",
       "      <td>25</td>\n",
       "      <td>None</td>\n",
       "    </tr>\n",
       "    <tr>\n",
       "      <th>26</th>\n",
       "      <td>2020-06-03 11:05PM</td>\n",
       "      <td>2020-06-04 2:13AM</td>\n",
       "      <td>150</td>\n",
       "      <td>38</td>\n",
       "      <td>13</td>\n",
       "      <td>188</td>\n",
       "      <td>15</td>\n",
       "      <td>92</td>\n",
       "      <td>43</td>\n",
       "      <td>None</td>\n",
       "    </tr>\n",
       "    <tr>\n",
       "      <th>25</th>\n",
       "      <td>2020-06-04 11:22PM</td>\n",
       "      <td>2020-06-05 4:23AM</td>\n",
       "      <td>255</td>\n",
       "      <td>46</td>\n",
       "      <td>22</td>\n",
       "      <td>301</td>\n",
       "      <td>16</td>\n",
       "      <td>207</td>\n",
       "      <td>32</td>\n",
       "      <td>None</td>\n",
       "    </tr>\n",
       "  </tbody>\n",
       "</table>\n",
       "</div>"
      ],
      "text/plain": [
       "33          Start Time            End Time Minutes Asleep Minutes Awake  \\\n",
       "29  2020-06-01 10:38PM   2020-06-02 4:15AM            290            47   \n",
       "28   2020-06-02 9:18PM  2020-06-02 11:55PM            136            21   \n",
       "27   2020-06-03 1:37AM   2020-06-03 4:39AM            153            29   \n",
       "26  2020-06-03 11:05PM   2020-06-04 2:13AM            150            38   \n",
       "25  2020-06-04 11:22PM   2020-06-05 4:23AM            255            46   \n",
       "\n",
       "33 Number of Awakenings Time in Bed Minutes REM Sleep Minutes Light Sleep  \\\n",
       "29                   18         337                58                 200   \n",
       "28                    5         157               N/A                 N/A   \n",
       "27                   16         182                 9                 119   \n",
       "26                   13         188                15                  92   \n",
       "25                   22         301                16                 207   \n",
       "\n",
       "33 Minutes Deep Sleep   NaN  \n",
       "29                 32  None  \n",
       "28                N/A  None  \n",
       "27                 25  None  \n",
       "26                 43  None  \n",
       "25                 32  None  "
      ]
     },
     "execution_count": 14,
     "metadata": {},
     "output_type": "execute_result"
    }
   ],
   "source": [
    "sleep.head()"
   ]
  },
  {
   "cell_type": "code",
   "execution_count": 15,
   "metadata": {},
   "outputs": [],
   "source": [
    "x1 = activ['Distance'].astype(str).astype(float)\n",
    "y =  sleep['Minutes Asleep'].astype(str).astype(int)"
   ]
  },
  {
   "cell_type": "code",
   "execution_count": 16,
   "metadata": {},
   "outputs": [
    {
     "data": {
      "image/png": "[encoded data removed]",
      "text/plain": [
       "<Figure size 432x288 with 1 Axes>"
      ]
     },
     "metadata": {},
     "output_type": "display_data"
    }
   ],
   "source": [
    "plt.scatter(x1,y)\n",
    "plt.xlabel('Distance',fontsize=20)\n",
    "plt.ylabel('Minutes Asleep',fontsize=20)\n",
    "plt.show()"
   ]
  },
  {
   "cell_type": "code",
   "execution_count": 17,
   "metadata": {},
   "outputs": [
    {
     "data": {
      "text/html": [
       "<table class=\"simpletable\">\n",
       "<caption>OLS Regression Results</caption>\n",
       "<tr>\n",
       "  <th>Dep. Variable:</th>     <td>Minutes Asleep</td>  <th>  R-squared:         </th> <td>   0.012</td>\n",
       "</tr>\n",
       "<tr>\n",
       "  <th>Model:</th>                   <td>OLS</td>       <th>  Adj. R-squared:    </th> <td>  -0.023</td>\n",
       "</tr>\n",
       "<tr>\n",
       "  <th>Method:</th>             <td>Least Squares</td>  <th>  F-statistic:       </th> <td>  0.3443</td>\n",
       "</tr>\n",
       "<tr>\n",
       "  <th>Date:</th>             <td>Fri, 31 Jul 2020</td> <th>  Prob (F-statistic):</th>  <td> 0.562</td> \n",
       "</tr>\n",
       "<tr>\n",
       "  <th>Time:</th>                 <td>20:40:34</td>     <th>  Log-Likelihood:    </th> <td> -182.96</td>\n",
       "</tr>\n",
       "<tr>\n",
       "  <th>No. Observations:</th>      <td>    30</td>      <th>  AIC:               </th> <td>   369.9</td>\n",
       "</tr>\n",
       "<tr>\n",
       "  <th>Df Residuals:</th>          <td>    28</td>      <th>  BIC:               </th> <td>   372.7</td>\n",
       "</tr>\n",
       "<tr>\n",
       "  <th>Df Model:</th>              <td>     1</td>      <th>                     </th>     <td> </td>   \n",
       "</tr>\n",
       "<tr>\n",
       "  <th>Covariance Type:</th>      <td>nonrobust</td>    <th>                     </th>     <td> </td>   \n",
       "</tr>\n",
       "</table>\n",
       "<table class=\"simpletable\">\n",
       "<tr>\n",
       "    <td></td>       <th>coef</th>     <th>std err</th>      <th>t</th>      <th>P>|t|</th>  <th>[0.025</th>    <th>0.975]</th>  \n",
       "</tr>\n",
       "<tr>\n",
       "  <th>const</th> <td>  319.5279</td> <td>   47.267</td> <td>    6.760</td> <td> 0.000</td> <td>  222.707</td> <td>  416.349</td>\n",
       "</tr>\n",
       "<tr>\n",
       "  <th>x1</th>    <td>   -4.6137</td> <td>    7.863</td> <td>   -0.587</td> <td> 0.562</td> <td>  -20.721</td> <td>   11.494</td>\n",
       "</tr>\n",
       "</table>\n",
       "<table class=\"simpletable\">\n",
       "<tr>\n",
       "  <th>Omnibus:</th>       <td> 3.288</td> <th>  Durbin-Watson:     </th> <td>   1.601</td>\n",
       "</tr>\n",
       "<tr>\n",
       "  <th>Prob(Omnibus):</th> <td> 0.193</td> <th>  Jarque-Bera (JB):  </th> <td>   2.916</td>\n",
       "</tr>\n",
       "<tr>\n",
       "  <th>Skew:</th>          <td>-0.735</td> <th>  Prob(JB):          </th> <td>   0.233</td>\n",
       "</tr>\n",
       "<tr>\n",
       "  <th>Kurtosis:</th>      <td> 2.585</td> <th>  Cond. No.          </th> <td>    14.3</td>\n",
       "</tr>\n",
       "</table><br/><br/>Warnings:<br/>[1] Standard Errors assume that the covariance matrix of the errors is correctly specified."
      ],
      "text/plain": [
       "<class 'statsmodels.iolib.summary.Summary'>\n",
       "\"\"\"\n",
       "                            OLS Regression Results                            \n",
       "==============================================================================\n",
       "Dep. Variable:         Minutes Asleep   R-squared:                       0.012\n",
       "Model:                            OLS   Adj. R-squared:                 -0.023\n",
       "Method:                 Least Squares   F-statistic:                    0.3443\n",
       "Date:                Fri, 31 Jul 2020   Prob (F-statistic):              0.562\n",
       "Time:                        20:40:34   Log-Likelihood:                -182.96\n",
       "No. Observations:                  30   AIC:                             369.9\n",
       "Df Residuals:                      28   BIC:                             372.7\n",
       "Df Model:                           1                                         \n",
       "Covariance Type:            nonrobust                                         \n",
       "==============================================================================\n",
       "                 coef    std err          t      P>|t|      [0.025      0.975]\n",
       "------------------------------------------------------------------------------\n",
       "const        319.5279     47.267      6.760      0.000     222.707     416.349\n",
       "x1            -4.6137      7.863     -0.587      0.562     -20.721      11.494\n",
       "==============================================================================\n",
       "Omnibus:                        3.288   Durbin-Watson:                   1.601\n",
       "Prob(Omnibus):                  0.193   Jarque-Bera (JB):                2.916\n",
       "Skew:                          -0.735   Prob(JB):                        0.233\n",
       "Kurtosis:                       2.585   Cond. No.                         14.3\n",
       "==============================================================================\n",
       "\n",
       "Warnings:\n",
       "[1] Standard Errors assume that the covariance matrix of the errors is correctly specified.\n",
       "\"\"\""
      ]
     },
     "execution_count": 17,
     "metadata": {},
     "output_type": "execute_result"
    }
   ],
   "source": [
    "x1 = x1.values.reshape(-1,1)\n",
    "x = sm.add_constant(x1)\n",
    "results = sm.OLS(y,x).fit()\n",
    "results.summary()"
   ]
  },
  {
   "cell_type": "code",
   "execution_count": 19,
   "metadata": {},
   "outputs": [
    {
     "data": {
      "image/png": "[encoded data removed]",
      "text/plain": [
       "<Figure size 432x288 with 1 Axes>"
      ]
     },
     "metadata": {},
     "output_type": "display_data"
    }
   ],
   "source": [
    "plt.scatter(x1,y)\n",
    "yhat = x1*-4.6137+319.5279\n",
    "fig = plt.plot(x1,yhat, lw=4, c='orange', label ='regression line')\n",
    "plt.xlabel('Distance(miles)', fontsize = 20)\n",
    "plt.ylabel('Minutes Asleep', fontsize = 20)\n",
    "plt.show()"
   ]
  },
  {
   "cell_type": "code",
   "execution_count": 21,
   "metadata": {},
   "outputs": [
    {
     "data": {
      "text/plain": [
       "LinearRegression(copy_X=True, fit_intercept=True, n_jobs=None, normalize=False)"
      ]
     },
     "execution_count": 21,
     "metadata": {},
     "output_type": "execute_result"
    }
   ],
   "source": [
    "#transform the inputs into a matrix (2D object)\n",
    "#x_matrix = x1.values.reshape(-1,1)\n",
    "#regression itself\n",
    "reg = LinearRegression()\n",
    "reg.fit(x1,y)"
   ]
  },
  {
   "cell_type": "code",
   "execution_count": 23,
   "metadata": {},
   "outputs": [
    {
     "data": {
      "text/plain": [
       "0.012145459339586107"
      ]
     },
     "execution_count": 23,
     "metadata": {},
     "output_type": "execute_result"
    }
   ],
   "source": [
    "#r-squared\n",
    "reg.score(x1,y)"
   ]
  },
  {
   "cell_type": "markdown",
   "metadata": {},
   "source": [
    "Prediction of Minutes Asleep when ran 7 miles"
   ]
  },
  {
   "cell_type": "code",
   "execution_count": 24,
   "metadata": {},
   "outputs": [
    {
     "data": {
      "text/plain": [
       "array([287.23185565])"
      ]
     },
     "execution_count": 24,
     "metadata": {},
     "output_type": "execute_result"
    }
   ],
   "source": [
    "reg.predict([[7]])"
   ]
  },
  {
   "cell_type": "code",
   "execution_count": null,
   "metadata": {},
   "outputs": [],
   "source": []
  }
 ],
 "metadata": {
  "kernelspec": {
   "display_name": "Python 3",
   "language": "python",
   "name": "python3"
  },
  "language_info": {
   "codemirror_mode": {
    "name": "ipython",
    "version": 3
   },
   "file_extension": ".py",
   "mimetype": "text/x-python",
   "name": "python",
   "nbconvert_exporter": "python",
   "pygments_lexer": "ipython3",
   "version": "3.7.6"
  }
 },
 "nbformat": 4,
 "nbformat_minor": 4
}
