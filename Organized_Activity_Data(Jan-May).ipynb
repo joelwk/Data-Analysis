{
 "cells": [
  {
   "cell_type": "code",
   "execution_count": 15,
   "metadata": {},
   "outputs": [],
   "source": [
    "import csv\n",
    "import sys\n",
    "import os\n",
    "import glob\n",
    "import pandas as pd\n",
    "#Add the following to ignore SettingWithCopyWarning that occurs when sorting the data in 128\n",
    "pd.options.mode.chained_assignment = None"
   ]
  },
  {
   "cell_type": "code",
   "execution_count": 18,
   "metadata": {},
   "outputs": [],
   "source": [
    "path = r\"C:\\Users\\jwkon\\Data Learning\\FitData\\Fit_Project(Jan-May)\\Raw Data\"\n",
    "allFiles = glob.glob(os.path.join(path,\"*.csv\"))\n",
    "\n",
    "file = []\n",
    "rows = []\n",
    "for f in allFiles:\n",
    "    with open(f, 'r') as csvfile:\n",
    "        csvfile = csvfile.read().split('\\n')\n",
    "        csvreader = csv.reader(csvfile)\n",
    "        fields = next(csvreader)\n",
    "        for row in csvreader:\n",
    "            rows.append(row)\n",
    "data = pd.DataFrame(rows)"
   ]
  },
  {
   "cell_type": "code",
   "execution_count": 19,
   "metadata": {},
   "outputs": [
    {
     "output_type": "execute_result",
     "data": {
      "text/plain": [
       "              0      1       2     3   4    5    6   7   8      9\n",
       "1    2020-04-01  2,158   3,404  1.52   0  876  215   0   0    724\n",
       "2    2020-04-02  2,777  12,610   5.5   0    0  253  77  12  1,467\n",
       "3    2020-04-03  2,360   6,783  2.98   0  789  218  33   0    941\n",
       "4    2020-04-04  2,306   5,610   2.5   8  822  237   0   0    880\n",
       "5    2020-04-05  2,330   5,978  2.66   0  746  216  19   7    924\n",
       "..          ...    ...     ...   ...  ..  ...  ...  ..  ..    ...\n",
       "444  2020-05-27  2,330   7,850  3.49   4  803  277   5   0    996\n",
       "445  2020-05-28  3,027  13,189  8.61  45  706  276  15  57  1,736\n",
       "446  2020-05-29  2,965  14,866  8.39  22  699  304   9  55  1,726\n",
       "447  2020-05-30  2,863  13,723  8.38  17  612  299  32  31  1,626\n",
       "448  2020-05-31  2,131   4,839  2.16   3  593  236   0   0    761\n",
       "\n",
       "[152 rows x 10 columns]"
      ],
      "text/html": "<div>\n<style scoped>\n    .dataframe tbody tr th:only-of-type {\n        vertical-align: middle;\n    }\n\n    .dataframe tbody tr th {\n        vertical-align: top;\n    }\n\n    .dataframe thead th {\n        text-align: right;\n    }\n</style>\n<table border=\"1\" class=\"dataframe\">\n  <thead>\n    <tr style=\"text-align: right;\">\n      <th></th>\n      <th>0</th>\n      <th>1</th>\n      <th>2</th>\n      <th>3</th>\n      <th>4</th>\n      <th>5</th>\n      <th>6</th>\n      <th>7</th>\n      <th>8</th>\n      <th>9</th>\n    </tr>\n  </thead>\n  <tbody>\n    <tr>\n      <th>1</th>\n      <td>2020-04-01</td>\n      <td>2,158</td>\n      <td>3,404</td>\n      <td>1.52</td>\n      <td>0</td>\n      <td>876</td>\n      <td>215</td>\n      <td>0</td>\n      <td>0</td>\n      <td>724</td>\n    </tr>\n    <tr>\n      <th>2</th>\n      <td>2020-04-02</td>\n      <td>2,777</td>\n      <td>12,610</td>\n      <td>5.5</td>\n      <td>0</td>\n      <td>0</td>\n      <td>253</td>\n      <td>77</td>\n      <td>12</td>\n      <td>1,467</td>\n    </tr>\n    <tr>\n      <th>3</th>\n      <td>2020-04-03</td>\n      <td>2,360</td>\n      <td>6,783</td>\n      <td>2.98</td>\n      <td>0</td>\n      <td>789</td>\n      <td>218</td>\n      <td>33</td>\n      <td>0</td>\n      <td>941</td>\n    </tr>\n    <tr>\n      <th>4</th>\n      <td>2020-04-04</td>\n      <td>2,306</td>\n      <td>5,610</td>\n      <td>2.5</td>\n      <td>8</td>\n      <td>822</td>\n      <td>237</td>\n      <td>0</td>\n      <td>0</td>\n      <td>880</td>\n    </tr>\n    <tr>\n      <th>5</th>\n      <td>2020-04-05</td>\n      <td>2,330</td>\n      <td>5,978</td>\n      <td>2.66</td>\n      <td>0</td>\n      <td>746</td>\n      <td>216</td>\n      <td>19</td>\n      <td>7</td>\n      <td>924</td>\n    </tr>\n    <tr>\n      <th>...</th>\n      <td>...</td>\n      <td>...</td>\n      <td>...</td>\n      <td>...</td>\n      <td>...</td>\n      <td>...</td>\n      <td>...</td>\n      <td>...</td>\n      <td>...</td>\n      <td>...</td>\n    </tr>\n    <tr>\n      <th>444</th>\n      <td>2020-05-27</td>\n      <td>2,330</td>\n      <td>7,850</td>\n      <td>3.49</td>\n      <td>4</td>\n      <td>803</td>\n      <td>277</td>\n      <td>5</td>\n      <td>0</td>\n      <td>996</td>\n    </tr>\n    <tr>\n      <th>445</th>\n      <td>2020-05-28</td>\n      <td>3,027</td>\n      <td>13,189</td>\n      <td>8.61</td>\n      <td>45</td>\n      <td>706</td>\n      <td>276</td>\n      <td>15</td>\n      <td>57</td>\n      <td>1,736</td>\n    </tr>\n    <tr>\n      <th>446</th>\n      <td>2020-05-29</td>\n      <td>2,965</td>\n      <td>14,866</td>\n      <td>8.39</td>\n      <td>22</td>\n      <td>699</td>\n      <td>304</td>\n      <td>9</td>\n      <td>55</td>\n      <td>1,726</td>\n    </tr>\n    <tr>\n      <th>447</th>\n      <td>2020-05-30</td>\n      <td>2,863</td>\n      <td>13,723</td>\n      <td>8.38</td>\n      <td>17</td>\n      <td>612</td>\n      <td>299</td>\n      <td>32</td>\n      <td>31</td>\n      <td>1,626</td>\n    </tr>\n    <tr>\n      <th>448</th>\n      <td>2020-05-31</td>\n      <td>2,131</td>\n      <td>4,839</td>\n      <td>2.16</td>\n      <td>3</td>\n      <td>593</td>\n      <td>236</td>\n      <td>0</td>\n      <td>0</td>\n      <td>761</td>\n    </tr>\n  </tbody>\n</table>\n<p>152 rows × 10 columns</p>\n</div>"
     },
     "metadata": {},
     "execution_count": 19
    }
   ],
   "source": [
    "#Locate activity data in csv import & select Months of interest\n",
    "not_activity = data[-data[0].str.contains('AM|PM', na=False)]\n",
    "activity = not_activity[not_activity[0].str.contains('2020-01|2020-02|2020-03|2020-04|2020-05', na=False)]\n",
    "activity"
   ]
  },
  {
   "cell_type": "code",
   "execution_count": 20,
   "metadata": {},
   "outputs": [
    {
     "output_type": "execute_result",
     "data": {
      "text/plain": [
       "              0      1       2     3   4    5    6   7   8      9\n",
       "134  2020-01-01  2,736  10,201  4.46   6  633  341  10  24  1,482\n",
       "135  2020-01-02  2,637   9,539  4.25   4  608  292  31   2  1,302\n",
       "136  2020-01-03  2,656  11,394  4.75   5  750  242  32  27  1,328\n",
       "137  2020-01-04  2,934  17,150   7.2   6  541  294  16  36  1,657\n",
       "138  2020-01-05  2,961  18,607  7.82  11  452  270  18  48  1,651\n",
       "..          ...    ...     ...   ...  ..  ...  ...  ..  ..    ...\n",
       "444  2020-05-27  2,330   7,850  3.49   4  803  277   5   0    996\n",
       "445  2020-05-28  3,027  13,189  8.61  45  706  276  15  57  1,736\n",
       "446  2020-05-29  2,965  14,866  8.39  22  699  304   9  55  1,726\n",
       "447  2020-05-30  2,863  13,723  8.38  17  612  299  32  31  1,626\n",
       "448  2020-05-31  2,131   4,839  2.16   3  593  236   0   0    761\n",
       "\n",
       "[152 rows x 10 columns]"
      ],
      "text/html": "<div>\n<style scoped>\n    .dataframe tbody tr th:only-of-type {\n        vertical-align: middle;\n    }\n\n    .dataframe tbody tr th {\n        vertical-align: top;\n    }\n\n    .dataframe thead th {\n        text-align: right;\n    }\n</style>\n<table border=\"1\" class=\"dataframe\">\n  <thead>\n    <tr style=\"text-align: right;\">\n      <th></th>\n      <th>0</th>\n      <th>1</th>\n      <th>2</th>\n      <th>3</th>\n      <th>4</th>\n      <th>5</th>\n      <th>6</th>\n      <th>7</th>\n      <th>8</th>\n      <th>9</th>\n    </tr>\n  </thead>\n  <tbody>\n    <tr>\n      <th>134</th>\n      <td>2020-01-01</td>\n      <td>2,736</td>\n      <td>10,201</td>\n      <td>4.46</td>\n      <td>6</td>\n      <td>633</td>\n      <td>341</td>\n      <td>10</td>\n      <td>24</td>\n      <td>1,482</td>\n    </tr>\n    <tr>\n      <th>135</th>\n      <td>2020-01-02</td>\n      <td>2,637</td>\n      <td>9,539</td>\n      <td>4.25</td>\n      <td>4</td>\n      <td>608</td>\n      <td>292</td>\n      <td>31</td>\n      <td>2</td>\n      <td>1,302</td>\n    </tr>\n    <tr>\n      <th>136</th>\n      <td>2020-01-03</td>\n      <td>2,656</td>\n      <td>11,394</td>\n      <td>4.75</td>\n      <td>5</td>\n      <td>750</td>\n      <td>242</td>\n      <td>32</td>\n      <td>27</td>\n      <td>1,328</td>\n    </tr>\n    <tr>\n      <th>137</th>\n      <td>2020-01-04</td>\n      <td>2,934</td>\n      <td>17,150</td>\n      <td>7.2</td>\n      <td>6</td>\n      <td>541</td>\n      <td>294</td>\n      <td>16</td>\n      <td>36</td>\n      <td>1,657</td>\n    </tr>\n    <tr>\n      <th>138</th>\n      <td>2020-01-05</td>\n      <td>2,961</td>\n      <td>18,607</td>\n      <td>7.82</td>\n      <td>11</td>\n      <td>452</td>\n      <td>270</td>\n      <td>18</td>\n      <td>48</td>\n      <td>1,651</td>\n    </tr>\n    <tr>\n      <th>...</th>\n      <td>...</td>\n      <td>...</td>\n      <td>...</td>\n      <td>...</td>\n      <td>...</td>\n      <td>...</td>\n      <td>...</td>\n      <td>...</td>\n      <td>...</td>\n      <td>...</td>\n    </tr>\n    <tr>\n      <th>444</th>\n      <td>2020-05-27</td>\n      <td>2,330</td>\n      <td>7,850</td>\n      <td>3.49</td>\n      <td>4</td>\n      <td>803</td>\n      <td>277</td>\n      <td>5</td>\n      <td>0</td>\n      <td>996</td>\n    </tr>\n    <tr>\n      <th>445</th>\n      <td>2020-05-28</td>\n      <td>3,027</td>\n      <td>13,189</td>\n      <td>8.61</td>\n      <td>45</td>\n      <td>706</td>\n      <td>276</td>\n      <td>15</td>\n      <td>57</td>\n      <td>1,736</td>\n    </tr>\n    <tr>\n      <th>446</th>\n      <td>2020-05-29</td>\n      <td>2,965</td>\n      <td>14,866</td>\n      <td>8.39</td>\n      <td>22</td>\n      <td>699</td>\n      <td>304</td>\n      <td>9</td>\n      <td>55</td>\n      <td>1,726</td>\n    </tr>\n    <tr>\n      <th>447</th>\n      <td>2020-05-30</td>\n      <td>2,863</td>\n      <td>13,723</td>\n      <td>8.38</td>\n      <td>17</td>\n      <td>612</td>\n      <td>299</td>\n      <td>32</td>\n      <td>31</td>\n      <td>1,626</td>\n    </tr>\n    <tr>\n      <th>448</th>\n      <td>2020-05-31</td>\n      <td>2,131</td>\n      <td>4,839</td>\n      <td>2.16</td>\n      <td>3</td>\n      <td>593</td>\n      <td>236</td>\n      <td>0</td>\n      <td>0</td>\n      <td>761</td>\n    </tr>\n  </tbody>\n</table>\n<p>152 rows × 10 columns</p>\n</div>"
     },
     "metadata": {},
     "execution_count": 20
    }
   ],
   "source": [
    "#Sort values ascending\n",
    "activity.sort_values(by=[0], inplace=True, ascending=True)\n",
    "activity"
   ]
  },
  {
   "cell_type": "code",
   "execution_count": 21,
   "metadata": {},
   "outputs": [],
   "source": [
    "#Set column header and reset index\n",
    "activity.columns = [data.iloc[0]]\n",
    "activity = activity.reset_index(drop=True)"
   ]
  },
  {
   "cell_type": "code",
   "execution_count": 23,
   "metadata": {},
   "outputs": [
    {
     "output_type": "execute_result",
     "data": {
      "text/plain": [
       "0          Date Calories Burned   Steps Distance Floors Minutes Sedentary  \\\n",
       "0    2020-01-01           2,736  10,201     4.46      6               633   \n",
       "1    2020-01-02           2,637   9,539     4.25      4               608   \n",
       "2    2020-01-03           2,656  11,394     4.75      5               750   \n",
       "3    2020-01-04           2,934  17,150      7.2      6               541   \n",
       "4    2020-01-05           2,961  18,607     7.82     11               452   \n",
       "..          ...             ...     ...      ...    ...               ...   \n",
       "147  2020-05-27           2,330   7,850     3.49      4               803   \n",
       "148  2020-05-28           3,027  13,189     8.61     45               706   \n",
       "149  2020-05-29           2,965  14,866     8.39     22               699   \n",
       "150  2020-05-30           2,863  13,723     8.38     17               612   \n",
       "151  2020-05-31           2,131   4,839     2.16      3               593   \n",
       "\n",
       "0   Minutes Lightly Active Minutes Fairly Active Minutes Very Active  \\\n",
       "0                      341                    10                  24   \n",
       "1                      292                    31                   2   \n",
       "2                      242                    32                  27   \n",
       "3                      294                    16                  36   \n",
       "4                      270                    18                  48   \n",
       "..                     ...                   ...                 ...   \n",
       "147                    277                     5                   0   \n",
       "148                    276                    15                  57   \n",
       "149                    304                     9                  55   \n",
       "150                    299                    32                  31   \n",
       "151                    236                     0                   0   \n",
       "\n",
       "0   Activity Calories  \n",
       "0               1,482  \n",
       "1               1,302  \n",
       "2               1,328  \n",
       "3               1,657  \n",
       "4               1,651  \n",
       "..                ...  \n",
       "147               996  \n",
       "148             1,736  \n",
       "149             1,726  \n",
       "150             1,626  \n",
       "151               761  \n",
       "\n",
       "[152 rows x 10 columns]"
      ],
      "text/html": "<div>\n<style scoped>\n    .dataframe tbody tr th:only-of-type {\n        vertical-align: middle;\n    }\n\n    .dataframe tbody tr th {\n        vertical-align: top;\n    }\n\n    .dataframe thead tr th {\n        text-align: left;\n    }\n</style>\n<table border=\"1\" class=\"dataframe\">\n  <thead>\n    <tr>\n      <th></th>\n      <th>Date</th>\n      <th>Calories Burned</th>\n      <th>Steps</th>\n      <th>Distance</th>\n      <th>Floors</th>\n      <th>Minutes Sedentary</th>\n      <th>Minutes Lightly Active</th>\n      <th>Minutes Fairly Active</th>\n      <th>Minutes Very Active</th>\n      <th>Activity Calories</th>\n    </tr>\n  </thead>\n  <tbody>\n    <tr>\n      <th>0</th>\n      <td>2020-01-01</td>\n      <td>2,736</td>\n      <td>10,201</td>\n      <td>4.46</td>\n      <td>6</td>\n      <td>633</td>\n      <td>341</td>\n      <td>10</td>\n      <td>24</td>\n      <td>1,482</td>\n    </tr>\n    <tr>\n      <th>1</th>\n      <td>2020-01-02</td>\n      <td>2,637</td>\n      <td>9,539</td>\n      <td>4.25</td>\n      <td>4</td>\n      <td>608</td>\n      <td>292</td>\n      <td>31</td>\n      <td>2</td>\n      <td>1,302</td>\n    </tr>\n    <tr>\n      <th>2</th>\n      <td>2020-01-03</td>\n      <td>2,656</td>\n      <td>11,394</td>\n      <td>4.75</td>\n      <td>5</td>\n      <td>750</td>\n      <td>242</td>\n      <td>32</td>\n      <td>27</td>\n      <td>1,328</td>\n    </tr>\n    <tr>\n      <th>3</th>\n      <td>2020-01-04</td>\n      <td>2,934</td>\n      <td>17,150</td>\n      <td>7.2</td>\n      <td>6</td>\n      <td>541</td>\n      <td>294</td>\n      <td>16</td>\n      <td>36</td>\n      <td>1,657</td>\n    </tr>\n    <tr>\n      <th>4</th>\n      <td>2020-01-05</td>\n      <td>2,961</td>\n      <td>18,607</td>\n      <td>7.82</td>\n      <td>11</td>\n      <td>452</td>\n      <td>270</td>\n      <td>18</td>\n      <td>48</td>\n      <td>1,651</td>\n    </tr>\n    <tr>\n      <th>...</th>\n      <td>...</td>\n      <td>...</td>\n      <td>...</td>\n      <td>...</td>\n      <td>...</td>\n      <td>...</td>\n      <td>...</td>\n      <td>...</td>\n      <td>...</td>\n      <td>...</td>\n    </tr>\n    <tr>\n      <th>147</th>\n      <td>2020-05-27</td>\n      <td>2,330</td>\n      <td>7,850</td>\n      <td>3.49</td>\n      <td>4</td>\n      <td>803</td>\n      <td>277</td>\n      <td>5</td>\n      <td>0</td>\n      <td>996</td>\n    </tr>\n    <tr>\n      <th>148</th>\n      <td>2020-05-28</td>\n      <td>3,027</td>\n      <td>13,189</td>\n      <td>8.61</td>\n      <td>45</td>\n      <td>706</td>\n      <td>276</td>\n      <td>15</td>\n      <td>57</td>\n      <td>1,736</td>\n    </tr>\n    <tr>\n      <th>149</th>\n      <td>2020-05-29</td>\n      <td>2,965</td>\n      <td>14,866</td>\n      <td>8.39</td>\n      <td>22</td>\n      <td>699</td>\n      <td>304</td>\n      <td>9</td>\n      <td>55</td>\n      <td>1,726</td>\n    </tr>\n    <tr>\n      <th>150</th>\n      <td>2020-05-30</td>\n      <td>2,863</td>\n      <td>13,723</td>\n      <td>8.38</td>\n      <td>17</td>\n      <td>612</td>\n      <td>299</td>\n      <td>32</td>\n      <td>31</td>\n      <td>1,626</td>\n    </tr>\n    <tr>\n      <th>151</th>\n      <td>2020-05-31</td>\n      <td>2,131</td>\n      <td>4,839</td>\n      <td>2.16</td>\n      <td>3</td>\n      <td>593</td>\n      <td>236</td>\n      <td>0</td>\n      <td>0</td>\n      <td>761</td>\n    </tr>\n  </tbody>\n</table>\n<p>152 rows × 10 columns</p>\n</div>"
     },
     "metadata": {},
     "execution_count": 23
    }
   ],
   "source": [
    "#Verify dataframe has correct number of rows and months of interest\n",
    "activity"
   ]
  },
  {
   "cell_type": "code",
   "execution_count": 24,
   "metadata": {},
   "outputs": [],
   "source": [
    "activity.to_csv('Organized_Activity_Data(Jan-Dec).csv', index=False)"
   ]
  },
  {
   "cell_type": "code",
   "execution_count": null,
   "metadata": {},
   "outputs": [],
   "source": []
  }
 ],
 "metadata": {
  "kernelspec": {
   "display_name": "Python 3",
   "language": "python",
   "name": "python3"
  },
  "language_info": {
   "codemirror_mode": {
    "name": "ipython",
    "version": 3
   },
   "file_extension": ".py",
   "mimetype": "text/x-python",
   "name": "python",
   "nbconvert_exporter": "python",
   "pygments_lexer": "ipython3",
   "version": "3.8.5-final"
  }
 },
 "nbformat": 4,
 "nbformat_minor": 4
}