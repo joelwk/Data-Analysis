{
 "cells": [
  {
   "cell_type": "code",
   "execution_count": 1,
   "metadata": {},
   "outputs": [],
   "source": [
    "import pandas as  pd\n",
    "import numpy as np"
   ]
  },
  {
   "cell_type": "code",
   "execution_count": 2,
   "metadata": {},
   "outputs": [],
   "source": [
    "sleep = pd.read_csv('Organized_Sleep_Data(Jan-May).csv')"
   ]
  },
  {
   "cell_type": "code",
   "execution_count": 3,
   "metadata": {},
   "outputs": [
    {
     "output_type": "execute_result",
     "data": {
      "text/plain": [
       "           Start Time           End Time  Minutes Asleep  Minutes Awake  \\\n",
       "0   2020-01-01 1:16AM  2020-01-01 8:28AM             334             98   \n",
       "1  2020-01-01 11:00PM  2020-01-02 7:27AM             414             93   \n",
       "2  2020-01-02 11:03PM  2020-01-03 5:32AM             331             58   \n",
       "3   2020-01-03 8:53PM  2020-01-04 6:06AM             464             89   \n",
       "4   2020-01-04 8:55PM  2020-01-05 7:47AM             526            126   \n",
       "\n",
       "   Number of Awakenings Time in Bed  Minutes REM Sleep  Minutes Light Sleep  \\\n",
       "0                    20         432               47.0                242.0   \n",
       "1                    33         507               50.0                346.0   \n",
       "2                    27         389               31.0                278.0   \n",
       "3                    36         553               84.0                341.0   \n",
       "4                    46         652               79.0                401.0   \n",
       "\n",
       "   Minutes Deep Sleep  \n",
       "0                45.0  \n",
       "1                18.0  \n",
       "2                22.0  \n",
       "3                39.0  \n",
       "4                46.0  "
      ],
      "text/html": "<div>\n<style scoped>\n    .dataframe tbody tr th:only-of-type {\n        vertical-align: middle;\n    }\n\n    .dataframe tbody tr th {\n        vertical-align: top;\n    }\n\n    .dataframe thead th {\n        text-align: right;\n    }\n</style>\n<table border=\"1\" class=\"dataframe\">\n  <thead>\n    <tr style=\"text-align: right;\">\n      <th></th>\n      <th>Start Time</th>\n      <th>End Time</th>\n      <th>Minutes Asleep</th>\n      <th>Minutes Awake</th>\n      <th>Number of Awakenings</th>\n      <th>Time in Bed</th>\n      <th>Minutes REM Sleep</th>\n      <th>Minutes Light Sleep</th>\n      <th>Minutes Deep Sleep</th>\n    </tr>\n  </thead>\n  <tbody>\n    <tr>\n      <th>0</th>\n      <td>2020-01-01 1:16AM</td>\n      <td>2020-01-01 8:28AM</td>\n      <td>334</td>\n      <td>98</td>\n      <td>20</td>\n      <td>432</td>\n      <td>47.0</td>\n      <td>242.0</td>\n      <td>45.0</td>\n    </tr>\n    <tr>\n      <th>1</th>\n      <td>2020-01-01 11:00PM</td>\n      <td>2020-01-02 7:27AM</td>\n      <td>414</td>\n      <td>93</td>\n      <td>33</td>\n      <td>507</td>\n      <td>50.0</td>\n      <td>346.0</td>\n      <td>18.0</td>\n    </tr>\n    <tr>\n      <th>2</th>\n      <td>2020-01-02 11:03PM</td>\n      <td>2020-01-03 5:32AM</td>\n      <td>331</td>\n      <td>58</td>\n      <td>27</td>\n      <td>389</td>\n      <td>31.0</td>\n      <td>278.0</td>\n      <td>22.0</td>\n    </tr>\n    <tr>\n      <th>3</th>\n      <td>2020-01-03 8:53PM</td>\n      <td>2020-01-04 6:06AM</td>\n      <td>464</td>\n      <td>89</td>\n      <td>36</td>\n      <td>553</td>\n      <td>84.0</td>\n      <td>341.0</td>\n      <td>39.0</td>\n    </tr>\n    <tr>\n      <th>4</th>\n      <td>2020-01-04 8:55PM</td>\n      <td>2020-01-05 7:47AM</td>\n      <td>526</td>\n      <td>126</td>\n      <td>46</td>\n      <td>652</td>\n      <td>79.0</td>\n      <td>401.0</td>\n      <td>46.0</td>\n    </tr>\n  </tbody>\n</table>\n</div>"
     },
     "metadata": {},
     "execution_count": 3
    }
   ],
   "source": [
    "#Preview the dataset\n",
    "sleep.head()"
   ]
  },
  {
   "cell_type": "code",
   "execution_count": 4,
   "metadata": {},
   "outputs": [
    {
     "output_type": "stream",
     "name": "stdout",
     "text": [
      "<class 'pandas.core.frame.DataFrame'>\nRangeIndex: 153 entries, 0 to 152\nData columns (total 9 columns):\n #   Column                Non-Null Count  Dtype  \n---  ------                --------------  -----  \n 0   Start Time            153 non-null    object \n 1   End Time              153 non-null    object \n 2   Minutes Asleep        153 non-null    int64  \n 3   Minutes Awake         153 non-null    int64  \n 4   Number of Awakenings  153 non-null    int64  \n 5   Time in Bed           153 non-null    object \n 6   Minutes REM Sleep     145 non-null    float64\n 7   Minutes Light Sleep   145 non-null    float64\n 8   Minutes Deep Sleep    145 non-null    float64\ndtypes: float64(3), int64(3), object(3)\nmemory usage: 10.9+ KB\n"
     ]
    }
   ],
   "source": [
    "#View data types & any missing values\n",
    "sleep.info()"
   ]
  },
  {
   "cell_type": "code",
   "execution_count": 5,
   "metadata": {},
   "outputs": [],
   "source": [
    "#Convert Start & End Time columns to datetime format\n",
    "sleep['Start Time'] = pd.to_datetime(sleep['Start Time'])\n",
    "sleep['End Time'] = pd.to_datetime(sleep['End Time'])"
   ]
  },
  {
   "cell_type": "code",
   "execution_count": 6,
   "metadata": {},
   "outputs": [
    {
     "output_type": "execute_result",
     "data": {
      "text/plain": [
       "Start Time              datetime64[ns]\n",
       "End Time                datetime64[ns]\n",
       "Minutes Asleep                   int64\n",
       "Minutes Awake                    int64\n",
       "Number of Awakenings             int64\n",
       "Time in Bed                     object\n",
       "Minutes REM Sleep              float64\n",
       "Minutes Light Sleep            float64\n",
       "Minutes Deep Sleep             float64\n",
       "dtype: object"
      ]
     },
     "metadata": {},
     "execution_count": 6
    }
   ],
   "source": [
    "#View data types\n",
    "sleep.dtypes"
   ]
  },
  {
   "cell_type": "code",
   "execution_count": 7,
   "metadata": {},
   "outputs": [],
   "source": [
    "#This export had Time in Bed formated as an object, we will remove the commas out of any values and then convert to integer\n",
    "#Function that removes commas from select column values and converts them to integer data type\n",
    "sleep['Time in Bed'] = sleep['Time in Bed'].replace(',','', regex=True)\n",
    "sleep['Time in Bed'] = sleep['Time in Bed'].astype(str).astype(int)"
   ]
  },
  {
   "cell_type": "code",
   "execution_count": 8,
   "metadata": {},
   "outputs": [
    {
     "output_type": "execute_result",
     "data": {
      "text/plain": [
       "Start Time              datetime64[ns]\n",
       "End Time                datetime64[ns]\n",
       "Minutes Asleep                   int64\n",
       "Minutes Awake                    int64\n",
       "Number of Awakenings             int64\n",
       "Time in Bed                      int32\n",
       "Minutes REM Sleep              float64\n",
       "Minutes Light Sleep            float64\n",
       "Minutes Deep Sleep             float64\n",
       "dtype: object"
      ]
     },
     "metadata": {},
     "execution_count": 8
    }
   ],
   "source": [
    "#Verify data type has changed\n",
    "sleep.dtypes"
   ]
  },
  {
   "cell_type": "code",
   "execution_count": 9,
   "metadata": {},
   "outputs": [
    {
     "output_type": "execute_result",
     "data": {
      "text/plain": [
       "             Start Time            End Time  Minutes Asleep  Minutes Awake  \\\n",
       "33  2020-02-02 09:20:00 2020-02-02 11:15:00             105             10   \n",
       "93  2020-04-02 11:30:00 2020-04-03 06:40:00             474            292   \n",
       "104 2020-04-13 04:22:00 2020-04-13 07:20:00             166             12   \n",
       "117 2020-04-28 05:28:00 2020-04-28 07:37:00             126              3   \n",
       "137 2020-05-18 22:54:00 2020-05-19 00:32:00              79             18   \n",
       "139 2020-05-20 00:34:00 2020-05-20 03:28:00             150             24   \n",
       "140 2020-05-20 05:37:00 2020-05-20 07:08:00              79             12   \n",
       "146 2020-05-26 03:42:00 2020-05-26 05:17:00              88              7   \n",
       "\n",
       "     Number of Awakenings  Time in Bed  Minutes REM Sleep  \\\n",
       "33                      5          115                NaN   \n",
       "93                     64         1150                NaN   \n",
       "104                     1          178                NaN   \n",
       "117                     1          129                NaN   \n",
       "137                     4           97                NaN   \n",
       "139                     2          174                NaN   \n",
       "140                     1           91                NaN   \n",
       "146                     2           95                NaN   \n",
       "\n",
       "     Minutes Light Sleep  Minutes Deep Sleep  \n",
       "33                   NaN                 NaN  \n",
       "93                   NaN                 NaN  \n",
       "104                  NaN                 NaN  \n",
       "117                  NaN                 NaN  \n",
       "137                  NaN                 NaN  \n",
       "139                  NaN                 NaN  \n",
       "140                  NaN                 NaN  \n",
       "146                  NaN                 NaN  "
      ],
      "text/html": "<div>\n<style scoped>\n    .dataframe tbody tr th:only-of-type {\n        vertical-align: middle;\n    }\n\n    .dataframe tbody tr th {\n        vertical-align: top;\n    }\n\n    .dataframe thead th {\n        text-align: right;\n    }\n</style>\n<table border=\"1\" class=\"dataframe\">\n  <thead>\n    <tr style=\"text-align: right;\">\n      <th></th>\n      <th>Start Time</th>\n      <th>End Time</th>\n      <th>Minutes Asleep</th>\n      <th>Minutes Awake</th>\n      <th>Number of Awakenings</th>\n      <th>Time in Bed</th>\n      <th>Minutes REM Sleep</th>\n      <th>Minutes Light Sleep</th>\n      <th>Minutes Deep Sleep</th>\n    </tr>\n  </thead>\n  <tbody>\n    <tr>\n      <th>33</th>\n      <td>2020-02-02 09:20:00</td>\n      <td>2020-02-02 11:15:00</td>\n      <td>105</td>\n      <td>10</td>\n      <td>5</td>\n      <td>115</td>\n      <td>NaN</td>\n      <td>NaN</td>\n      <td>NaN</td>\n    </tr>\n    <tr>\n      <th>93</th>\n      <td>2020-04-02 11:30:00</td>\n      <td>2020-04-03 06:40:00</td>\n      <td>474</td>\n      <td>292</td>\n      <td>64</td>\n      <td>1150</td>\n      <td>NaN</td>\n      <td>NaN</td>\n      <td>NaN</td>\n    </tr>\n    <tr>\n      <th>104</th>\n      <td>2020-04-13 04:22:00</td>\n      <td>2020-04-13 07:20:00</td>\n      <td>166</td>\n      <td>12</td>\n      <td>1</td>\n      <td>178</td>\n      <td>NaN</td>\n      <td>NaN</td>\n      <td>NaN</td>\n    </tr>\n    <tr>\n      <th>117</th>\n      <td>2020-04-28 05:28:00</td>\n      <td>2020-04-28 07:37:00</td>\n      <td>126</td>\n      <td>3</td>\n      <td>1</td>\n      <td>129</td>\n      <td>NaN</td>\n      <td>NaN</td>\n      <td>NaN</td>\n    </tr>\n    <tr>\n      <th>137</th>\n      <td>2020-05-18 22:54:00</td>\n      <td>2020-05-19 00:32:00</td>\n      <td>79</td>\n      <td>18</td>\n      <td>4</td>\n      <td>97</td>\n      <td>NaN</td>\n      <td>NaN</td>\n      <td>NaN</td>\n    </tr>\n    <tr>\n      <th>139</th>\n      <td>2020-05-20 00:34:00</td>\n      <td>2020-05-20 03:28:00</td>\n      <td>150</td>\n      <td>24</td>\n      <td>2</td>\n      <td>174</td>\n      <td>NaN</td>\n      <td>NaN</td>\n      <td>NaN</td>\n    </tr>\n    <tr>\n      <th>140</th>\n      <td>2020-05-20 05:37:00</td>\n      <td>2020-05-20 07:08:00</td>\n      <td>79</td>\n      <td>12</td>\n      <td>1</td>\n      <td>91</td>\n      <td>NaN</td>\n      <td>NaN</td>\n      <td>NaN</td>\n    </tr>\n    <tr>\n      <th>146</th>\n      <td>2020-05-26 03:42:00</td>\n      <td>2020-05-26 05:17:00</td>\n      <td>88</td>\n      <td>7</td>\n      <td>2</td>\n      <td>95</td>\n      <td>NaN</td>\n      <td>NaN</td>\n      <td>NaN</td>\n    </tr>\n  </tbody>\n</table>\n</div>"
     },
     "metadata": {},
     "execution_count": 9
    }
   ],
   "source": [
    "#Check for missing values\n",
    "sleep[sleep.isnull().any(axis=1)]"
   ]
  },
  {
   "cell_type": "code",
   "execution_count": 10,
   "metadata": {},
   "outputs": [],
   "source": [
    "#Replace the missing values with median of entire column values\n",
    "for i in ['Minutes REM Sleep', 'Minutes Light Sleep', 'Minutes Deep Sleep']:\n",
    "    sleep[i] = sleep[i].fillna(round(sleep[i].dropna().astype('int').median(),2))"
   ]
  },
  {
   "cell_type": "code",
   "execution_count": 11,
   "metadata": {},
   "outputs": [
    {
     "output_type": "execute_result",
     "data": {
      "text/plain": [
       "Empty DataFrame\n",
       "Columns: [Start Time, End Time, Minutes Asleep, Minutes Awake, Number of Awakenings, Time in Bed, Minutes REM Sleep, Minutes Light Sleep, Minutes Deep Sleep]\n",
       "Index: []"
      ],
      "text/html": "<div>\n<style scoped>\n    .dataframe tbody tr th:only-of-type {\n        vertical-align: middle;\n    }\n\n    .dataframe tbody tr th {\n        vertical-align: top;\n    }\n\n    .dataframe thead th {\n        text-align: right;\n    }\n</style>\n<table border=\"1\" class=\"dataframe\">\n  <thead>\n    <tr style=\"text-align: right;\">\n      <th></th>\n      <th>Start Time</th>\n      <th>End Time</th>\n      <th>Minutes Asleep</th>\n      <th>Minutes Awake</th>\n      <th>Number of Awakenings</th>\n      <th>Time in Bed</th>\n      <th>Minutes REM Sleep</th>\n      <th>Minutes Light Sleep</th>\n      <th>Minutes Deep Sleep</th>\n    </tr>\n  </thead>\n  <tbody>\n  </tbody>\n</table>\n</div>"
     },
     "metadata": {},
     "execution_count": 11
    }
   ],
   "source": [
    "#Verify missing data has been removed\n",
    "sleep[sleep.isnull().any(axis=1)]"
   ]
  },
  {
   "cell_type": "code",
   "execution_count": 12,
   "metadata": {},
   "outputs": [
    {
     "output_type": "execute_result",
     "data": {
      "text/plain": [
       "             Start Time            End Time  Minutes Asleep  Minutes Awake  \\\n",
       "0   2020-01-01 01:16:00 2020-01-01 08:28:00             334             98   \n",
       "1   2020-01-01 23:00:00 2020-01-02 07:27:00             414             93   \n",
       "2   2020-01-02 23:03:00 2020-01-03 05:32:00             331             58   \n",
       "3   2020-01-03 20:53:00 2020-01-04 06:06:00             464             89   \n",
       "4   2020-01-04 20:55:00 2020-01-05 07:47:00             526            126   \n",
       "..                  ...                 ...             ...            ...   \n",
       "148 2020-05-27 22:55:00 2020-05-28 05:21:00             313             73   \n",
       "149 2020-05-28 22:25:00 2020-05-29 04:38:00             325             48   \n",
       "150 2020-05-29 21:32:00 2020-05-30 05:18:00             394             72   \n",
       "151 2020-05-30 19:52:00 2020-05-31 05:00:00             441            107   \n",
       "152 2020-05-31 22:33:00 2020-06-01 04:41:00             319             49   \n",
       "\n",
       "     Number of Awakenings  Time in Bed  Minutes REM Sleep  \\\n",
       "0                      20          432               47.0   \n",
       "1                      33          507               50.0   \n",
       "2                      27          389               31.0   \n",
       "3                      36          553               84.0   \n",
       "4                      46          652               79.0   \n",
       "..                    ...          ...                ...   \n",
       "148                    23          386               40.0   \n",
       "149                    22          373               56.0   \n",
       "150                    27          466               52.0   \n",
       "151                    32          548               71.0   \n",
       "152                    15          368               66.0   \n",
       "\n",
       "     Minutes Light Sleep  Minutes Deep Sleep  \n",
       "0                  242.0                45.0  \n",
       "1                  346.0                18.0  \n",
       "2                  278.0                22.0  \n",
       "3                  341.0                39.0  \n",
       "4                  401.0                46.0  \n",
       "..                   ...                 ...  \n",
       "148                226.0                47.0  \n",
       "149                259.0                10.0  \n",
       "150                285.0                57.0  \n",
       "151                320.0                50.0  \n",
       "152                230.0                23.0  \n",
       "\n",
       "[153 rows x 9 columns]"
      ],
      "text/html": "<div>\n<style scoped>\n    .dataframe tbody tr th:only-of-type {\n        vertical-align: middle;\n    }\n\n    .dataframe tbody tr th {\n        vertical-align: top;\n    }\n\n    .dataframe thead th {\n        text-align: right;\n    }\n</style>\n<table border=\"1\" class=\"dataframe\">\n  <thead>\n    <tr style=\"text-align: right;\">\n      <th></th>\n      <th>Start Time</th>\n      <th>End Time</th>\n      <th>Minutes Asleep</th>\n      <th>Minutes Awake</th>\n      <th>Number of Awakenings</th>\n      <th>Time in Bed</th>\n      <th>Minutes REM Sleep</th>\n      <th>Minutes Light Sleep</th>\n      <th>Minutes Deep Sleep</th>\n    </tr>\n  </thead>\n  <tbody>\n    <tr>\n      <th>0</th>\n      <td>2020-01-01 01:16:00</td>\n      <td>2020-01-01 08:28:00</td>\n      <td>334</td>\n      <td>98</td>\n      <td>20</td>\n      <td>432</td>\n      <td>47.0</td>\n      <td>242.0</td>\n      <td>45.0</td>\n    </tr>\n    <tr>\n      <th>1</th>\n      <td>2020-01-01 23:00:00</td>\n      <td>2020-01-02 07:27:00</td>\n      <td>414</td>\n      <td>93</td>\n      <td>33</td>\n      <td>507</td>\n      <td>50.0</td>\n      <td>346.0</td>\n      <td>18.0</td>\n    </tr>\n    <tr>\n      <th>2</th>\n      <td>2020-01-02 23:03:00</td>\n      <td>2020-01-03 05:32:00</td>\n      <td>331</td>\n      <td>58</td>\n      <td>27</td>\n      <td>389</td>\n      <td>31.0</td>\n      <td>278.0</td>\n      <td>22.0</td>\n    </tr>\n    <tr>\n      <th>3</th>\n      <td>2020-01-03 20:53:00</td>\n      <td>2020-01-04 06:06:00</td>\n      <td>464</td>\n      <td>89</td>\n      <td>36</td>\n      <td>553</td>\n      <td>84.0</td>\n      <td>341.0</td>\n      <td>39.0</td>\n    </tr>\n    <tr>\n      <th>4</th>\n      <td>2020-01-04 20:55:00</td>\n      <td>2020-01-05 07:47:00</td>\n      <td>526</td>\n      <td>126</td>\n      <td>46</td>\n      <td>652</td>\n      <td>79.0</td>\n      <td>401.0</td>\n      <td>46.0</td>\n    </tr>\n    <tr>\n      <th>...</th>\n      <td>...</td>\n      <td>...</td>\n      <td>...</td>\n      <td>...</td>\n      <td>...</td>\n      <td>...</td>\n      <td>...</td>\n      <td>...</td>\n      <td>...</td>\n    </tr>\n    <tr>\n      <th>148</th>\n      <td>2020-05-27 22:55:00</td>\n      <td>2020-05-28 05:21:00</td>\n      <td>313</td>\n      <td>73</td>\n      <td>23</td>\n      <td>386</td>\n      <td>40.0</td>\n      <td>226.0</td>\n      <td>47.0</td>\n    </tr>\n    <tr>\n      <th>149</th>\n      <td>2020-05-28 22:25:00</td>\n      <td>2020-05-29 04:38:00</td>\n      <td>325</td>\n      <td>48</td>\n      <td>22</td>\n      <td>373</td>\n      <td>56.0</td>\n      <td>259.0</td>\n      <td>10.0</td>\n    </tr>\n    <tr>\n      <th>150</th>\n      <td>2020-05-29 21:32:00</td>\n      <td>2020-05-30 05:18:00</td>\n      <td>394</td>\n      <td>72</td>\n      <td>27</td>\n      <td>466</td>\n      <td>52.0</td>\n      <td>285.0</td>\n      <td>57.0</td>\n    </tr>\n    <tr>\n      <th>151</th>\n      <td>2020-05-30 19:52:00</td>\n      <td>2020-05-31 05:00:00</td>\n      <td>441</td>\n      <td>107</td>\n      <td>32</td>\n      <td>548</td>\n      <td>71.0</td>\n      <td>320.0</td>\n      <td>50.0</td>\n    </tr>\n    <tr>\n      <th>152</th>\n      <td>2020-05-31 22:33:00</td>\n      <td>2020-06-01 04:41:00</td>\n      <td>319</td>\n      <td>49</td>\n      <td>15</td>\n      <td>368</td>\n      <td>66.0</td>\n      <td>230.0</td>\n      <td>23.0</td>\n    </tr>\n  </tbody>\n</table>\n<p>153 rows × 9 columns</p>\n</div>"
     },
     "metadata": {},
     "execution_count": 12
    }
   ],
   "source": [
    "#Preview dataset\n",
    "sleep"
   ]
  },
  {
   "cell_type": "code",
   "execution_count": 13,
   "metadata": {},
   "outputs": [],
   "source": [
    "sleep.to_csv('Clean_Sleep_Data(Jan-May).csv', index=False)"
   ]
  },
  {
   "cell_type": "code",
   "execution_count": null,
   "metadata": {},
   "outputs": [],
   "source": []
  }
 ],
 "metadata": {
  "kernelspec": {
   "display_name": "Python 3",
   "language": "python",
   "name": "python3"
  },
  "language_info": {
   "codemirror_mode": {
    "name": "ipython",
    "version": 3
   },
   "file_extension": ".py",
   "mimetype": "text/x-python",
   "name": "python",
   "nbconvert_exporter": "python",
   "pygments_lexer": "ipython3",
   "version": "3.8.5-final"
  }
 },
 "nbformat": 4,
 "nbformat_minor": 4
}