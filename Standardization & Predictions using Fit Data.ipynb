{
 "cells": [
  {
   "cell_type": "markdown",
   "metadata": {},
   "source": [
    "# Multiple Linear Regression with Standardization, Feature Scaling and then making predictions."
   ]
  },
  {
   "cell_type": "code",
   "execution_count": 231,
   "metadata": {},
   "outputs": [],
   "source": [
    "import pandas as pd\n",
    "from sklearn.preprocessing import StandardScaler\n",
    "from sklearn.linear_model import LinearRegression"
   ]
  },
  {
   "cell_type": "code",
   "execution_count": 232,
   "metadata": {},
   "outputs": [],
   "source": [
    "bit = pd.read_csv('Fit_Data.csv')"
   ]
  },
  {
   "cell_type": "code",
   "execution_count": 233,
   "metadata": {},
   "outputs": [
    {
     "data": {
      "text/html": [
       "<div>\n",
       "<style scoped>\n",
       "    .dataframe tbody tr th:only-of-type {\n",
       "        vertical-align: middle;\n",
       "    }\n",
       "\n",
       "    .dataframe tbody tr th {\n",
       "        vertical-align: top;\n",
       "    }\n",
       "\n",
       "    .dataframe thead th {\n",
       "        text-align: right;\n",
       "    }\n",
       "</style>\n",
       "<table border=\"1\" class=\"dataframe\">\n",
       "  <thead>\n",
       "    <tr style=\"text-align: right;\">\n",
       "      <th></th>\n",
       "      <th>Calories Burned</th>\n",
       "      <th>Steps</th>\n",
       "      <th>Distance</th>\n",
       "      <th>Floors</th>\n",
       "      <th>Minutes Sedentary</th>\n",
       "      <th>Minutes Lightly Active(Fat Burn)</th>\n",
       "      <th>Minutes Fairly Active(Cardio)</th>\n",
       "      <th>Minutes Very Active(Peak)</th>\n",
       "      <th>Activity Calories</th>\n",
       "      <th>Minutes Asleep</th>\n",
       "      <th>Minutes Awake</th>\n",
       "      <th>Number of Awakenings</th>\n",
       "      <th>Time in Bed</th>\n",
       "      <th>Minutes REM Sleep</th>\n",
       "      <th>Minutes Light Sleep</th>\n",
       "      <th>Minutes Deep Sleep</th>\n",
       "    </tr>\n",
       "  </thead>\n",
       "  <tbody>\n",
       "    <tr>\n",
       "      <th>0</th>\n",
       "      <td>2736</td>\n",
       "      <td>10201</td>\n",
       "      <td>4.46</td>\n",
       "      <td>6</td>\n",
       "      <td>633</td>\n",
       "      <td>341</td>\n",
       "      <td>10</td>\n",
       "      <td>24</td>\n",
       "      <td>1482</td>\n",
       "      <td>334</td>\n",
       "      <td>98</td>\n",
       "      <td>20</td>\n",
       "      <td>432</td>\n",
       "      <td>47.0</td>\n",
       "      <td>242.0</td>\n",
       "      <td>45.0</td>\n",
       "    </tr>\n",
       "    <tr>\n",
       "      <th>1</th>\n",
       "      <td>2637</td>\n",
       "      <td>9539</td>\n",
       "      <td>4.25</td>\n",
       "      <td>4</td>\n",
       "      <td>608</td>\n",
       "      <td>292</td>\n",
       "      <td>31</td>\n",
       "      <td>2</td>\n",
       "      <td>1302</td>\n",
       "      <td>414</td>\n",
       "      <td>93</td>\n",
       "      <td>33</td>\n",
       "      <td>507</td>\n",
       "      <td>50.0</td>\n",
       "      <td>346.0</td>\n",
       "      <td>18.0</td>\n",
       "    </tr>\n",
       "    <tr>\n",
       "      <th>2</th>\n",
       "      <td>2656</td>\n",
       "      <td>11394</td>\n",
       "      <td>4.75</td>\n",
       "      <td>5</td>\n",
       "      <td>750</td>\n",
       "      <td>242</td>\n",
       "      <td>32</td>\n",
       "      <td>27</td>\n",
       "      <td>1328</td>\n",
       "      <td>331</td>\n",
       "      <td>58</td>\n",
       "      <td>27</td>\n",
       "      <td>389</td>\n",
       "      <td>31.0</td>\n",
       "      <td>278.0</td>\n",
       "      <td>22.0</td>\n",
       "    </tr>\n",
       "    <tr>\n",
       "      <th>3</th>\n",
       "      <td>2934</td>\n",
       "      <td>17150</td>\n",
       "      <td>7.20</td>\n",
       "      <td>6</td>\n",
       "      <td>541</td>\n",
       "      <td>294</td>\n",
       "      <td>16</td>\n",
       "      <td>36</td>\n",
       "      <td>1657</td>\n",
       "      <td>464</td>\n",
       "      <td>89</td>\n",
       "      <td>36</td>\n",
       "      <td>553</td>\n",
       "      <td>84.0</td>\n",
       "      <td>341.0</td>\n",
       "      <td>39.0</td>\n",
       "    </tr>\n",
       "    <tr>\n",
       "      <th>4</th>\n",
       "      <td>2961</td>\n",
       "      <td>18607</td>\n",
       "      <td>7.82</td>\n",
       "      <td>11</td>\n",
       "      <td>452</td>\n",
       "      <td>270</td>\n",
       "      <td>18</td>\n",
       "      <td>48</td>\n",
       "      <td>1651</td>\n",
       "      <td>526</td>\n",
       "      <td>126</td>\n",
       "      <td>46</td>\n",
       "      <td>652</td>\n",
       "      <td>79.0</td>\n",
       "      <td>401.0</td>\n",
       "      <td>46.0</td>\n",
       "    </tr>\n",
       "  </tbody>\n",
       "</table>\n",
       "</div>"
      ],
      "text/plain": [
       "   Calories Burned  Steps  Distance  Floors  Minutes Sedentary  \\\n",
       "0             2736  10201      4.46       6                633   \n",
       "1             2637   9539      4.25       4                608   \n",
       "2             2656  11394      4.75       5                750   \n",
       "3             2934  17150      7.20       6                541   \n",
       "4             2961  18607      7.82      11                452   \n",
       "\n",
       "   Minutes Lightly Active(Fat Burn)  Minutes Fairly Active(Cardio)  \\\n",
       "0                               341                             10   \n",
       "1                               292                             31   \n",
       "2                               242                             32   \n",
       "3                               294                             16   \n",
       "4                               270                             18   \n",
       "\n",
       "   Minutes Very Active(Peak)  Activity Calories  Minutes Asleep  \\\n",
       "0                         24               1482             334   \n",
       "1                          2               1302             414   \n",
       "2                         27               1328             331   \n",
       "3                         36               1657             464   \n",
       "4                         48               1651             526   \n",
       "\n",
       "   Minutes Awake  Number of Awakenings  Time in Bed  Minutes REM Sleep  \\\n",
       "0             98                    20          432               47.0   \n",
       "1             93                    33          507               50.0   \n",
       "2             58                    27          389               31.0   \n",
       "3             89                    36          553               84.0   \n",
       "4            126                    46          652               79.0   \n",
       "\n",
       "   Minutes Light Sleep  Minutes Deep Sleep  \n",
       "0                242.0                45.0  \n",
       "1                346.0                18.0  \n",
       "2                278.0                22.0  \n",
       "3                341.0                39.0  \n",
       "4                401.0                46.0  "
      ]
     },
     "execution_count": 233,
     "metadata": {},
     "output_type": "execute_result"
    }
   ],
   "source": [
    "bit.head(5)"
   ]
  },
  {
   "cell_type": "code",
   "execution_count": 251,
   "metadata": {},
   "outputs": [],
   "source": [
    "x = bit[['Time in Bed', 'Number of Awakenings']]\n",
    "y = bit['Distance']"
   ]
  },
  {
   "cell_type": "code",
   "execution_count": 252,
   "metadata": {},
   "outputs": [],
   "source": [
    "scaler = StandardScaler()"
   ]
  },
  {
   "cell_type": "code",
   "execution_count": 253,
   "metadata": {},
   "outputs": [
    {
     "data": {
      "text/plain": [
       "StandardScaler()"
      ]
     },
     "execution_count": 253,
     "metadata": {},
     "output_type": "execute_result"
    }
   ],
   "source": [
    "scaler.fit(x)"
   ]
  },
  {
   "cell_type": "code",
   "execution_count": 254,
   "metadata": {},
   "outputs": [],
   "source": [
    "x_scaled = scaler.transform(x)"
   ]
  },
  {
   "cell_type": "markdown",
   "metadata": {},
   "source": [
    "### Regression with scaled features"
   ]
  },
  {
   "cell_type": "code",
   "execution_count": 255,
   "metadata": {},
   "outputs": [
    {
     "data": {
      "text/plain": [
       "LinearRegression()"
      ]
     },
     "execution_count": 255,
     "metadata": {},
     "output_type": "execute_result"
    }
   ],
   "source": [
    "reg = LinearRegression()\n",
    "reg.fit(x_scaled,y)"
   ]
  },
  {
   "cell_type": "code",
   "execution_count": 256,
   "metadata": {},
   "outputs": [
    {
     "data": {
      "text/plain": [
       "array([ 0.31549928, -0.65360951])"
      ]
     },
     "execution_count": 256,
     "metadata": {},
     "output_type": "execute_result"
    }
   ],
   "source": [
    "reg.coef_"
   ]
  },
  {
   "cell_type": "code",
   "execution_count": 257,
   "metadata": {},
   "outputs": [
    {
     "data": {
      "text/plain": [
       "4.717136150234742"
      ]
     },
     "execution_count": 257,
     "metadata": {},
     "output_type": "execute_result"
    }
   ],
   "source": [
    "reg.intercept_"
   ]
  },
  {
   "cell_type": "markdown",
   "metadata": {},
   "source": [
    "### Creating a summary table"
   ]
  },
  {
   "cell_type": "code",
   "execution_count": 261,
   "metadata": {},
   "outputs": [],
   "source": [
    "reg_summary = pd.DataFrame([['Bias'],['Time in Bed'],['Number of Awakenings']], columns=['Features'])\n",
    "reg_summary['Weights'] = reg.intercept_, reg.coef_[0], reg.coef_[1]"
   ]
  },
  {
   "cell_type": "code",
   "execution_count": 262,
   "metadata": {},
   "outputs": [
    {
     "data": {
      "text/html": [
       "<div>\n",
       "<style scoped>\n",
       "    .dataframe tbody tr th:only-of-type {\n",
       "        vertical-align: middle;\n",
       "    }\n",
       "\n",
       "    .dataframe tbody tr th {\n",
       "        vertical-align: top;\n",
       "    }\n",
       "\n",
       "    .dataframe thead th {\n",
       "        text-align: right;\n",
       "    }\n",
       "</style>\n",
       "<table border=\"1\" class=\"dataframe\">\n",
       "  <thead>\n",
       "    <tr style=\"text-align: right;\">\n",
       "      <th></th>\n",
       "      <th>Features</th>\n",
       "      <th>Weights</th>\n",
       "    </tr>\n",
       "  </thead>\n",
       "  <tbody>\n",
       "    <tr>\n",
       "      <th>0</th>\n",
       "      <td>Bias</td>\n",
       "      <td>4.717136</td>\n",
       "    </tr>\n",
       "    <tr>\n",
       "      <th>1</th>\n",
       "      <td>Time in Bed</td>\n",
       "      <td>0.315499</td>\n",
       "    </tr>\n",
       "    <tr>\n",
       "      <th>2</th>\n",
       "      <td>Number of Awakenings</td>\n",
       "      <td>-0.653610</td>\n",
       "    </tr>\n",
       "  </tbody>\n",
       "</table>\n",
       "</div>"
      ],
      "text/plain": [
       "               Features   Weights\n",
       "0                  Bias  4.717136\n",
       "1           Time in Bed  0.315499\n",
       "2  Number of Awakenings -0.653610"
      ]
     },
     "execution_count": 262,
     "metadata": {},
     "output_type": "execute_result"
    }
   ],
   "source": [
    "reg_summary"
   ]
  },
  {
   "cell_type": "markdown",
   "metadata": {},
   "source": []
  },
  {
   "cell_type": "markdown",
   "metadata": {},
   "source": [
    "## Making predictions with standardiized coefficients (weights)"
   ]
  },
  {
   "cell_type": "markdown",
   "metadata": {},
   "source": [
    "### Lets use the prediction feature to predict the distance I would travel if I had spent 6 hours in bed and woke up 8 times or 4 hours in bed and woke up 15 times the night before."
   ]
  },
  {
   "cell_type": "code",
   "execution_count": 264,
   "metadata": {},
   "outputs": [
    {
     "data": {
      "text/html": [
       "<div>\n",
       "<style scoped>\n",
       "    .dataframe tbody tr th:only-of-type {\n",
       "        vertical-align: middle;\n",
       "    }\n",
       "\n",
       "    .dataframe tbody tr th {\n",
       "        vertical-align: top;\n",
       "    }\n",
       "\n",
       "    .dataframe thead th {\n",
       "        text-align: right;\n",
       "    }\n",
       "</style>\n",
       "<table border=\"1\" class=\"dataframe\">\n",
       "  <thead>\n",
       "    <tr style=\"text-align: right;\">\n",
       "      <th></th>\n",
       "      <th>Time in Bed</th>\n",
       "      <th>Number of Awakenings</th>\n",
       "    </tr>\n",
       "  </thead>\n",
       "  <tbody>\n",
       "    <tr>\n",
       "      <th>0</th>\n",
       "      <td>360</td>\n",
       "      <td>8</td>\n",
       "    </tr>\n",
       "    <tr>\n",
       "      <th>1</th>\n",
       "      <td>240</td>\n",
       "      <td>15</td>\n",
       "    </tr>\n",
       "  </tbody>\n",
       "</table>\n",
       "</div>"
      ],
      "text/plain": [
       "   Time in Bed  Number of Awakenings\n",
       "0          360                     8\n",
       "1          240                    15"
      ]
     },
     "execution_count": 264,
     "metadata": {},
     "output_type": "execute_result"
    }
   ],
   "source": [
    "new_bit = pd.DataFrame(data=[[360, 8], [240, 15]], columns = ['Time in Bed', 'Number of Awakenings'])\n",
    "new_bit"
   ]
  },
  {
   "cell_type": "code",
   "execution_count": 265,
   "metadata": {},
   "outputs": [
    {
     "data": {
      "text/plain": [
       "array([113.06799953,  70.63281984])"
      ]
     },
     "execution_count": 265,
     "metadata": {},
     "output_type": "execute_result"
    }
   ],
   "source": [
    "reg.predict(new_bit)"
   ]
  },
  {
   "cell_type": "markdown",
   "metadata": {},
   "source": [
    "When we do not scale our numbers we get unrealistic results."
   ]
  },
  {
   "cell_type": "code",
   "execution_count": 266,
   "metadata": {},
   "outputs": [
    {
     "data": {
      "text/plain": [
       "array([[-0.36163251, -1.79342806],\n",
       "       [-1.35511132, -1.00695711]])"
      ]
     },
     "execution_count": 266,
     "metadata": {},
     "output_type": "execute_result"
    }
   ],
   "source": [
    "new_data_scaled = scaler.transform(new_bit)\n",
    "new_data_scaled"
   ]
  },
  {
   "cell_type": "code",
   "execution_count": 267,
   "metadata": {},
   "outputs": [
    {
     "data": {
      "text/plain": [
       "array([5.77524298, 4.94775625])"
      ]
     },
     "execution_count": 267,
     "metadata": {},
     "output_type": "execute_result"
    }
   ],
   "source": [
    "reg.predict(new_data_scaled)"
   ]
  },
  {
   "cell_type": "markdown",
   "metadata": {},
   "source": [
    "The scaled data gives us numbers that are more realistic."
   ]
  },
  {
   "cell_type": "markdown",
   "metadata": {},
   "source": [
    "### What if we remove the remove the **Time in Bed** variable?"
   ]
  },
  {
   "cell_type": "code",
   "execution_count": 270,
   "metadata": {},
   "outputs": [
    {
     "data": {
      "text/plain": [
       "LinearRegression()"
      ]
     },
     "execution_count": 270,
     "metadata": {},
     "output_type": "execute_result"
    }
   ],
   "source": [
    "reg_simple = LinearRegression()\n",
    "x_simple_matrix = x_scaled[:,0].reshape(-1,1)\n",
    "reg_simple.fit(x_simple_matrix,y)"
   ]
  },
  {
   "cell_type": "code",
   "execution_count": 273,
   "metadata": {},
   "outputs": [
    {
     "data": {
      "text/plain": [
       "array([4.80870251, 5.06025413])"
      ]
     },
     "execution_count": 273,
     "metadata": {},
     "output_type": "execute_result"
    }
   ],
   "source": [
    "reg_simple.predict(new_data_scaled[:,0].reshape(-1,1))"
   ]
  },
  {
   "cell_type": "markdown",
   "metadata": {},
   "source": [
    "The prediction is seen to differ by .9 on and .1 respectively without the influence of **Time in Bed**. "
   ]
  },
  {
   "cell_type": "code",
   "execution_count": null,
   "metadata": {},
   "outputs": [],
   "source": []
  }
 ],
 "metadata": {
  "kernelspec": {
   "display_name": "Python 3",
   "language": "python",
   "name": "python3"
  },
  "language_info": {
   "codemirror_mode": {
    "name": "ipython",
    "version": 3
   },
   "file_extension": ".py",
   "mimetype": "text/x-python",
   "name": "python",
   "nbconvert_exporter": "python",
   "pygments_lexer": "ipython3",
   "version": "3.7.6"
  }
 },
 "nbformat": 4,
 "nbformat_minor": 4
}
