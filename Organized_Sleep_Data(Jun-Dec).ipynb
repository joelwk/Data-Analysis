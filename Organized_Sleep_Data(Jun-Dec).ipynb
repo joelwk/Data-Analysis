{
 "metadata": {
  "language_info": {
   "codemirror_mode": {
    "name": "ipython",
    "version": 3
   },
   "file_extension": ".py",
   "mimetype": "text/x-python",
   "name": "python",
   "nbconvert_exporter": "python",
   "pygments_lexer": "ipython3",
   "version": "3.8.5-final"
  },
  "orig_nbformat": 2,
  "kernelspec": {
   "name": "python3",
   "display_name": "Python 3",
   "language": "python"
  }
 },
 "nbformat": 4,
 "nbformat_minor": 2,
 "cells": [
  {
   "cell_type": "code",
   "execution_count": 1,
   "metadata": {},
   "outputs": [],
   "source": [
    "import pandas as pd\n",
    "import numpy as np\n",
    "import glob\n",
    "import csv"
   ]
  },
  {
   "cell_type": "code",
   "execution_count": 2,
   "metadata": {},
   "outputs": [],
   "source": [
    "#Grab all csv files that were exported from fitbit \n",
    "path = r\"C:\\Users\\jwkon\\Data Learning\\FitData\\Fit_Project(Jun-Dec)\\Raw_Data\"\n",
    "allFiles = glob.glob(os.path.join(path,\"*.csv\"))\n",
    "\n",
    "file = []\n",
    "rows = []\n",
    "for f in allFiles:\n",
    "    with open(f, 'r') as csvfile:\n",
    "        csvfile = csvfile.read().split('\\n')\n",
    "        csvreader = csv.reader(csvfile)\n",
    "        fields = next(csvreader)\n",
    "        for row in csvreader:\n",
    "            rows.append(row)\n",
    "data = pd.DataFrame(rows)"
   ]
  },
  {
   "cell_type": "code",
   "execution_count": 3,
   "metadata": {},
   "outputs": [
    {
     "output_type": "execute_result",
     "data": {
      "text/plain": [
       "                      0                   1       2     3   4    5    6    7  \\\n",
       "1            2020-08-01               2,733  11,524  7.17  36  758  207   15   \n",
       "2            2020-08-02               2,125   5,016  2.23   4  880  221    0   \n",
       "3            2020-08-03               1,998   3,466  1.51   4  820  173    0   \n",
       "4            2020-08-04               2,569   8,709  4.95  18  733  252   33   \n",
       "5            2020-08-05               2,963  13,354  7.94   9  700  236   18   \n",
       "..                  ...                 ...     ...   ...  ..  ...  ...  ...   \n",
       "463  2020-09-03 10:14PM   2020-09-04 3:27AM     273    40  12  313   33  195   \n",
       "464  2020-09-02 10:34PM   2020-09-03 3:23AM     239    50  13  289   32  173   \n",
       "465   2020-09-02 2:42AM   2020-09-02 5:16AM     147     6   1  153  N/A  N/A   \n",
       "466   2020-09-01 9:49PM  2020-09-02 12:55AM     161    25  14  186   12  134   \n",
       "467   2020-08-31 9:04PM   2020-09-01 4:07AM     351    72  22  423   58  272   \n",
       "\n",
       "       8      9  \n",
       "1     42  1,299  \n",
       "2      0    730  \n",
       "3      0    560  \n",
       "4     24  1,272  \n",
       "5     54  1,673  \n",
       "..   ...    ...  \n",
       "463   45   None  \n",
       "464   34   None  \n",
       "465  N/A   None  \n",
       "466   15   None  \n",
       "467   21   None  \n",
       "\n",
       "[427 rows x 10 columns]"
      ],
      "text/html": "<div>\n<style scoped>\n    .dataframe tbody tr th:only-of-type {\n        vertical-align: middle;\n    }\n\n    .dataframe tbody tr th {\n        vertical-align: top;\n    }\n\n    .dataframe thead th {\n        text-align: right;\n    }\n</style>\n<table border=\"1\" class=\"dataframe\">\n  <thead>\n    <tr style=\"text-align: right;\">\n      <th></th>\n      <th>0</th>\n      <th>1</th>\n      <th>2</th>\n      <th>3</th>\n      <th>4</th>\n      <th>5</th>\n      <th>6</th>\n      <th>7</th>\n      <th>8</th>\n      <th>9</th>\n    </tr>\n  </thead>\n  <tbody>\n    <tr>\n      <th>1</th>\n      <td>2020-08-01</td>\n      <td>2,733</td>\n      <td>11,524</td>\n      <td>7.17</td>\n      <td>36</td>\n      <td>758</td>\n      <td>207</td>\n      <td>15</td>\n      <td>42</td>\n      <td>1,299</td>\n    </tr>\n    <tr>\n      <th>2</th>\n      <td>2020-08-02</td>\n      <td>2,125</td>\n      <td>5,016</td>\n      <td>2.23</td>\n      <td>4</td>\n      <td>880</td>\n      <td>221</td>\n      <td>0</td>\n      <td>0</td>\n      <td>730</td>\n    </tr>\n    <tr>\n      <th>3</th>\n      <td>2020-08-03</td>\n      <td>1,998</td>\n      <td>3,466</td>\n      <td>1.51</td>\n      <td>4</td>\n      <td>820</td>\n      <td>173</td>\n      <td>0</td>\n      <td>0</td>\n      <td>560</td>\n    </tr>\n    <tr>\n      <th>4</th>\n      <td>2020-08-04</td>\n      <td>2,569</td>\n      <td>8,709</td>\n      <td>4.95</td>\n      <td>18</td>\n      <td>733</td>\n      <td>252</td>\n      <td>33</td>\n      <td>24</td>\n      <td>1,272</td>\n    </tr>\n    <tr>\n      <th>5</th>\n      <td>2020-08-05</td>\n      <td>2,963</td>\n      <td>13,354</td>\n      <td>7.94</td>\n      <td>9</td>\n      <td>700</td>\n      <td>236</td>\n      <td>18</td>\n      <td>54</td>\n      <td>1,673</td>\n    </tr>\n    <tr>\n      <th>...</th>\n      <td>...</td>\n      <td>...</td>\n      <td>...</td>\n      <td>...</td>\n      <td>...</td>\n      <td>...</td>\n      <td>...</td>\n      <td>...</td>\n      <td>...</td>\n      <td>...</td>\n    </tr>\n    <tr>\n      <th>463</th>\n      <td>2020-09-03 10:14PM</td>\n      <td>2020-09-04 3:27AM</td>\n      <td>273</td>\n      <td>40</td>\n      <td>12</td>\n      <td>313</td>\n      <td>33</td>\n      <td>195</td>\n      <td>45</td>\n      <td>None</td>\n    </tr>\n    <tr>\n      <th>464</th>\n      <td>2020-09-02 10:34PM</td>\n      <td>2020-09-03 3:23AM</td>\n      <td>239</td>\n      <td>50</td>\n      <td>13</td>\n      <td>289</td>\n      <td>32</td>\n      <td>173</td>\n      <td>34</td>\n      <td>None</td>\n    </tr>\n    <tr>\n      <th>465</th>\n      <td>2020-09-02 2:42AM</td>\n      <td>2020-09-02 5:16AM</td>\n      <td>147</td>\n      <td>6</td>\n      <td>1</td>\n      <td>153</td>\n      <td>N/A</td>\n      <td>N/A</td>\n      <td>N/A</td>\n      <td>None</td>\n    </tr>\n    <tr>\n      <th>466</th>\n      <td>2020-09-01 9:49PM</td>\n      <td>2020-09-02 12:55AM</td>\n      <td>161</td>\n      <td>25</td>\n      <td>14</td>\n      <td>186</td>\n      <td>12</td>\n      <td>134</td>\n      <td>15</td>\n      <td>None</td>\n    </tr>\n    <tr>\n      <th>467</th>\n      <td>2020-08-31 9:04PM</td>\n      <td>2020-09-01 4:07AM</td>\n      <td>351</td>\n      <td>72</td>\n      <td>22</td>\n      <td>423</td>\n      <td>58</td>\n      <td>272</td>\n      <td>21</td>\n      <td>None</td>\n    </tr>\n  </tbody>\n</table>\n<p>427 rows × 10 columns</p>\n</div>"
     },
     "metadata": {},
     "execution_count": 3
    }
   ],
   "source": [
    "#Filter only elements that contain data from June-December\n",
    "sleep = data[data[0].str.contains('2020-06|2020-07|2020-08|2020-09|2020-10|2020-11|2020-12', na=False)]\n",
    "sleep"
   ]
  },
  {
   "cell_type": "code",
   "execution_count": 6,
   "metadata": {},
   "outputs": [
    {
     "output_type": "execute_result",
     "data": {
      "text/plain": [
       "                      0                   1    2   3   4    5    6    7    8  \\\n",
       "35   2020-08-30 10:35PM   2020-08-31 5:30AM  341  74  26  415   32  259   50   \n",
       "36    2020-08-29 9:31PM   2020-08-30 6:17AM  452  74  31  526   70  314   68   \n",
       "37   2020-08-29 12:43PM   2020-08-29 2:29PM   98   7   2  106  N/A  N/A  N/A   \n",
       "38   2020-08-28 11:17PM   2020-08-29 5:00AM  300  43  23  343   82  154   64   \n",
       "39    2020-08-27 9:46PM   2020-08-28 4:43AM  347  70  18  417   56  269   22   \n",
       "..                  ...                 ...  ...  ..  ..  ...  ...  ...  ...   \n",
       "463  2020-09-03 10:14PM   2020-09-04 3:27AM  273  40  12  313   33  195   45   \n",
       "464  2020-09-02 10:34PM   2020-09-03 3:23AM  239  50  13  289   32  173   34   \n",
       "465   2020-09-02 2:42AM   2020-09-02 5:16AM  147   6   1  153  N/A  N/A  N/A   \n",
       "466   2020-09-01 9:49PM  2020-09-02 12:55AM  161  25  14  186   12  134   15   \n",
       "467   2020-08-31 9:04PM   2020-09-01 4:07AM  351  72  22  423   58  272   21   \n",
       "\n",
       "        9  \n",
       "35   None  \n",
       "36   None  \n",
       "37   None  \n",
       "38   None  \n",
       "39   None  \n",
       "..    ...  \n",
       "463  None  \n",
       "464  None  \n",
       "465  None  \n",
       "466  None  \n",
       "467  None  \n",
       "\n",
       "[219 rows x 10 columns]"
      ],
      "text/html": "<div>\n<style scoped>\n    .dataframe tbody tr th:only-of-type {\n        vertical-align: middle;\n    }\n\n    .dataframe tbody tr th {\n        vertical-align: top;\n    }\n\n    .dataframe thead th {\n        text-align: right;\n    }\n</style>\n<table border=\"1\" class=\"dataframe\">\n  <thead>\n    <tr style=\"text-align: right;\">\n      <th></th>\n      <th>0</th>\n      <th>1</th>\n      <th>2</th>\n      <th>3</th>\n      <th>4</th>\n      <th>5</th>\n      <th>6</th>\n      <th>7</th>\n      <th>8</th>\n      <th>9</th>\n    </tr>\n  </thead>\n  <tbody>\n    <tr>\n      <th>35</th>\n      <td>2020-08-30 10:35PM</td>\n      <td>2020-08-31 5:30AM</td>\n      <td>341</td>\n      <td>74</td>\n      <td>26</td>\n      <td>415</td>\n      <td>32</td>\n      <td>259</td>\n      <td>50</td>\n      <td>None</td>\n    </tr>\n    <tr>\n      <th>36</th>\n      <td>2020-08-29 9:31PM</td>\n      <td>2020-08-30 6:17AM</td>\n      <td>452</td>\n      <td>74</td>\n      <td>31</td>\n      <td>526</td>\n      <td>70</td>\n      <td>314</td>\n      <td>68</td>\n      <td>None</td>\n    </tr>\n    <tr>\n      <th>37</th>\n      <td>2020-08-29 12:43PM</td>\n      <td>2020-08-29 2:29PM</td>\n      <td>98</td>\n      <td>7</td>\n      <td>2</td>\n      <td>106</td>\n      <td>N/A</td>\n      <td>N/A</td>\n      <td>N/A</td>\n      <td>None</td>\n    </tr>\n    <tr>\n      <th>38</th>\n      <td>2020-08-28 11:17PM</td>\n      <td>2020-08-29 5:00AM</td>\n      <td>300</td>\n      <td>43</td>\n      <td>23</td>\n      <td>343</td>\n      <td>82</td>\n      <td>154</td>\n      <td>64</td>\n      <td>None</td>\n    </tr>\n    <tr>\n      <th>39</th>\n      <td>2020-08-27 9:46PM</td>\n      <td>2020-08-28 4:43AM</td>\n      <td>347</td>\n      <td>70</td>\n      <td>18</td>\n      <td>417</td>\n      <td>56</td>\n      <td>269</td>\n      <td>22</td>\n      <td>None</td>\n    </tr>\n    <tr>\n      <th>...</th>\n      <td>...</td>\n      <td>...</td>\n      <td>...</td>\n      <td>...</td>\n      <td>...</td>\n      <td>...</td>\n      <td>...</td>\n      <td>...</td>\n      <td>...</td>\n      <td>...</td>\n    </tr>\n    <tr>\n      <th>463</th>\n      <td>2020-09-03 10:14PM</td>\n      <td>2020-09-04 3:27AM</td>\n      <td>273</td>\n      <td>40</td>\n      <td>12</td>\n      <td>313</td>\n      <td>33</td>\n      <td>195</td>\n      <td>45</td>\n      <td>None</td>\n    </tr>\n    <tr>\n      <th>464</th>\n      <td>2020-09-02 10:34PM</td>\n      <td>2020-09-03 3:23AM</td>\n      <td>239</td>\n      <td>50</td>\n      <td>13</td>\n      <td>289</td>\n      <td>32</td>\n      <td>173</td>\n      <td>34</td>\n      <td>None</td>\n    </tr>\n    <tr>\n      <th>465</th>\n      <td>2020-09-02 2:42AM</td>\n      <td>2020-09-02 5:16AM</td>\n      <td>147</td>\n      <td>6</td>\n      <td>1</td>\n      <td>153</td>\n      <td>N/A</td>\n      <td>N/A</td>\n      <td>N/A</td>\n      <td>None</td>\n    </tr>\n    <tr>\n      <th>466</th>\n      <td>2020-09-01 9:49PM</td>\n      <td>2020-09-02 12:55AM</td>\n      <td>161</td>\n      <td>25</td>\n      <td>14</td>\n      <td>186</td>\n      <td>12</td>\n      <td>134</td>\n      <td>15</td>\n      <td>None</td>\n    </tr>\n    <tr>\n      <th>467</th>\n      <td>2020-08-31 9:04PM</td>\n      <td>2020-09-01 4:07AM</td>\n      <td>351</td>\n      <td>72</td>\n      <td>22</td>\n      <td>423</td>\n      <td>58</td>\n      <td>272</td>\n      <td>21</td>\n      <td>None</td>\n    </tr>\n  </tbody>\n</table>\n<p>219 rows × 10 columns</p>\n</div>"
     },
     "metadata": {},
     "execution_count": 6
    }
   ],
   "source": [
    "#Filter the dataset with the assumption that the first sleep column will display time. So, we check if it contains AM or PM\n",
    "sleep = sleep[sleep[0].str.contains('AM|PM', na=False)]\n",
    "sleep"
   ]
  },
  {
   "cell_type": "code",
   "execution_count": 7,
   "metadata": {},
   "outputs": [
    {
     "output_type": "execute_result",
     "data": {
      "text/plain": [
       "                      0                  1   2  3  4    5    6    7    8     9\n",
       "37   2020-08-29 12:43PM  2020-08-29 2:29PM  98  7  2  106  N/A  N/A  N/A  None\n",
       "44    2020-08-23 1:20PM  2020-08-23 2:36PM  70  6  1   76  N/A  N/A  N/A  None\n",
       "178   2020-07-17 4:11PM  2020-07-17 5:15PM  60  3  1   63  N/A  N/A  N/A  None\n",
       "191  2020-07-06 12:38PM  2020-07-06 1:45PM  60  7  0   67  N/A  N/A  N/A  None\n",
       "194  2020-07-04 12:33PM  2020-07-04 1:44PM  63  8  1   71  N/A  N/A  N/A  None"
      ],
      "text/html": "<div>\n<style scoped>\n    .dataframe tbody tr th:only-of-type {\n        vertical-align: middle;\n    }\n\n    .dataframe tbody tr th {\n        vertical-align: top;\n    }\n\n    .dataframe thead th {\n        text-align: right;\n    }\n</style>\n<table border=\"1\" class=\"dataframe\">\n  <thead>\n    <tr style=\"text-align: right;\">\n      <th></th>\n      <th>0</th>\n      <th>1</th>\n      <th>2</th>\n      <th>3</th>\n      <th>4</th>\n      <th>5</th>\n      <th>6</th>\n      <th>7</th>\n      <th>8</th>\n      <th>9</th>\n    </tr>\n  </thead>\n  <tbody>\n    <tr>\n      <th>37</th>\n      <td>2020-08-29 12:43PM</td>\n      <td>2020-08-29 2:29PM</td>\n      <td>98</td>\n      <td>7</td>\n      <td>2</td>\n      <td>106</td>\n      <td>N/A</td>\n      <td>N/A</td>\n      <td>N/A</td>\n      <td>None</td>\n    </tr>\n    <tr>\n      <th>44</th>\n      <td>2020-08-23 1:20PM</td>\n      <td>2020-08-23 2:36PM</td>\n      <td>70</td>\n      <td>6</td>\n      <td>1</td>\n      <td>76</td>\n      <td>N/A</td>\n      <td>N/A</td>\n      <td>N/A</td>\n      <td>None</td>\n    </tr>\n    <tr>\n      <th>178</th>\n      <td>2020-07-17 4:11PM</td>\n      <td>2020-07-17 5:15PM</td>\n      <td>60</td>\n      <td>3</td>\n      <td>1</td>\n      <td>63</td>\n      <td>N/A</td>\n      <td>N/A</td>\n      <td>N/A</td>\n      <td>None</td>\n    </tr>\n    <tr>\n      <th>191</th>\n      <td>2020-07-06 12:38PM</td>\n      <td>2020-07-06 1:45PM</td>\n      <td>60</td>\n      <td>7</td>\n      <td>0</td>\n      <td>67</td>\n      <td>N/A</td>\n      <td>N/A</td>\n      <td>N/A</td>\n      <td>None</td>\n    </tr>\n    <tr>\n      <th>194</th>\n      <td>2020-07-04 12:33PM</td>\n      <td>2020-07-04 1:44PM</td>\n      <td>63</td>\n      <td>8</td>\n      <td>1</td>\n      <td>71</td>\n      <td>N/A</td>\n      <td>N/A</td>\n      <td>N/A</td>\n      <td>None</td>\n    </tr>\n  </tbody>\n</table>\n</div>"
     },
     "metadata": {},
     "execution_count": 7
    }
   ],
   "source": [
    "#There are more rows than the activity data and requires more filtering to be done. We will filter the second column by searching for elements that contain PM\n",
    "awake_pm = sleep[sleep[1].str.contains('PM', na=False)]\n",
    "awake_pm.head()"
   ]
  },
  {
   "cell_type": "code",
   "execution_count": 8,
   "metadata": {},
   "outputs": [],
   "source": [
    "#Combining both dataframes and dropping duplicates lets us filter out the extra 21 rows\n",
    "sleep = awake_pm.append(sleep)\n",
    "sleep = sleep[~sleep.index.duplicated(keep=False)]"
   ]
  },
  {
   "cell_type": "code",
   "execution_count": 9,
   "metadata": {},
   "outputs": [
    {
     "output_type": "execute_result",
     "data": {
      "text/plain": [
       "                     0                  1    2   3   4    5   6    7   8     9\n",
       "35  2020-08-30 10:35PM  2020-08-31 5:30AM  341  74  26  415  32  259  50  None\n",
       "36   2020-08-29 9:31PM  2020-08-30 6:17AM  452  74  31  526  70  314  68  None\n",
       "38  2020-08-28 11:17PM  2020-08-29 5:00AM  300  43  23  343  82  154  64  None\n",
       "39   2020-08-27 9:46PM  2020-08-28 4:43AM  347  70  18  417  56  269  22  None\n",
       "40   2020-08-26 9:45PM  2020-08-27 5:19AM  382  72  29  454  56  261  65  None"
      ],
      "text/html": "<div>\n<style scoped>\n    .dataframe tbody tr th:only-of-type {\n        vertical-align: middle;\n    }\n\n    .dataframe tbody tr th {\n        vertical-align: top;\n    }\n\n    .dataframe thead th {\n        text-align: right;\n    }\n</style>\n<table border=\"1\" class=\"dataframe\">\n  <thead>\n    <tr style=\"text-align: right;\">\n      <th></th>\n      <th>0</th>\n      <th>1</th>\n      <th>2</th>\n      <th>3</th>\n      <th>4</th>\n      <th>5</th>\n      <th>6</th>\n      <th>7</th>\n      <th>8</th>\n      <th>9</th>\n    </tr>\n  </thead>\n  <tbody>\n    <tr>\n      <th>35</th>\n      <td>2020-08-30 10:35PM</td>\n      <td>2020-08-31 5:30AM</td>\n      <td>341</td>\n      <td>74</td>\n      <td>26</td>\n      <td>415</td>\n      <td>32</td>\n      <td>259</td>\n      <td>50</td>\n      <td>None</td>\n    </tr>\n    <tr>\n      <th>36</th>\n      <td>2020-08-29 9:31PM</td>\n      <td>2020-08-30 6:17AM</td>\n      <td>452</td>\n      <td>74</td>\n      <td>31</td>\n      <td>526</td>\n      <td>70</td>\n      <td>314</td>\n      <td>68</td>\n      <td>None</td>\n    </tr>\n    <tr>\n      <th>38</th>\n      <td>2020-08-28 11:17PM</td>\n      <td>2020-08-29 5:00AM</td>\n      <td>300</td>\n      <td>43</td>\n      <td>23</td>\n      <td>343</td>\n      <td>82</td>\n      <td>154</td>\n      <td>64</td>\n      <td>None</td>\n    </tr>\n    <tr>\n      <th>39</th>\n      <td>2020-08-27 9:46PM</td>\n      <td>2020-08-28 4:43AM</td>\n      <td>347</td>\n      <td>70</td>\n      <td>18</td>\n      <td>417</td>\n      <td>56</td>\n      <td>269</td>\n      <td>22</td>\n      <td>None</td>\n    </tr>\n    <tr>\n      <th>40</th>\n      <td>2020-08-26 9:45PM</td>\n      <td>2020-08-27 5:19AM</td>\n      <td>382</td>\n      <td>72</td>\n      <td>29</td>\n      <td>454</td>\n      <td>56</td>\n      <td>261</td>\n      <td>65</td>\n      <td>None</td>\n    </tr>\n  </tbody>\n</table>\n</div>"
     },
     "metadata": {},
     "execution_count": 9
    }
   ],
   "source": [
    "sleep.head()"
   ]
  },
  {
   "cell_type": "code",
   "execution_count": 10,
   "metadata": {},
   "outputs": [],
   "source": [
    "# Sleep data is reversed, so we need to order by ascending\n",
    "sleep.sort_values(by=[1], inplace=True, ascending=True)"
   ]
  },
  {
   "cell_type": "code",
   "execution_count": 11,
   "metadata": {},
   "outputs": [
    {
     "output_type": "execute_result",
     "data": {
      "text/plain": [
       "        0     1     2     3     4     5     6     7     8     9\n",
       "33  Sleep  None  None  None  None  None  None  None  None  None"
      ],
      "text/html": "<div>\n<style scoped>\n    .dataframe tbody tr th:only-of-type {\n        vertical-align: middle;\n    }\n\n    .dataframe tbody tr th {\n        vertical-align: top;\n    }\n\n    .dataframe thead th {\n        text-align: right;\n    }\n</style>\n<table border=\"1\" class=\"dataframe\">\n  <thead>\n    <tr style=\"text-align: right;\">\n      <th></th>\n      <th>0</th>\n      <th>1</th>\n      <th>2</th>\n      <th>3</th>\n      <th>4</th>\n      <th>5</th>\n      <th>6</th>\n      <th>7</th>\n      <th>8</th>\n      <th>9</th>\n    </tr>\n  </thead>\n  <tbody>\n    <tr>\n      <th>33</th>\n      <td>Sleep</td>\n      <td>None</td>\n      <td>None</td>\n      <td>None</td>\n      <td>None</td>\n      <td>None</td>\n      <td>None</td>\n      <td>None</td>\n      <td>None</td>\n      <td>None</td>\n    </tr>\n  </tbody>\n</table>\n</div>"
     },
     "metadata": {},
     "execution_count": 11
    }
   ],
   "source": [
    "# Search for Sleep column header (The fitbit export contains a csv with both activity and sleep data. Finding the 'Sleep' column helps us identify the start of the sleep dataset)\n",
    "sleep_col = data[data[0].str.contains('Sleep', na=False)]\n",
    "sleep_col.head(1)"
   ]
  },
  {
   "cell_type": "code",
   "execution_count": 12,
   "metadata": {},
   "outputs": [],
   "source": [
    "#Row 33 contains the 'Sleep' column. We assume the column headers start on the next row so we assign it as such.\n",
    "sleep.columns = [data.iloc[34]]"
   ]
  },
  {
   "cell_type": "code",
   "execution_count": 13,
   "metadata": {},
   "outputs": [
    {
     "output_type": "execute_result",
     "data": {
      "text/plain": [
       "34           Start Time           End Time Minutes Asleep Minutes Awake  \\\n",
       "266  2020-06-01 10:38PM  2020-06-02 4:15AM            290            47   \n",
       "\n",
       "34  Number of Awakenings Time in Bed Minutes REM Sleep Minutes Light Sleep  \\\n",
       "266                   18         337                58                 200   \n",
       "\n",
       "34  Minutes Deep Sleep   NaN  \n",
       "266                 32  None  "
      ],
      "text/html": "<div>\n<style scoped>\n    .dataframe tbody tr th:only-of-type {\n        vertical-align: middle;\n    }\n\n    .dataframe tbody tr th {\n        vertical-align: top;\n    }\n\n    .dataframe thead tr th {\n        text-align: left;\n    }\n</style>\n<table border=\"1\" class=\"dataframe\">\n  <thead>\n    <tr>\n      <th>34</th>\n      <th>Start Time</th>\n      <th>End Time</th>\n      <th>Minutes Asleep</th>\n      <th>Minutes Awake</th>\n      <th>Number of Awakenings</th>\n      <th>Time in Bed</th>\n      <th>Minutes REM Sleep</th>\n      <th>Minutes Light Sleep</th>\n      <th>Minutes Deep Sleep</th>\n      <th>NaN</th>\n    </tr>\n  </thead>\n  <tbody>\n    <tr>\n      <th>266</th>\n      <td>2020-06-01 10:38PM</td>\n      <td>2020-06-02 4:15AM</td>\n      <td>290</td>\n      <td>47</td>\n      <td>18</td>\n      <td>337</td>\n      <td>58</td>\n      <td>200</td>\n      <td>32</td>\n      <td>None</td>\n    </tr>\n  </tbody>\n</table>\n</div>"
     },
     "metadata": {},
     "execution_count": 13
    }
   ],
   "source": [
    "#Preview column headers\n",
    "sleep.head(1)"
   ]
  },
  {
   "cell_type": "code",
   "execution_count": 14,
   "metadata": {},
   "outputs": [],
   "source": [
    "#Drop NaN and index header\n",
    "sleep = sleep.iloc[:, :-1]\n",
    "sleep = sleep.rename_axis(None, axis=1)\n",
    "sleep = sleep.reset_index(drop=True)"
   ]
  },
  {
   "cell_type": "code",
   "execution_count": 15,
   "metadata": {},
   "outputs": [
    {
     "output_type": "execute_result",
     "data": {
      "text/plain": [
       "             Start Time           End Time Minutes Asleep Minutes Awake  \\\n",
       "0    2020-06-01 10:38PM  2020-06-02 4:15AM            290            47   \n",
       "1     2020-06-03 1:37AM  2020-06-03 4:39AM            153            29   \n",
       "2    2020-06-03 11:05PM  2020-06-04 2:13AM            150            38   \n",
       "3    2020-06-04 11:22PM  2020-06-05 4:23AM            255            46   \n",
       "4    2020-06-05 11:13PM  2020-06-06 5:35AM            309            73   \n",
       "..                  ...                ...            ...           ...   \n",
       "205  2020-12-21 10:17PM  2020-12-22 5:41AM            386            58   \n",
       "206  2020-12-22 11:06PM  2020-12-23 3:25AM            226            33   \n",
       "207   2020-12-23 9:53PM  2020-12-24 4:50AM            365            52   \n",
       "208  2020-12-24 11:48PM  2020-12-25 1:10AM             66            16   \n",
       "209   2020-12-25 2:11AM  2020-12-25 5:40AM            182            27   \n",
       "\n",
       "    Number of Awakenings Time in Bed Minutes REM Sleep Minutes Light Sleep  \\\n",
       "0                     18         337                58                 200   \n",
       "1                     16         182                 9                 119   \n",
       "2                     13         188                15                  92   \n",
       "3                     22         301                16                 207   \n",
       "4                     22         382                64                 208   \n",
       "..                   ...         ...               ...                 ...   \n",
       "205                   29         444                84                 231   \n",
       "206                   16         259                32                 161   \n",
       "207                   32         417                92                 221   \n",
       "208                    1          82               N/A                 N/A   \n",
       "209                   16         209                45                 116   \n",
       "\n",
       "    Minutes Deep Sleep  \n",
       "0                   32  \n",
       "1                   25  \n",
       "2                   43  \n",
       "3                   32  \n",
       "4                   37  \n",
       "..                 ...  \n",
       "205                 71  \n",
       "206                 33  \n",
       "207                 52  \n",
       "208                N/A  \n",
       "209                 21  \n",
       "\n",
       "[210 rows x 9 columns]"
      ],
      "text/html": "<div>\n<style scoped>\n    .dataframe tbody tr th:only-of-type {\n        vertical-align: middle;\n    }\n\n    .dataframe tbody tr th {\n        vertical-align: top;\n    }\n\n    .dataframe thead tr th {\n        text-align: left;\n    }\n</style>\n<table border=\"1\" class=\"dataframe\">\n  <thead>\n    <tr>\n      <th></th>\n      <th>Start Time</th>\n      <th>End Time</th>\n      <th>Minutes Asleep</th>\n      <th>Minutes Awake</th>\n      <th>Number of Awakenings</th>\n      <th>Time in Bed</th>\n      <th>Minutes REM Sleep</th>\n      <th>Minutes Light Sleep</th>\n      <th>Minutes Deep Sleep</th>\n    </tr>\n  </thead>\n  <tbody>\n    <tr>\n      <th>0</th>\n      <td>2020-06-01 10:38PM</td>\n      <td>2020-06-02 4:15AM</td>\n      <td>290</td>\n      <td>47</td>\n      <td>18</td>\n      <td>337</td>\n      <td>58</td>\n      <td>200</td>\n      <td>32</td>\n    </tr>\n    <tr>\n      <th>1</th>\n      <td>2020-06-03 1:37AM</td>\n      <td>2020-06-03 4:39AM</td>\n      <td>153</td>\n      <td>29</td>\n      <td>16</td>\n      <td>182</td>\n      <td>9</td>\n      <td>119</td>\n      <td>25</td>\n    </tr>\n    <tr>\n      <th>2</th>\n      <td>2020-06-03 11:05PM</td>\n      <td>2020-06-04 2:13AM</td>\n      <td>150</td>\n      <td>38</td>\n      <td>13</td>\n      <td>188</td>\n      <td>15</td>\n      <td>92</td>\n      <td>43</td>\n    </tr>\n    <tr>\n      <th>3</th>\n      <td>2020-06-04 11:22PM</td>\n      <td>2020-06-05 4:23AM</td>\n      <td>255</td>\n      <td>46</td>\n      <td>22</td>\n      <td>301</td>\n      <td>16</td>\n      <td>207</td>\n      <td>32</td>\n    </tr>\n    <tr>\n      <th>4</th>\n      <td>2020-06-05 11:13PM</td>\n      <td>2020-06-06 5:35AM</td>\n      <td>309</td>\n      <td>73</td>\n      <td>22</td>\n      <td>382</td>\n      <td>64</td>\n      <td>208</td>\n      <td>37</td>\n    </tr>\n    <tr>\n      <th>...</th>\n      <td>...</td>\n      <td>...</td>\n      <td>...</td>\n      <td>...</td>\n      <td>...</td>\n      <td>...</td>\n      <td>...</td>\n      <td>...</td>\n      <td>...</td>\n    </tr>\n    <tr>\n      <th>205</th>\n      <td>2020-12-21 10:17PM</td>\n      <td>2020-12-22 5:41AM</td>\n      <td>386</td>\n      <td>58</td>\n      <td>29</td>\n      <td>444</td>\n      <td>84</td>\n      <td>231</td>\n      <td>71</td>\n    </tr>\n    <tr>\n      <th>206</th>\n      <td>2020-12-22 11:06PM</td>\n      <td>2020-12-23 3:25AM</td>\n      <td>226</td>\n      <td>33</td>\n      <td>16</td>\n      <td>259</td>\n      <td>32</td>\n      <td>161</td>\n      <td>33</td>\n    </tr>\n    <tr>\n      <th>207</th>\n      <td>2020-12-23 9:53PM</td>\n      <td>2020-12-24 4:50AM</td>\n      <td>365</td>\n      <td>52</td>\n      <td>32</td>\n      <td>417</td>\n      <td>92</td>\n      <td>221</td>\n      <td>52</td>\n    </tr>\n    <tr>\n      <th>208</th>\n      <td>2020-12-24 11:48PM</td>\n      <td>2020-12-25 1:10AM</td>\n      <td>66</td>\n      <td>16</td>\n      <td>1</td>\n      <td>82</td>\n      <td>N/A</td>\n      <td>N/A</td>\n      <td>N/A</td>\n    </tr>\n    <tr>\n      <th>209</th>\n      <td>2020-12-25 2:11AM</td>\n      <td>2020-12-25 5:40AM</td>\n      <td>182</td>\n      <td>27</td>\n      <td>16</td>\n      <td>209</td>\n      <td>45</td>\n      <td>116</td>\n      <td>21</td>\n    </tr>\n  </tbody>\n</table>\n<p>210 rows × 9 columns</p>\n</div>"
     },
     "metadata": {},
     "execution_count": 15
    }
   ],
   "source": [
    "#Preview dataframe\n",
    "sleep"
   ]
  },
  {
   "cell_type": "code",
   "execution_count": 29,
   "metadata": {},
   "outputs": [],
   "source": [
    "sleep.to_csv('Organized_Sleep_Data(Jun-Dec).csv', index=False)"
   ]
  },
  {
   "cell_type": "code",
   "execution_count": null,
   "metadata": {},
   "outputs": [],
   "source": []
  }
 ]
}