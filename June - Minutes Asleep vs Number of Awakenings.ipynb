{
 "cells": [
  {
   "cell_type": "code",
   "execution_count": 1,
   "metadata": {},
   "outputs": [],
   "source": [
    "import numpy as np\n",
    "import csv\n",
    "import sys\n",
    "import plotly.express as pxl\n",
    "import os\n",
    "import pandas as pd\n",
    "import matplotlib.pyplot as plt\n",
    "import statsmodels.api as sm\n",
    "import seaborn as sns\n",
    "sns.set()\n",
    "from sklearn.linear_model import LinearRegression"
   ]
  },
  {
   "cell_type": "code",
   "execution_count": 2,
   "metadata": {},
   "outputs": [],
   "source": [
    "filename = 'June.csv'"
   ]
  },
  {
   "cell_type": "code",
   "execution_count": 3,
   "metadata": {},
   "outputs": [],
   "source": [
    "fields = []\n",
    "rows = []\n",
    "\n",
    "with open('June.csv', 'r') as csvfile:\n",
    "    csvfile = csvfile.read().split('\\n')\n",
    "    csvreader = csv.reader(csvfile)\n",
    "    fields = next(csvreader)\n",
    "    for row in csvreader:\n",
    "        rows.append(row)\n",
    "data = pd.DataFrame(rows)"
   ]
  },
  {
   "cell_type": "code",
   "execution_count": 4,
   "metadata": {},
   "outputs": [
    {
     "data": {
      "text/html": [
       "<div>\n",
       "<style scoped>\n",
       "    .dataframe tbody tr th:only-of-type {\n",
       "        vertical-align: middle;\n",
       "    }\n",
       "\n",
       "    .dataframe tbody tr th {\n",
       "        vertical-align: top;\n",
       "    }\n",
       "\n",
       "    .dataframe thead th {\n",
       "        text-align: right;\n",
       "    }\n",
       "</style>\n",
       "<table border=\"1\" class=\"dataframe\">\n",
       "  <thead>\n",
       "    <tr style=\"text-align: right;\">\n",
       "      <th></th>\n",
       "      <th>0</th>\n",
       "      <th>1</th>\n",
       "      <th>2</th>\n",
       "      <th>3</th>\n",
       "      <th>4</th>\n",
       "      <th>5</th>\n",
       "      <th>6</th>\n",
       "      <th>7</th>\n",
       "      <th>8</th>\n",
       "      <th>9</th>\n",
       "    </tr>\n",
       "  </thead>\n",
       "  <tbody>\n",
       "    <tr>\n",
       "      <th>32</th>\n",
       "      <td>Sleep</td>\n",
       "      <td>None</td>\n",
       "      <td>None</td>\n",
       "      <td>None</td>\n",
       "      <td>None</td>\n",
       "      <td>None</td>\n",
       "      <td>None</td>\n",
       "      <td>None</td>\n",
       "      <td>None</td>\n",
       "      <td>None</td>\n",
       "    </tr>\n",
       "  </tbody>\n",
       "</table>\n",
       "</div>"
      ],
      "text/plain": [
       "        0     1     2     3     4     5     6     7     8     9\n",
       "32  Sleep  None  None  None  None  None  None  None  None  None"
      ]
     },
     "execution_count": 4,
     "metadata": {},
     "output_type": "execute_result"
    }
   ],
   "source": [
    "#locate Sleep data\n",
    "df = data[data.eq('Sleep').any(axis=1)]\n",
    "df"
   ]
  },
  {
   "cell_type": "code",
   "execution_count": 5,
   "metadata": {},
   "outputs": [],
   "source": [
    "#Set dataframe with header of sleep data and following array\n",
    "data_h = data.iloc[33]\n",
    "data_b = data.iloc[34:64]\n",
    "data = np.array(data_b)\n",
    "data = pd.DataFrame(data, columns=data_h)\n",
    "data = data.replace(',','', regex=True)\n",
    "data = data.iloc[::-1]"
   ]
  },
  {
   "cell_type": "code",
   "execution_count": 6,
   "metadata": {},
   "outputs": [
    {
     "data": {
      "text/html": [
       "<div>\n",
       "<style scoped>\n",
       "    .dataframe tbody tr th:only-of-type {\n",
       "        vertical-align: middle;\n",
       "    }\n",
       "\n",
       "    .dataframe tbody tr th {\n",
       "        vertical-align: top;\n",
       "    }\n",
       "\n",
       "    .dataframe thead th {\n",
       "        text-align: right;\n",
       "    }\n",
       "</style>\n",
       "<table border=\"1\" class=\"dataframe\">\n",
       "  <thead>\n",
       "    <tr style=\"text-align: right;\">\n",
       "      <th>33</th>\n",
       "      <th>Start Time</th>\n",
       "      <th>End Time</th>\n",
       "      <th>Minutes Asleep</th>\n",
       "      <th>Minutes Awake</th>\n",
       "      <th>Number of Awakenings</th>\n",
       "      <th>Time in Bed</th>\n",
       "      <th>Minutes REM Sleep</th>\n",
       "      <th>Minutes Light Sleep</th>\n",
       "      <th>Minutes Deep Sleep</th>\n",
       "      <th>NaN</th>\n",
       "    </tr>\n",
       "  </thead>\n",
       "  <tbody>\n",
       "    <tr>\n",
       "      <th>29</th>\n",
       "      <td>2020-06-01 10:38PM</td>\n",
       "      <td>2020-06-02 4:15AM</td>\n",
       "      <td>290</td>\n",
       "      <td>47</td>\n",
       "      <td>18</td>\n",
       "      <td>337</td>\n",
       "      <td>58</td>\n",
       "      <td>200</td>\n",
       "      <td>32</td>\n",
       "      <td>None</td>\n",
       "    </tr>\n",
       "    <tr>\n",
       "      <th>28</th>\n",
       "      <td>2020-06-02 9:18PM</td>\n",
       "      <td>2020-06-02 11:55PM</td>\n",
       "      <td>136</td>\n",
       "      <td>21</td>\n",
       "      <td>5</td>\n",
       "      <td>157</td>\n",
       "      <td>N/A</td>\n",
       "      <td>N/A</td>\n",
       "      <td>N/A</td>\n",
       "      <td>None</td>\n",
       "    </tr>\n",
       "    <tr>\n",
       "      <th>27</th>\n",
       "      <td>2020-06-03 1:37AM</td>\n",
       "      <td>2020-06-03 4:39AM</td>\n",
       "      <td>153</td>\n",
       "      <td>29</td>\n",
       "      <td>16</td>\n",
       "      <td>182</td>\n",
       "      <td>9</td>\n",
       "      <td>119</td>\n",
       "      <td>25</td>\n",
       "      <td>None</td>\n",
       "    </tr>\n",
       "    <tr>\n",
       "      <th>26</th>\n",
       "      <td>2020-06-03 11:05PM</td>\n",
       "      <td>2020-06-04 2:13AM</td>\n",
       "      <td>150</td>\n",
       "      <td>38</td>\n",
       "      <td>13</td>\n",
       "      <td>188</td>\n",
       "      <td>15</td>\n",
       "      <td>92</td>\n",
       "      <td>43</td>\n",
       "      <td>None</td>\n",
       "    </tr>\n",
       "    <tr>\n",
       "      <th>25</th>\n",
       "      <td>2020-06-04 11:22PM</td>\n",
       "      <td>2020-06-05 4:23AM</td>\n",
       "      <td>255</td>\n",
       "      <td>46</td>\n",
       "      <td>22</td>\n",
       "      <td>301</td>\n",
       "      <td>16</td>\n",
       "      <td>207</td>\n",
       "      <td>32</td>\n",
       "      <td>None</td>\n",
       "    </tr>\n",
       "  </tbody>\n",
       "</table>\n",
       "</div>"
      ],
      "text/plain": [
       "33          Start Time            End Time Minutes Asleep Minutes Awake  \\\n",
       "29  2020-06-01 10:38PM   2020-06-02 4:15AM            290            47   \n",
       "28   2020-06-02 9:18PM  2020-06-02 11:55PM            136            21   \n",
       "27   2020-06-03 1:37AM   2020-06-03 4:39AM            153            29   \n",
       "26  2020-06-03 11:05PM   2020-06-04 2:13AM            150            38   \n",
       "25  2020-06-04 11:22PM   2020-06-05 4:23AM            255            46   \n",
       "\n",
       "33 Number of Awakenings Time in Bed Minutes REM Sleep Minutes Light Sleep  \\\n",
       "29                   18         337                58                 200   \n",
       "28                    5         157               N/A                 N/A   \n",
       "27                   16         182                 9                 119   \n",
       "26                   13         188                15                  92   \n",
       "25                   22         301                16                 207   \n",
       "\n",
       "33 Minutes Deep Sleep   NaN  \n",
       "29                 32  None  \n",
       "28                N/A  None  \n",
       "27                 25  None  \n",
       "26                 43  None  \n",
       "25                 32  None  "
      ]
     },
     "execution_count": 6,
     "metadata": {},
     "output_type": "execute_result"
    }
   ],
   "source": [
    "data.head()"
   ]
  },
  {
   "cell_type": "code",
   "execution_count": 7,
   "metadata": {},
   "outputs": [],
   "source": [
    "x1 = data['Minutes Asleep'].astype(str).astype(float)\n",
    "y = data['Number of Awakenings'].astype(str).astype(int)"
   ]
  },
  {
   "cell_type": "code",
   "execution_count": 8,
   "metadata": {},
   "outputs": [
    {
     "data": {
      "image/png": "[encoded data removed]",
      "text/plain": [
       "<Figure size 432x288 with 1 Axes>"
      ]
     },
     "metadata": {},
     "output_type": "display_data"
    }
   ],
   "source": [
    "plt.scatter(x1,y)\n",
    "plt.xlabel('Minutes Asleep',fontsize=20)\n",
    "plt.ylabel('Number of Awakenings',fontsize=20)\n",
    "plt.show()"
   ]
  },
  {
   "cell_type": "code",
   "execution_count": 9,
   "metadata": {},
   "outputs": [
    {
     "data": {
      "text/html": [
       "<table class=\"simpletable\">\n",
       "<caption>OLS Regression Results</caption>\n",
       "<tr>\n",
       "  <th>Dep. Variable:</th>    <td>Number of Awakenings</td> <th>  R-squared:         </th> <td>   0.842</td>\n",
       "</tr>\n",
       "<tr>\n",
       "  <th>Model:</th>                     <td>OLS</td>         <th>  Adj. R-squared:    </th> <td>   0.836</td>\n",
       "</tr>\n",
       "<tr>\n",
       "  <th>Method:</th>               <td>Least Squares</td>    <th>  F-statistic:       </th> <td>   149.2</td>\n",
       "</tr>\n",
       "<tr>\n",
       "  <th>Date:</th>               <td>Fri, 31 Jul 2020</td>   <th>  Prob (F-statistic):</th> <td>9.76e-13</td>\n",
       "</tr>\n",
       "<tr>\n",
       "  <th>Time:</th>                   <td>20:42:52</td>       <th>  Log-Likelihood:    </th> <td> -79.516</td>\n",
       "</tr>\n",
       "<tr>\n",
       "  <th>No. Observations:</th>        <td>    30</td>        <th>  AIC:               </th> <td>   163.0</td>\n",
       "</tr>\n",
       "<tr>\n",
       "  <th>Df Residuals:</th>            <td>    28</td>        <th>  BIC:               </th> <td>   165.8</td>\n",
       "</tr>\n",
       "<tr>\n",
       "  <th>Df Model:</th>                <td>     1</td>        <th>                     </th>     <td> </td>   \n",
       "</tr>\n",
       "<tr>\n",
       "  <th>Covariance Type:</th>        <td>nonrobust</td>      <th>                     </th>     <td> </td>   \n",
       "</tr>\n",
       "</table>\n",
       "<table class=\"simpletable\">\n",
       "<tr>\n",
       "         <td></td>           <th>coef</th>     <th>std err</th>      <th>t</th>      <th>P>|t|</th>  <th>[0.025</th>    <th>0.975]</th>  \n",
       "</tr>\n",
       "<tr>\n",
       "  <th>const</th>          <td>   -1.2264</td> <td>    1.875</td> <td>   -0.654</td> <td> 0.518</td> <td>   -5.067</td> <td>    2.614</td>\n",
       "</tr>\n",
       "<tr>\n",
       "  <th>Minutes Asleep</th> <td>    0.0730</td> <td>    0.006</td> <td>   12.216</td> <td> 0.000</td> <td>    0.061</td> <td>    0.085</td>\n",
       "</tr>\n",
       "</table>\n",
       "<table class=\"simpletable\">\n",
       "<tr>\n",
       "  <th>Omnibus:</th>       <td> 3.224</td> <th>  Durbin-Watson:     </th> <td>   1.950</td>\n",
       "</tr>\n",
       "<tr>\n",
       "  <th>Prob(Omnibus):</th> <td> 0.199</td> <th>  Jarque-Bera (JB):  </th> <td>   1.870</td>\n",
       "</tr>\n",
       "<tr>\n",
       "  <th>Skew:</th>          <td>-0.549</td> <th>  Prob(JB):          </th> <td>   0.393</td>\n",
       "</tr>\n",
       "<tr>\n",
       "  <th>Kurtosis:</th>      <td> 3.539</td> <th>  Cond. No.          </th> <td>    909.</td>\n",
       "</tr>\n",
       "</table><br/><br/>Warnings:<br/>[1] Standard Errors assume that the covariance matrix of the errors is correctly specified."
      ],
      "text/plain": [
       "<class 'statsmodels.iolib.summary.Summary'>\n",
       "\"\"\"\n",
       "                             OLS Regression Results                             \n",
       "================================================================================\n",
       "Dep. Variable:     Number of Awakenings   R-squared:                       0.842\n",
       "Model:                              OLS   Adj. R-squared:                  0.836\n",
       "Method:                   Least Squares   F-statistic:                     149.2\n",
       "Date:                  Fri, 31 Jul 2020   Prob (F-statistic):           9.76e-13\n",
       "Time:                          20:42:52   Log-Likelihood:                -79.516\n",
       "No. Observations:                    30   AIC:                             163.0\n",
       "Df Residuals:                        28   BIC:                             165.8\n",
       "Df Model:                             1                                         \n",
       "Covariance Type:              nonrobust                                         \n",
       "==================================================================================\n",
       "                     coef    std err          t      P>|t|      [0.025      0.975]\n",
       "----------------------------------------------------------------------------------\n",
       "const             -1.2264      1.875     -0.654      0.518      -5.067       2.614\n",
       "Minutes Asleep     0.0730      0.006     12.216      0.000       0.061       0.085\n",
       "==============================================================================\n",
       "Omnibus:                        3.224   Durbin-Watson:                   1.950\n",
       "Prob(Omnibus):                  0.199   Jarque-Bera (JB):                1.870\n",
       "Skew:                          -0.549   Prob(JB):                        0.393\n",
       "Kurtosis:                       3.539   Cond. No.                         909.\n",
       "==============================================================================\n",
       "\n",
       "Warnings:\n",
       "[1] Standard Errors assume that the covariance matrix of the errors is correctly specified.\n",
       "\"\"\""
      ]
     },
     "execution_count": 9,
     "metadata": {},
     "output_type": "execute_result"
    }
   ],
   "source": [
    "x = sm.add_constant(x1)\n",
    "results = sm.OLS(y,x).fit()\n",
    "results.summary()"
   ]
  },
  {
   "cell_type": "code",
   "execution_count": 15,
   "metadata": {},
   "outputs": [
    {
     "data": {
      "image/png": "[encoded data removed]",
      "text/plain": [
       "<Figure size 432x288 with 1 Axes>"
      ]
     },
     "metadata": {},
     "output_type": "display_data"
    }
   ],
   "source": [
    "plt.scatter(x1,y)\n",
    "yhat = x1*0.0730-1.2264\n",
    "fig = plt.plot(x1,yhat, lw=4, c='orange', label ='regression line')\n",
    "plt.xlabel('Minutes Asleep', fontsize = 20)\n",
    "plt.ylabel('Number of Awakenings', fontsize = 20)\n",
    "plt.show()"
   ]
  },
  {
   "cell_type": "code",
   "execution_count": 11,
   "metadata": {},
   "outputs": [
    {
     "data": {
      "text/plain": [
       "LinearRegression(copy_X=True, fit_intercept=True, n_jobs=None, normalize=False)"
      ]
     },
     "execution_count": 11,
     "metadata": {},
     "output_type": "execute_result"
    }
   ],
   "source": [
    "#transform the inputs into a matrix (2D object)\n",
    "x_matrix = x1.values.reshape(-1,1)\n",
    "#regression itself\n",
    "reg = LinearRegression()\n",
    "reg.fit(x_matrix,y)"
   ]
  },
  {
   "cell_type": "code",
   "execution_count": 12,
   "metadata": {},
   "outputs": [
    {
     "data": {
      "text/plain": [
       "0.8420223979697281"
      ]
     },
     "execution_count": 12,
     "metadata": {},
     "output_type": "execute_result"
    }
   ],
   "source": [
    "#r-squared\n",
    "reg.score(x_matrix,y)"
   ]
  },
  {
   "cell_type": "code",
   "execution_count": 16,
   "metadata": {},
   "outputs": [
    {
     "data": {
      "text/plain": [
       "array([9.72082516])"
      ]
     },
     "execution_count": 16,
     "metadata": {},
     "output_type": "execute_result"
    }
   ],
   "source": [
    "#prediction for how many times I'll wake up if I sleep for 150 minutes\n",
    "reg.predict([[150]])"
   ]
  },
  {
   "cell_type": "markdown",
   "metadata": {},
   "source": [
    "I'm predicted to wake up close to 10 times during a 150 minute sleep window"
   ]
  },
  {
   "cell_type": "code",
   "execution_count": null,
   "metadata": {},
   "outputs": [],
   "source": []
  }
 ],
 "metadata": {
  "kernelspec": {
   "display_name": "Python 3",
   "language": "python",
   "name": "python3"
  },
  "language_info": {
   "codemirror_mode": {
    "name": "ipython",
    "version": 3
   },
   "file_extension": ".py",
   "mimetype": "text/x-python",
   "name": "python",
   "nbconvert_exporter": "python",
   "pygments_lexer": "ipython3",
   "version": "3.7.6"
  }
 },
 "nbformat": 4,
 "nbformat_minor": 4
}
