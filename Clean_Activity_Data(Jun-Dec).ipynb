{
 "metadata": {
  "language_info": {
   "codemirror_mode": {
    "name": "ipython",
    "version": 3
   },
   "file_extension": ".py",
   "mimetype": "text/x-python",
   "name": "python",
   "nbconvert_exporter": "python",
   "pygments_lexer": "ipython3",
   "version": "3.8.5-final"
  },
  "orig_nbformat": 2,
  "kernelspec": {
   "name": "python3",
   "display_name": "Python 3",
   "language": "python"
  }
 },
 "nbformat": 4,
 "nbformat_minor": 2,
 "cells": [
  {
   "cell_type": "code",
   "execution_count": 1,
   "metadata": {},
   "outputs": [],
   "source": [
    "import pandas as  pd\n",
    "import numpy as np"
   ]
  },
  {
   "cell_type": "code",
   "execution_count": 2,
   "metadata": {},
   "outputs": [],
   "source": [
    "#Load dataset\n",
    "activity = pd.read_csv('Organized_Activity_Data(Jun-Dec).csv')"
   ]
  },
  {
   "cell_type": "code",
   "execution_count": 3,
   "metadata": {},
   "outputs": [
    {
     "output_type": "execute_result",
     "data": {
      "text/plain": [
       "         Date Calories Burned   Steps  Distance  Floors Minutes Sedentary  \\\n",
       "0  2020-06-01           2,648  11,205      6.60      18               771   \n",
       "1  2020-06-02           3,118  13,109      8.07      38               602   \n",
       "2  2020-06-03           2,794  12,708      8.36      37               934   \n",
       "3  2020-06-04           3,221  17,513      8.62      10               848   \n",
       "4  2020-06-05           2,789   7,922      3.53       7               761   \n",
       "\n",
       "   Minutes Lightly Active  Minutes Fairly Active  Minutes Very Active  \\\n",
       "0                     255                     22                   24   \n",
       "1                     227                     43                   74   \n",
       "2                     262                     15                   47   \n",
       "3                     275                     57                   72   \n",
       "4                     343                     14                   21   \n",
       "\n",
       "  Activity Calories  \n",
       "0             1,331  \n",
       "1             1,807  \n",
       "2             1,531  \n",
       "3             2,009  \n",
       "4             1,519  "
      ],
      "text/html": "<div>\n<style scoped>\n    .dataframe tbody tr th:only-of-type {\n        vertical-align: middle;\n    }\n\n    .dataframe tbody tr th {\n        vertical-align: top;\n    }\n\n    .dataframe thead th {\n        text-align: right;\n    }\n</style>\n<table border=\"1\" class=\"dataframe\">\n  <thead>\n    <tr style=\"text-align: right;\">\n      <th></th>\n      <th>Date</th>\n      <th>Calories Burned</th>\n      <th>Steps</th>\n      <th>Distance</th>\n      <th>Floors</th>\n      <th>Minutes Sedentary</th>\n      <th>Minutes Lightly Active</th>\n      <th>Minutes Fairly Active</th>\n      <th>Minutes Very Active</th>\n      <th>Activity Calories</th>\n    </tr>\n  </thead>\n  <tbody>\n    <tr>\n      <th>0</th>\n      <td>2020-06-01</td>\n      <td>2,648</td>\n      <td>11,205</td>\n      <td>6.60</td>\n      <td>18</td>\n      <td>771</td>\n      <td>255</td>\n      <td>22</td>\n      <td>24</td>\n      <td>1,331</td>\n    </tr>\n    <tr>\n      <th>1</th>\n      <td>2020-06-02</td>\n      <td>3,118</td>\n      <td>13,109</td>\n      <td>8.07</td>\n      <td>38</td>\n      <td>602</td>\n      <td>227</td>\n      <td>43</td>\n      <td>74</td>\n      <td>1,807</td>\n    </tr>\n    <tr>\n      <th>2</th>\n      <td>2020-06-03</td>\n      <td>2,794</td>\n      <td>12,708</td>\n      <td>8.36</td>\n      <td>37</td>\n      <td>934</td>\n      <td>262</td>\n      <td>15</td>\n      <td>47</td>\n      <td>1,531</td>\n    </tr>\n    <tr>\n      <th>3</th>\n      <td>2020-06-04</td>\n      <td>3,221</td>\n      <td>17,513</td>\n      <td>8.62</td>\n      <td>10</td>\n      <td>848</td>\n      <td>275</td>\n      <td>57</td>\n      <td>72</td>\n      <td>2,009</td>\n    </tr>\n    <tr>\n      <th>4</th>\n      <td>2020-06-05</td>\n      <td>2,789</td>\n      <td>7,922</td>\n      <td>3.53</td>\n      <td>7</td>\n      <td>761</td>\n      <td>343</td>\n      <td>14</td>\n      <td>21</td>\n      <td>1,519</td>\n    </tr>\n  </tbody>\n</table>\n</div>"
     },
     "metadata": {},
     "execution_count": 3
    }
   ],
   "source": [
    "#Preview the  dataset\n",
    "activity.head()"
   ]
  },
  {
   "cell_type": "code",
   "execution_count": 4,
   "metadata": {},
   "outputs": [
    {
     "output_type": "stream",
     "name": "stdout",
     "text": [
      "<class 'pandas.core.frame.DataFrame'>\nRangeIndex: 208 entries, 0 to 207\nData columns (total 10 columns):\n #   Column                  Non-Null Count  Dtype  \n---  ------                  --------------  -----  \n 0   Date                    208 non-null    object \n 1   Calories Burned         208 non-null    object \n 2   Steps                   208 non-null    object \n 3   Distance                208 non-null    float64\n 4   Floors                  208 non-null    int64  \n 5   Minutes Sedentary       208 non-null    object \n 6   Minutes Lightly Active  208 non-null    int64  \n 7   Minutes Fairly Active   208 non-null    int64  \n 8   Minutes Very Active     208 non-null    int64  \n 9   Activity Calories       208 non-null    object \ndtypes: float64(1), int64(4), object(5)\nmemory usage: 16.4+ KB\n"
     ]
    }
   ],
   "source": [
    "#View data types and quality\n",
    "activity.info()"
   ]
  },
  {
   "cell_type": "code",
   "execution_count": 5,
   "metadata": {},
   "outputs": [],
   "source": [
    "#Convert Date column to datetime data type\n",
    "activity['Date'] = pd.to_datetime(activity['Date'])"
   ]
  },
  {
   "cell_type": "code",
   "execution_count": 6,
   "metadata": {},
   "outputs": [],
   "source": [
    "#Function that removes commas from select column values and converts them to integer data type\n",
    "def convertFit(colmz = [], *args):\n",
    "    for i in colmz:\n",
    "        activity[i] = activity[i].replace(',','', regex=True)\n",
    "        activity[i] = activity[i].astype(str).astype(int)"
   ]
  },
  {
   "cell_type": "code",
   "execution_count": 7,
   "metadata": {},
   "outputs": [],
   "source": [
    "#Invoke convertFit function\n",
    "convertFit(['Calories Burned', 'Steps', 'Minutes Sedentary', 'Activity Calories'])"
   ]
  },
  {
   "cell_type": "code",
   "execution_count": 8,
   "metadata": {},
   "outputs": [
    {
     "output_type": "stream",
     "name": "stdout",
     "text": [
      "<class 'pandas.core.frame.DataFrame'>\nRangeIndex: 208 entries, 0 to 207\nData columns (total 10 columns):\n #   Column                  Non-Null Count  Dtype         \n---  ------                  --------------  -----         \n 0   Date                    208 non-null    datetime64[ns]\n 1   Calories Burned         208 non-null    int32         \n 2   Steps                   208 non-null    int32         \n 3   Distance                208 non-null    float64       \n 4   Floors                  208 non-null    int64         \n 5   Minutes Sedentary       208 non-null    int32         \n 6   Minutes Lightly Active  208 non-null    int64         \n 7   Minutes Fairly Active   208 non-null    int64         \n 8   Minutes Very Active     208 non-null    int64         \n 9   Activity Calories       208 non-null    int32         \ndtypes: datetime64[ns](1), float64(1), int32(4), int64(4)\nmemory usage: 13.1 KB\n"
     ]
    }
   ],
   "source": [
    "#View data types and quality\n",
    "activity.info()"
   ]
  },
  {
   "cell_type": "code",
   "execution_count": 9,
   "metadata": {},
   "outputs": [],
   "source": [
    "#Rename Minute Active columns to be more descriptive\n",
    "activity.rename(columns={'Minutes Lightly Active': 'Minutes Lightly Active(Fat Burn)', 'Minutes Fairly Active': 'Minutes Fairly Active(Cardio)', 'Minutes Very Active': 'Minutes Very Active(Peak)'}, inplace=True)"
   ]
  },
  {
   "cell_type": "code",
   "execution_count": 10,
   "metadata": {},
   "outputs": [
    {
     "output_type": "execute_result",
     "data": {
      "text/plain": [
       "Empty DataFrame\n",
       "Columns: [Date, Calories Burned, Steps, Distance, Floors, Minutes Sedentary, Minutes Lightly Active(Fat Burn), Minutes Fairly Active(Cardio), Minutes Very Active(Peak), Activity Calories]\n",
       "Index: []"
      ],
      "text/html": "<div>\n<style scoped>\n    .dataframe tbody tr th:only-of-type {\n        vertical-align: middle;\n    }\n\n    .dataframe tbody tr th {\n        vertical-align: top;\n    }\n\n    .dataframe thead th {\n        text-align: right;\n    }\n</style>\n<table border=\"1\" class=\"dataframe\">\n  <thead>\n    <tr style=\"text-align: right;\">\n      <th></th>\n      <th>Date</th>\n      <th>Calories Burned</th>\n      <th>Steps</th>\n      <th>Distance</th>\n      <th>Floors</th>\n      <th>Minutes Sedentary</th>\n      <th>Minutes Lightly Active(Fat Burn)</th>\n      <th>Minutes Fairly Active(Cardio)</th>\n      <th>Minutes Very Active(Peak)</th>\n      <th>Activity Calories</th>\n    </tr>\n  </thead>\n  <tbody>\n  </tbody>\n</table>\n</div>"
     },
     "metadata": {},
     "execution_count": 10
    }
   ],
   "source": [
    "#Check for missing values\n",
    "activity[activity.isnull().any(axis=1)]"
   ]
  },
  {
   "cell_type": "code",
   "execution_count": 11,
   "metadata": {},
   "outputs": [
    {
     "output_type": "stream",
     "name": "stdout",
     "text": [
      "<class 'pandas.core.frame.DataFrame'>\nRangeIndex: 208 entries, 0 to 207\nData columns (total 10 columns):\n #   Column                            Non-Null Count  Dtype         \n---  ------                            --------------  -----         \n 0   Date                              208 non-null    datetime64[ns]\n 1   Calories Burned                   208 non-null    int32         \n 2   Steps                             208 non-null    int32         \n 3   Distance                          208 non-null    float64       \n 4   Floors                            208 non-null    int64         \n 5   Minutes Sedentary                 208 non-null    int32         \n 6   Minutes Lightly Active(Fat Burn)  208 non-null    int64         \n 7   Minutes Fairly Active(Cardio)     208 non-null    int64         \n 8   Minutes Very Active(Peak)         208 non-null    int64         \n 9   Activity Calories                 208 non-null    int32         \ndtypes: datetime64[ns](1), float64(1), int32(4), int64(4)\nmemory usage: 13.1 KB\n"
     ]
    }
   ],
   "source": [
    "#View data types and quality\n",
    "activity.info()"
   ]
  },
  {
   "cell_type": "code",
   "execution_count": 12,
   "metadata": {},
   "outputs": [
    {
     "output_type": "execute_result",
     "data": {
      "text/plain": [
       "          Date  Calories Burned  Steps  Distance  Floors  Minutes Sedentary  \\\n",
       "0   2020-06-01             2648  11205      6.60      18                771   \n",
       "1   2020-06-02             3118  13109      8.07      38                602   \n",
       "2   2020-06-03             2794  12708      8.36      37                934   \n",
       "3   2020-06-04             3221  17513      8.62      10                848   \n",
       "4   2020-06-05             2789   7922      3.53       7                761   \n",
       "..         ...              ...    ...       ...     ...                ...   \n",
       "203 2020-12-21             2416   7184      3.16       2                856   \n",
       "204 2020-12-22             2217   5625      2.50       7                743   \n",
       "205 2020-12-23             3155   7072      3.12       1                700   \n",
       "206 2020-12-24             2609   7911      3.51       2                668   \n",
       "207 2020-12-25              594    298      0.13       0                220   \n",
       "\n",
       "     Minutes Lightly Active(Fat Burn)  Minutes Fairly Active(Cardio)  \\\n",
       "0                                 255                             22   \n",
       "1                                 227                             43   \n",
       "2                                 262                             15   \n",
       "3                                 275                             57   \n",
       "4                                 343                             14   \n",
       "..                                ...                            ...   \n",
       "203                               266                             19   \n",
       "204                               253                              0   \n",
       "205                               402                             50   \n",
       "206                               343                              0   \n",
       "207                                21                              0   \n",
       "\n",
       "     Minutes Very Active(Peak)  Activity Calories  \n",
       "0                           24               1331  \n",
       "1                           74               1807  \n",
       "2                           47               1531  \n",
       "3                           72               2009  \n",
       "4                           21               1519  \n",
       "..                         ...                ...  \n",
       "203                          4               1100  \n",
       "204                          0                859  \n",
       "205                         29               2039  \n",
       "206                          0               1273  \n",
       "207                          0                 61  \n",
       "\n",
       "[208 rows x 10 columns]"
      ],
      "text/html": "<div>\n<style scoped>\n    .dataframe tbody tr th:only-of-type {\n        vertical-align: middle;\n    }\n\n    .dataframe tbody tr th {\n        vertical-align: top;\n    }\n\n    .dataframe thead th {\n        text-align: right;\n    }\n</style>\n<table border=\"1\" class=\"dataframe\">\n  <thead>\n    <tr style=\"text-align: right;\">\n      <th></th>\n      <th>Date</th>\n      <th>Calories Burned</th>\n      <th>Steps</th>\n      <th>Distance</th>\n      <th>Floors</th>\n      <th>Minutes Sedentary</th>\n      <th>Minutes Lightly Active(Fat Burn)</th>\n      <th>Minutes Fairly Active(Cardio)</th>\n      <th>Minutes Very Active(Peak)</th>\n      <th>Activity Calories</th>\n    </tr>\n  </thead>\n  <tbody>\n    <tr>\n      <th>0</th>\n      <td>2020-06-01</td>\n      <td>2648</td>\n      <td>11205</td>\n      <td>6.60</td>\n      <td>18</td>\n      <td>771</td>\n      <td>255</td>\n      <td>22</td>\n      <td>24</td>\n      <td>1331</td>\n    </tr>\n    <tr>\n      <th>1</th>\n      <td>2020-06-02</td>\n      <td>3118</td>\n      <td>13109</td>\n      <td>8.07</td>\n      <td>38</td>\n      <td>602</td>\n      <td>227</td>\n      <td>43</td>\n      <td>74</td>\n      <td>1807</td>\n    </tr>\n    <tr>\n      <th>2</th>\n      <td>2020-06-03</td>\n      <td>2794</td>\n      <td>12708</td>\n      <td>8.36</td>\n      <td>37</td>\n      <td>934</td>\n      <td>262</td>\n      <td>15</td>\n      <td>47</td>\n      <td>1531</td>\n    </tr>\n    <tr>\n      <th>3</th>\n      <td>2020-06-04</td>\n      <td>3221</td>\n      <td>17513</td>\n      <td>8.62</td>\n      <td>10</td>\n      <td>848</td>\n      <td>275</td>\n      <td>57</td>\n      <td>72</td>\n      <td>2009</td>\n    </tr>\n    <tr>\n      <th>4</th>\n      <td>2020-06-05</td>\n      <td>2789</td>\n      <td>7922</td>\n      <td>3.53</td>\n      <td>7</td>\n      <td>761</td>\n      <td>343</td>\n      <td>14</td>\n      <td>21</td>\n      <td>1519</td>\n    </tr>\n    <tr>\n      <th>...</th>\n      <td>...</td>\n      <td>...</td>\n      <td>...</td>\n      <td>...</td>\n      <td>...</td>\n      <td>...</td>\n      <td>...</td>\n      <td>...</td>\n      <td>...</td>\n      <td>...</td>\n    </tr>\n    <tr>\n      <th>203</th>\n      <td>2020-12-21</td>\n      <td>2416</td>\n      <td>7184</td>\n      <td>3.16</td>\n      <td>2</td>\n      <td>856</td>\n      <td>266</td>\n      <td>19</td>\n      <td>4</td>\n      <td>1100</td>\n    </tr>\n    <tr>\n      <th>204</th>\n      <td>2020-12-22</td>\n      <td>2217</td>\n      <td>5625</td>\n      <td>2.50</td>\n      <td>7</td>\n      <td>743</td>\n      <td>253</td>\n      <td>0</td>\n      <td>0</td>\n      <td>859</td>\n    </tr>\n    <tr>\n      <th>205</th>\n      <td>2020-12-23</td>\n      <td>3155</td>\n      <td>7072</td>\n      <td>3.12</td>\n      <td>1</td>\n      <td>700</td>\n      <td>402</td>\n      <td>50</td>\n      <td>29</td>\n      <td>2039</td>\n    </tr>\n    <tr>\n      <th>206</th>\n      <td>2020-12-24</td>\n      <td>2609</td>\n      <td>7911</td>\n      <td>3.51</td>\n      <td>2</td>\n      <td>668</td>\n      <td>343</td>\n      <td>0</td>\n      <td>0</td>\n      <td>1273</td>\n    </tr>\n    <tr>\n      <th>207</th>\n      <td>2020-12-25</td>\n      <td>594</td>\n      <td>298</td>\n      <td>0.13</td>\n      <td>0</td>\n      <td>220</td>\n      <td>21</td>\n      <td>0</td>\n      <td>0</td>\n      <td>61</td>\n    </tr>\n  </tbody>\n</table>\n<p>208 rows × 10 columns</p>\n</div>"
     },
     "metadata": {},
     "execution_count": 12
    }
   ],
   "source": [
    "#Preivew dataset\n",
    "activity"
   ]
  },
  {
   "cell_type": "code",
   "execution_count": 12,
   "metadata": {},
   "outputs": [],
   "source": [
    "activity.to_csv('Clean_Activity_Data(Jun-Dec).csv', index=False)"
   ]
  },
  {
   "cell_type": "code",
   "execution_count": null,
   "metadata": {},
   "outputs": [],
   "source": []
  }
 ]
}