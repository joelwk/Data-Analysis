{
 "metadata": {
  "language_info": {
   "codemirror_mode": {
    "name": "ipython",
    "version": 3
   },
   "file_extension": ".py",
   "mimetype": "text/x-python",
   "name": "python",
   "nbconvert_exporter": "python",
   "pygments_lexer": "ipython3",
   "version": "3.8.5-final"
  },
  "orig_nbformat": 2,
  "kernelspec": {
   "name": "python3",
   "display_name": "Python 3",
   "language": "python"
  }
 },
 "nbformat": 4,
 "nbformat_minor": 2,
 "cells": [
  {
   "cell_type": "code",
   "execution_count": 1,
   "metadata": {},
   "outputs": [],
   "source": [
    "import pandas as pd\n",
    "import numpy as np"
   ]
  },
  {
   "cell_type": "code",
   "execution_count": 2,
   "metadata": {},
   "outputs": [],
   "source": [
    "sleep = pd.read_csv('Organized_Sleep_Data(Jun-Dec).csv')"
   ]
  },
  {
   "cell_type": "code",
   "execution_count": 3,
   "metadata": {},
   "outputs": [
    {
     "output_type": "execute_result",
     "data": {
      "text/plain": [
       "           Start Time           End Time  Minutes Asleep  Minutes Awake  \\\n",
       "0  2020-06-01 10:38PM  2020-06-02 4:15AM             290             47   \n",
       "1   2020-06-03 1:37AM  2020-06-03 4:39AM             153             29   \n",
       "2  2020-06-03 11:05PM  2020-06-04 2:13AM             150             38   \n",
       "3  2020-06-04 11:22PM  2020-06-05 4:23AM             255             46   \n",
       "4  2020-06-05 11:13PM  2020-06-06 5:35AM             309             73   \n",
       "\n",
       "   Number of Awakenings  Time in Bed  Minutes REM Sleep  Minutes Light Sleep  \\\n",
       "0                    18          337               58.0                200.0   \n",
       "1                    16          182                9.0                119.0   \n",
       "2                    13          188               15.0                 92.0   \n",
       "3                    22          301               16.0                207.0   \n",
       "4                    22          382               64.0                208.0   \n",
       "\n",
       "   Minutes Deep Sleep  \n",
       "0                32.0  \n",
       "1                25.0  \n",
       "2                43.0  \n",
       "3                32.0  \n",
       "4                37.0  "
      ],
      "text/html": "<div>\n<style scoped>\n    .dataframe tbody tr th:only-of-type {\n        vertical-align: middle;\n    }\n\n    .dataframe tbody tr th {\n        vertical-align: top;\n    }\n\n    .dataframe thead th {\n        text-align: right;\n    }\n</style>\n<table border=\"1\" class=\"dataframe\">\n  <thead>\n    <tr style=\"text-align: right;\">\n      <th></th>\n      <th>Start Time</th>\n      <th>End Time</th>\n      <th>Minutes Asleep</th>\n      <th>Minutes Awake</th>\n      <th>Number of Awakenings</th>\n      <th>Time in Bed</th>\n      <th>Minutes REM Sleep</th>\n      <th>Minutes Light Sleep</th>\n      <th>Minutes Deep Sleep</th>\n    </tr>\n  </thead>\n  <tbody>\n    <tr>\n      <th>0</th>\n      <td>2020-06-01 10:38PM</td>\n      <td>2020-06-02 4:15AM</td>\n      <td>290</td>\n      <td>47</td>\n      <td>18</td>\n      <td>337</td>\n      <td>58.0</td>\n      <td>200.0</td>\n      <td>32.0</td>\n    </tr>\n    <tr>\n      <th>1</th>\n      <td>2020-06-03 1:37AM</td>\n      <td>2020-06-03 4:39AM</td>\n      <td>153</td>\n      <td>29</td>\n      <td>16</td>\n      <td>182</td>\n      <td>9.0</td>\n      <td>119.0</td>\n      <td>25.0</td>\n    </tr>\n    <tr>\n      <th>2</th>\n      <td>2020-06-03 11:05PM</td>\n      <td>2020-06-04 2:13AM</td>\n      <td>150</td>\n      <td>38</td>\n      <td>13</td>\n      <td>188</td>\n      <td>15.0</td>\n      <td>92.0</td>\n      <td>43.0</td>\n    </tr>\n    <tr>\n      <th>3</th>\n      <td>2020-06-04 11:22PM</td>\n      <td>2020-06-05 4:23AM</td>\n      <td>255</td>\n      <td>46</td>\n      <td>22</td>\n      <td>301</td>\n      <td>16.0</td>\n      <td>207.0</td>\n      <td>32.0</td>\n    </tr>\n    <tr>\n      <th>4</th>\n      <td>2020-06-05 11:13PM</td>\n      <td>2020-06-06 5:35AM</td>\n      <td>309</td>\n      <td>73</td>\n      <td>22</td>\n      <td>382</td>\n      <td>64.0</td>\n      <td>208.0</td>\n      <td>37.0</td>\n    </tr>\n  </tbody>\n</table>\n</div>"
     },
     "metadata": {},
     "execution_count": 3
    }
   ],
   "source": [
    "#Preview the dataset\n",
    "sleep.head()"
   ]
  },
  {
   "cell_type": "code",
   "execution_count": 4,
   "metadata": {},
   "outputs": [
    {
     "output_type": "stream",
     "name": "stdout",
     "text": [
      "<class 'pandas.core.frame.DataFrame'>\nRangeIndex: 210 entries, 0 to 209\nData columns (total 9 columns):\n #   Column                Non-Null Count  Dtype  \n---  ------                --------------  -----  \n 0   Start Time            210 non-null    object \n 1   End Time              210 non-null    object \n 2   Minutes Asleep        210 non-null    int64  \n 3   Minutes Awake         210 non-null    int64  \n 4   Number of Awakenings  210 non-null    int64  \n 5   Time in Bed           210 non-null    int64  \n 6   Minutes REM Sleep     196 non-null    float64\n 7   Minutes Light Sleep   196 non-null    float64\n 8   Minutes Deep Sleep    196 non-null    float64\ndtypes: float64(3), int64(4), object(2)\nmemory usage: 14.9+ KB\n"
     ]
    }
   ],
   "source": [
    "#View data types & any missing values\n",
    "sleep.info()"
   ]
  },
  {
   "cell_type": "code",
   "execution_count": 6,
   "metadata": {},
   "outputs": [],
   "source": [
    "#Convert Start & End Time columns to datetime format\n",
    "sleep['Start Time'] = pd.to_datetime(sleep['Start Time'])\n",
    "sleep['End Time'] = pd.to_datetime(sleep['End Time'])"
   ]
  },
  {
   "cell_type": "code",
   "execution_count": 7,
   "metadata": {},
   "outputs": [
    {
     "output_type": "execute_result",
     "data": {
      "text/plain": [
       "Start Time              datetime64[ns]\n",
       "End Time                datetime64[ns]\n",
       "Minutes Asleep                   int64\n",
       "Minutes Awake                    int64\n",
       "Number of Awakenings             int64\n",
       "Time in Bed                      int64\n",
       "Minutes REM Sleep              float64\n",
       "Minutes Light Sleep            float64\n",
       "Minutes Deep Sleep             float64\n",
       "dtype: object"
      ]
     },
     "metadata": {},
     "execution_count": 7
    }
   ],
   "source": [
    "#View data types\n",
    "sleep.dtypes"
   ]
  },
  {
   "cell_type": "code",
   "execution_count": 8,
   "metadata": {},
   "outputs": [
    {
     "output_type": "execute_result",
     "data": {
      "text/plain": [
       "             Start Time            End Time  Minutes Asleep  Minutes Awake  \\\n",
       "6   2020-06-10 09:39:00 2020-06-10 10:44:00              61              1   \n",
       "21  2020-06-23 22:47:00 2020-06-24 01:33:00             151             15   \n",
       "32  2020-07-05 02:58:00 2020-07-05 05:47:00             140             29   \n",
       "33  2020-07-05 22:58:00 2020-07-06 01:51:00             153             20   \n",
       "66  2020-08-06 21:51:00 2020-08-07 00:00:00             116             13   \n",
       "73  2020-08-12 02:42:00 2020-08-12 04:52:00             119              9   \n",
       "95  2020-09-02 02:42:00 2020-09-02 05:16:00             147              6   \n",
       "101 2020-09-07 21:45:00 2020-09-08 00:06:00             124             16   \n",
       "107 2020-09-12 02:30:00 2020-09-12 05:08:00             147             11   \n",
       "122 2020-09-26 03:41:00 2020-09-26 05:09:00              84              4   \n",
       "124 2020-09-27 03:38:00 2020-09-27 06:34:00             153             22   \n",
       "181 2020-11-26 23:17:00 2020-11-27 00:37:00              68             12   \n",
       "195 2020-12-12 23:52:00 2020-12-13 00:57:00              59              6   \n",
       "208 2020-12-24 23:48:00 2020-12-25 01:10:00              66             16   \n",
       "\n",
       "     Number of Awakenings  Time in Bed  Minutes REM Sleep  \\\n",
       "6                       0           65                NaN   \n",
       "21                      6          166                NaN   \n",
       "32                      3          169                NaN   \n",
       "33                      1          173                NaN   \n",
       "66                      1          129                NaN   \n",
       "73                      1          130                NaN   \n",
       "95                      1          153                NaN   \n",
       "101                     1          140                NaN   \n",
       "107                     1          158                NaN   \n",
       "122                     2           88                NaN   \n",
       "124                     2          175                NaN   \n",
       "181                     4           80                NaN   \n",
       "195                     1           65                NaN   \n",
       "208                     1           82                NaN   \n",
       "\n",
       "     Minutes Light Sleep  Minutes Deep Sleep  \n",
       "6                    NaN                 NaN  \n",
       "21                   NaN                 NaN  \n",
       "32                   NaN                 NaN  \n",
       "33                   NaN                 NaN  \n",
       "66                   NaN                 NaN  \n",
       "73                   NaN                 NaN  \n",
       "95                   NaN                 NaN  \n",
       "101                  NaN                 NaN  \n",
       "107                  NaN                 NaN  \n",
       "122                  NaN                 NaN  \n",
       "124                  NaN                 NaN  \n",
       "181                  NaN                 NaN  \n",
       "195                  NaN                 NaN  \n",
       "208                  NaN                 NaN  "
      ],
      "text/html": "<div>\n<style scoped>\n    .dataframe tbody tr th:only-of-type {\n        vertical-align: middle;\n    }\n\n    .dataframe tbody tr th {\n        vertical-align: top;\n    }\n\n    .dataframe thead th {\n        text-align: right;\n    }\n</style>\n<table border=\"1\" class=\"dataframe\">\n  <thead>\n    <tr style=\"text-align: right;\">\n      <th></th>\n      <th>Start Time</th>\n      <th>End Time</th>\n      <th>Minutes Asleep</th>\n      <th>Minutes Awake</th>\n      <th>Number of Awakenings</th>\n      <th>Time in Bed</th>\n      <th>Minutes REM Sleep</th>\n      <th>Minutes Light Sleep</th>\n      <th>Minutes Deep Sleep</th>\n    </tr>\n  </thead>\n  <tbody>\n    <tr>\n      <th>6</th>\n      <td>2020-06-10 09:39:00</td>\n      <td>2020-06-10 10:44:00</td>\n      <td>61</td>\n      <td>1</td>\n      <td>0</td>\n      <td>65</td>\n      <td>NaN</td>\n      <td>NaN</td>\n      <td>NaN</td>\n    </tr>\n    <tr>\n      <th>21</th>\n      <td>2020-06-23 22:47:00</td>\n      <td>2020-06-24 01:33:00</td>\n      <td>151</td>\n      <td>15</td>\n      <td>6</td>\n      <td>166</td>\n      <td>NaN</td>\n      <td>NaN</td>\n      <td>NaN</td>\n    </tr>\n    <tr>\n      <th>32</th>\n      <td>2020-07-05 02:58:00</td>\n      <td>2020-07-05 05:47:00</td>\n      <td>140</td>\n      <td>29</td>\n      <td>3</td>\n      <td>169</td>\n      <td>NaN</td>\n      <td>NaN</td>\n      <td>NaN</td>\n    </tr>\n    <tr>\n      <th>33</th>\n      <td>2020-07-05 22:58:00</td>\n      <td>2020-07-06 01:51:00</td>\n      <td>153</td>\n      <td>20</td>\n      <td>1</td>\n      <td>173</td>\n      <td>NaN</td>\n      <td>NaN</td>\n      <td>NaN</td>\n    </tr>\n    <tr>\n      <th>66</th>\n      <td>2020-08-06 21:51:00</td>\n      <td>2020-08-07 00:00:00</td>\n      <td>116</td>\n      <td>13</td>\n      <td>1</td>\n      <td>129</td>\n      <td>NaN</td>\n      <td>NaN</td>\n      <td>NaN</td>\n    </tr>\n    <tr>\n      <th>73</th>\n      <td>2020-08-12 02:42:00</td>\n      <td>2020-08-12 04:52:00</td>\n      <td>119</td>\n      <td>9</td>\n      <td>1</td>\n      <td>130</td>\n      <td>NaN</td>\n      <td>NaN</td>\n      <td>NaN</td>\n    </tr>\n    <tr>\n      <th>95</th>\n      <td>2020-09-02 02:42:00</td>\n      <td>2020-09-02 05:16:00</td>\n      <td>147</td>\n      <td>6</td>\n      <td>1</td>\n      <td>153</td>\n      <td>NaN</td>\n      <td>NaN</td>\n      <td>NaN</td>\n    </tr>\n    <tr>\n      <th>101</th>\n      <td>2020-09-07 21:45:00</td>\n      <td>2020-09-08 00:06:00</td>\n      <td>124</td>\n      <td>16</td>\n      <td>1</td>\n      <td>140</td>\n      <td>NaN</td>\n      <td>NaN</td>\n      <td>NaN</td>\n    </tr>\n    <tr>\n      <th>107</th>\n      <td>2020-09-12 02:30:00</td>\n      <td>2020-09-12 05:08:00</td>\n      <td>147</td>\n      <td>11</td>\n      <td>1</td>\n      <td>158</td>\n      <td>NaN</td>\n      <td>NaN</td>\n      <td>NaN</td>\n    </tr>\n    <tr>\n      <th>122</th>\n      <td>2020-09-26 03:41:00</td>\n      <td>2020-09-26 05:09:00</td>\n      <td>84</td>\n      <td>4</td>\n      <td>2</td>\n      <td>88</td>\n      <td>NaN</td>\n      <td>NaN</td>\n      <td>NaN</td>\n    </tr>\n    <tr>\n      <th>124</th>\n      <td>2020-09-27 03:38:00</td>\n      <td>2020-09-27 06:34:00</td>\n      <td>153</td>\n      <td>22</td>\n      <td>2</td>\n      <td>175</td>\n      <td>NaN</td>\n      <td>NaN</td>\n      <td>NaN</td>\n    </tr>\n    <tr>\n      <th>181</th>\n      <td>2020-11-26 23:17:00</td>\n      <td>2020-11-27 00:37:00</td>\n      <td>68</td>\n      <td>12</td>\n      <td>4</td>\n      <td>80</td>\n      <td>NaN</td>\n      <td>NaN</td>\n      <td>NaN</td>\n    </tr>\n    <tr>\n      <th>195</th>\n      <td>2020-12-12 23:52:00</td>\n      <td>2020-12-13 00:57:00</td>\n      <td>59</td>\n      <td>6</td>\n      <td>1</td>\n      <td>65</td>\n      <td>NaN</td>\n      <td>NaN</td>\n      <td>NaN</td>\n    </tr>\n    <tr>\n      <th>208</th>\n      <td>2020-12-24 23:48:00</td>\n      <td>2020-12-25 01:10:00</td>\n      <td>66</td>\n      <td>16</td>\n      <td>1</td>\n      <td>82</td>\n      <td>NaN</td>\n      <td>NaN</td>\n      <td>NaN</td>\n    </tr>\n  </tbody>\n</table>\n</div>"
     },
     "metadata": {},
     "execution_count": 8
    }
   ],
   "source": [
    "#Check for missing values\n",
    "sleep[sleep.isnull().any(axis=1)]"
   ]
  },
  {
   "cell_type": "code",
   "execution_count": 9,
   "metadata": {},
   "outputs": [],
   "source": [
    "#Replace the missing values with median of entire column values\n",
    "for i in ['Minutes REM Sleep', 'Minutes Light Sleep', 'Minutes Deep Sleep']:\n",
    "    sleep[i] = sleep[i].fillna(round(sleep[i].dropna().astype('int').median(),2))"
   ]
  },
  {
   "cell_type": "code",
   "execution_count": 10,
   "metadata": {},
   "outputs": [
    {
     "output_type": "execute_result",
     "data": {
      "text/plain": [
       "Empty DataFrame\n",
       "Columns: [Start Time, End Time, Minutes Asleep, Minutes Awake, Number of Awakenings, Time in Bed, Minutes REM Sleep, Minutes Light Sleep, Minutes Deep Sleep]\n",
       "Index: []"
      ],
      "text/html": "<div>\n<style scoped>\n    .dataframe tbody tr th:only-of-type {\n        vertical-align: middle;\n    }\n\n    .dataframe tbody tr th {\n        vertical-align: top;\n    }\n\n    .dataframe thead th {\n        text-align: right;\n    }\n</style>\n<table border=\"1\" class=\"dataframe\">\n  <thead>\n    <tr style=\"text-align: right;\">\n      <th></th>\n      <th>Start Time</th>\n      <th>End Time</th>\n      <th>Minutes Asleep</th>\n      <th>Minutes Awake</th>\n      <th>Number of Awakenings</th>\n      <th>Time in Bed</th>\n      <th>Minutes REM Sleep</th>\n      <th>Minutes Light Sleep</th>\n      <th>Minutes Deep Sleep</th>\n    </tr>\n  </thead>\n  <tbody>\n  </tbody>\n</table>\n</div>"
     },
     "metadata": {},
     "execution_count": 10
    }
   ],
   "source": [
    "#Verify missing data has been removed\n",
    "sleep[sleep.isnull().any(axis=1)]"
   ]
  },
  {
   "cell_type": "code",
   "execution_count": 11,
   "metadata": {},
   "outputs": [
    {
     "output_type": "execute_result",
     "data": {
      "text/plain": [
       "             Start Time            End Time  Minutes Asleep  Minutes Awake  \\\n",
       "0   2020-06-01 22:38:00 2020-06-02 04:15:00             290             47   \n",
       "1   2020-06-03 01:37:00 2020-06-03 04:39:00             153             29   \n",
       "2   2020-06-03 23:05:00 2020-06-04 02:13:00             150             38   \n",
       "3   2020-06-04 23:22:00 2020-06-05 04:23:00             255             46   \n",
       "4   2020-06-05 23:13:00 2020-06-06 05:35:00             309             73   \n",
       "..                  ...                 ...             ...            ...   \n",
       "205 2020-12-21 22:17:00 2020-12-22 05:41:00             386             58   \n",
       "206 2020-12-22 23:06:00 2020-12-23 03:25:00             226             33   \n",
       "207 2020-12-23 21:53:00 2020-12-24 04:50:00             365             52   \n",
       "208 2020-12-24 23:48:00 2020-12-25 01:10:00              66             16   \n",
       "209 2020-12-25 02:11:00 2020-12-25 05:40:00             182             27   \n",
       "\n",
       "     Number of Awakenings  Time in Bed  Minutes REM Sleep  \\\n",
       "0                      18          337               58.0   \n",
       "1                      16          182                9.0   \n",
       "2                      13          188               15.0   \n",
       "3                      22          301               16.0   \n",
       "4                      22          382               64.0   \n",
       "..                    ...          ...                ...   \n",
       "205                    29          444               84.0   \n",
       "206                    16          259               32.0   \n",
       "207                    32          417               92.0   \n",
       "208                     1           82               58.5   \n",
       "209                    16          209               45.0   \n",
       "\n",
       "     Minutes Light Sleep  Minutes Deep Sleep  \n",
       "0                  200.0                32.0  \n",
       "1                  119.0                25.0  \n",
       "2                   92.0                43.0  \n",
       "3                  207.0                32.0  \n",
       "4                  208.0                37.0  \n",
       "..                   ...                 ...  \n",
       "205                231.0                71.0  \n",
       "206                161.0                33.0  \n",
       "207                221.0                52.0  \n",
       "208                225.0                49.0  \n",
       "209                116.0                21.0  \n",
       "\n",
       "[210 rows x 9 columns]"
      ],
      "text/html": "<div>\n<style scoped>\n    .dataframe tbody tr th:only-of-type {\n        vertical-align: middle;\n    }\n\n    .dataframe tbody tr th {\n        vertical-align: top;\n    }\n\n    .dataframe thead th {\n        text-align: right;\n    }\n</style>\n<table border=\"1\" class=\"dataframe\">\n  <thead>\n    <tr style=\"text-align: right;\">\n      <th></th>\n      <th>Start Time</th>\n      <th>End Time</th>\n      <th>Minutes Asleep</th>\n      <th>Minutes Awake</th>\n      <th>Number of Awakenings</th>\n      <th>Time in Bed</th>\n      <th>Minutes REM Sleep</th>\n      <th>Minutes Light Sleep</th>\n      <th>Minutes Deep Sleep</th>\n    </tr>\n  </thead>\n  <tbody>\n    <tr>\n      <th>0</th>\n      <td>2020-06-01 22:38:00</td>\n      <td>2020-06-02 04:15:00</td>\n      <td>290</td>\n      <td>47</td>\n      <td>18</td>\n      <td>337</td>\n      <td>58.0</td>\n      <td>200.0</td>\n      <td>32.0</td>\n    </tr>\n    <tr>\n      <th>1</th>\n      <td>2020-06-03 01:37:00</td>\n      <td>2020-06-03 04:39:00</td>\n      <td>153</td>\n      <td>29</td>\n      <td>16</td>\n      <td>182</td>\n      <td>9.0</td>\n      <td>119.0</td>\n      <td>25.0</td>\n    </tr>\n    <tr>\n      <th>2</th>\n      <td>2020-06-03 23:05:00</td>\n      <td>2020-06-04 02:13:00</td>\n      <td>150</td>\n      <td>38</td>\n      <td>13</td>\n      <td>188</td>\n      <td>15.0</td>\n      <td>92.0</td>\n      <td>43.0</td>\n    </tr>\n    <tr>\n      <th>3</th>\n      <td>2020-06-04 23:22:00</td>\n      <td>2020-06-05 04:23:00</td>\n      <td>255</td>\n      <td>46</td>\n      <td>22</td>\n      <td>301</td>\n      <td>16.0</td>\n      <td>207.0</td>\n      <td>32.0</td>\n    </tr>\n    <tr>\n      <th>4</th>\n      <td>2020-06-05 23:13:00</td>\n      <td>2020-06-06 05:35:00</td>\n      <td>309</td>\n      <td>73</td>\n      <td>22</td>\n      <td>382</td>\n      <td>64.0</td>\n      <td>208.0</td>\n      <td>37.0</td>\n    </tr>\n    <tr>\n      <th>...</th>\n      <td>...</td>\n      <td>...</td>\n      <td>...</td>\n      <td>...</td>\n      <td>...</td>\n      <td>...</td>\n      <td>...</td>\n      <td>...</td>\n      <td>...</td>\n    </tr>\n    <tr>\n      <th>205</th>\n      <td>2020-12-21 22:17:00</td>\n      <td>2020-12-22 05:41:00</td>\n      <td>386</td>\n      <td>58</td>\n      <td>29</td>\n      <td>444</td>\n      <td>84.0</td>\n      <td>231.0</td>\n      <td>71.0</td>\n    </tr>\n    <tr>\n      <th>206</th>\n      <td>2020-12-22 23:06:00</td>\n      <td>2020-12-23 03:25:00</td>\n      <td>226</td>\n      <td>33</td>\n      <td>16</td>\n      <td>259</td>\n      <td>32.0</td>\n      <td>161.0</td>\n      <td>33.0</td>\n    </tr>\n    <tr>\n      <th>207</th>\n      <td>2020-12-23 21:53:00</td>\n      <td>2020-12-24 04:50:00</td>\n      <td>365</td>\n      <td>52</td>\n      <td>32</td>\n      <td>417</td>\n      <td>92.0</td>\n      <td>221.0</td>\n      <td>52.0</td>\n    </tr>\n    <tr>\n      <th>208</th>\n      <td>2020-12-24 23:48:00</td>\n      <td>2020-12-25 01:10:00</td>\n      <td>66</td>\n      <td>16</td>\n      <td>1</td>\n      <td>82</td>\n      <td>58.5</td>\n      <td>225.0</td>\n      <td>49.0</td>\n    </tr>\n    <tr>\n      <th>209</th>\n      <td>2020-12-25 02:11:00</td>\n      <td>2020-12-25 05:40:00</td>\n      <td>182</td>\n      <td>27</td>\n      <td>16</td>\n      <td>209</td>\n      <td>45.0</td>\n      <td>116.0</td>\n      <td>21.0</td>\n    </tr>\n  </tbody>\n</table>\n<p>210 rows × 9 columns</p>\n</div>"
     },
     "metadata": {},
     "execution_count": 11
    }
   ],
   "source": [
    "#Preview dataset\n",
    "sleep"
   ]
  },
  {
   "cell_type": "code",
   "execution_count": 12,
   "metadata": {},
   "outputs": [],
   "source": [
    "sleep.to_csv('Clean_Sleep_Data(Jun-Dec).csv', index=False)"
   ]
  },
  {
   "cell_type": "code",
   "execution_count": null,
   "metadata": {},
   "outputs": [],
   "source": []
  }
 ]
}