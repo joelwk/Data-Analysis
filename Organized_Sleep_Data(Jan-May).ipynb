{
 "cells": [
  {
   "cell_type": "code",
   "execution_count": 1,
   "metadata": {},
   "outputs": [],
   "source": [
    "import csv\n",
    "import sys\n",
    "import os\n",
    "import glob\n",
    "import pandas as pd\n",
    "#Add the following to ignore SettingWithCopyWarning that occurs when sorting the data in 128\n",
    "pd.options.mode.chained_assignment = None"
   ]
  },
  {
   "cell_type": "code",
   "execution_count": 2,
   "metadata": {},
   "outputs": [],
   "source": [
    "#Grab all csv files that were exported from fitbit \n",
    "path = r\"C:\\Users\\jwkon\\Data Learning\\FitData\\Fit_Project(Jan-May)\\Raw Data\"\n",
    "allFiles = glob.glob(os.path.join(path,\"*.csv\"))\n",
    "\n",
    "file = []\n",
    "rows = []\n",
    "for f in allFiles:\n",
    "    with open(f, 'r') as csvfile:\n",
    "        csvfile = csvfile.read().split('\\n')\n",
    "        csvreader = csv.reader(csvfile)\n",
    "        fields = next(csvreader)\n",
    "        for row in csvreader:\n",
    "            rows.append(row)\n",
    "data = pd.DataFrame(rows)"
   ]
  },
  {
   "cell_type": "code",
   "execution_count": 3,
   "metadata": {},
   "outputs": [
    {
     "output_type": "execute_result",
     "data": {
      "text/plain": [
       "                      0                  1       2     3   4    5    6    7  \\\n",
       "1            2020-04-01              2,158   3,404  1.52   0  876  215    0   \n",
       "2            2020-04-02              2,777  12,610   5.5   0    0  253   77   \n",
       "3            2020-04-03              2,360   6,783  2.98   0  789  218   33   \n",
       "4            2020-04-04              2,306   5,610   2.5   8  822  237    0   \n",
       "5            2020-04-05              2,330   5,978  2.66   0  746  216   19   \n",
       "..                  ...                ...     ...   ...  ..  ...  ...  ...   \n",
       "482  2020-05-04 11:30PM  2020-05-05 6:39AM     383    46  23  429   51  269   \n",
       "483  2020-05-03 11:53PM  2020-05-04 7:43AM     412    58  21  470   78  300   \n",
       "484  2020-05-03 12:20AM  2020-05-03 8:40AM     422    78  25  500   79  292   \n",
       "485   2020-05-02 2:55AM  2020-05-02 9:03AM     304    64  20  368   70  190   \n",
       "486  2020-04-30 10:54PM  2020-05-01 5:06AM     318    54  23  372   50  226   \n",
       "\n",
       "      8      9  \n",
       "1     0    724  \n",
       "2    12  1,467  \n",
       "3     0    941  \n",
       "4     0    880  \n",
       "5     7    924  \n",
       "..   ..    ...  \n",
       "482  63   None  \n",
       "483  34   None  \n",
       "484  51   None  \n",
       "485  44   None  \n",
       "486  42   None  \n",
       "\n",
       "[319 rows x 10 columns]"
      ],
      "text/html": "<div>\n<style scoped>\n    .dataframe tbody tr th:only-of-type {\n        vertical-align: middle;\n    }\n\n    .dataframe tbody tr th {\n        vertical-align: top;\n    }\n\n    .dataframe thead th {\n        text-align: right;\n    }\n</style>\n<table border=\"1\" class=\"dataframe\">\n  <thead>\n    <tr style=\"text-align: right;\">\n      <th></th>\n      <th>0</th>\n      <th>1</th>\n      <th>2</th>\n      <th>3</th>\n      <th>4</th>\n      <th>5</th>\n      <th>6</th>\n      <th>7</th>\n      <th>8</th>\n      <th>9</th>\n    </tr>\n  </thead>\n  <tbody>\n    <tr>\n      <th>1</th>\n      <td>2020-04-01</td>\n      <td>2,158</td>\n      <td>3,404</td>\n      <td>1.52</td>\n      <td>0</td>\n      <td>876</td>\n      <td>215</td>\n      <td>0</td>\n      <td>0</td>\n      <td>724</td>\n    </tr>\n    <tr>\n      <th>2</th>\n      <td>2020-04-02</td>\n      <td>2,777</td>\n      <td>12,610</td>\n      <td>5.5</td>\n      <td>0</td>\n      <td>0</td>\n      <td>253</td>\n      <td>77</td>\n      <td>12</td>\n      <td>1,467</td>\n    </tr>\n    <tr>\n      <th>3</th>\n      <td>2020-04-03</td>\n      <td>2,360</td>\n      <td>6,783</td>\n      <td>2.98</td>\n      <td>0</td>\n      <td>789</td>\n      <td>218</td>\n      <td>33</td>\n      <td>0</td>\n      <td>941</td>\n    </tr>\n    <tr>\n      <th>4</th>\n      <td>2020-04-04</td>\n      <td>2,306</td>\n      <td>5,610</td>\n      <td>2.5</td>\n      <td>8</td>\n      <td>822</td>\n      <td>237</td>\n      <td>0</td>\n      <td>0</td>\n      <td>880</td>\n    </tr>\n    <tr>\n      <th>5</th>\n      <td>2020-04-05</td>\n      <td>2,330</td>\n      <td>5,978</td>\n      <td>2.66</td>\n      <td>0</td>\n      <td>746</td>\n      <td>216</td>\n      <td>19</td>\n      <td>7</td>\n      <td>924</td>\n    </tr>\n    <tr>\n      <th>...</th>\n      <td>...</td>\n      <td>...</td>\n      <td>...</td>\n      <td>...</td>\n      <td>...</td>\n      <td>...</td>\n      <td>...</td>\n      <td>...</td>\n      <td>...</td>\n      <td>...</td>\n    </tr>\n    <tr>\n      <th>482</th>\n      <td>2020-05-04 11:30PM</td>\n      <td>2020-05-05 6:39AM</td>\n      <td>383</td>\n      <td>46</td>\n      <td>23</td>\n      <td>429</td>\n      <td>51</td>\n      <td>269</td>\n      <td>63</td>\n      <td>None</td>\n    </tr>\n    <tr>\n      <th>483</th>\n      <td>2020-05-03 11:53PM</td>\n      <td>2020-05-04 7:43AM</td>\n      <td>412</td>\n      <td>58</td>\n      <td>21</td>\n      <td>470</td>\n      <td>78</td>\n      <td>300</td>\n      <td>34</td>\n      <td>None</td>\n    </tr>\n    <tr>\n      <th>484</th>\n      <td>2020-05-03 12:20AM</td>\n      <td>2020-05-03 8:40AM</td>\n      <td>422</td>\n      <td>78</td>\n      <td>25</td>\n      <td>500</td>\n      <td>79</td>\n      <td>292</td>\n      <td>51</td>\n      <td>None</td>\n    </tr>\n    <tr>\n      <th>485</th>\n      <td>2020-05-02 2:55AM</td>\n      <td>2020-05-02 9:03AM</td>\n      <td>304</td>\n      <td>64</td>\n      <td>20</td>\n      <td>368</td>\n      <td>70</td>\n      <td>190</td>\n      <td>44</td>\n      <td>None</td>\n    </tr>\n    <tr>\n      <th>486</th>\n      <td>2020-04-30 10:54PM</td>\n      <td>2020-05-01 5:06AM</td>\n      <td>318</td>\n      <td>54</td>\n      <td>23</td>\n      <td>372</td>\n      <td>50</td>\n      <td>226</td>\n      <td>42</td>\n      <td>None</td>\n    </tr>\n  </tbody>\n</table>\n<p>319 rows × 10 columns</p>\n</div>"
     },
     "metadata": {},
     "execution_count": 3
    }
   ],
   "source": [
    "#Filter only elements that contain data from January-May\n",
    "sleep = data[data[0].str.contains('2020-01|2020-02|2020-03|2020-04|2020-05', na=False)]\n",
    "sleep"
   ]
  },
  {
   "cell_type": "code",
   "execution_count": 4,
   "metadata": {},
   "outputs": [
    {
     "output_type": "execute_result",
     "data": {
      "text/plain": [
       "                      0                  1    2   3   4    5    6    7    8  \\\n",
       "34   2020-04-30 12:29AM  2020-04-30 7:26AM  348  69  21  417   61  249   38   \n",
       "35    2020-04-29 1:49PM  2020-04-29 3:24PM   84  11   1   95  N/A  N/A  N/A   \n",
       "36    2020-04-28 9:28PM  2020-04-29 6:54AM  469  97  25  566  109  288   72   \n",
       "37    2020-04-28 5:28AM  2020-04-28 7:37AM  126   3   1  129  N/A  N/A  N/A   \n",
       "38   2020-04-27 11:17PM  2020-04-28 3:47AM  215  55  13  270   30  152   33   \n",
       "..                  ...                ...  ...  ..  ..  ...  ...  ...  ...   \n",
       "482  2020-05-04 11:30PM  2020-05-05 6:39AM  383  46  23  429   51  269   63   \n",
       "483  2020-05-03 11:53PM  2020-05-04 7:43AM  412  58  21  470   78  300   34   \n",
       "484  2020-05-03 12:20AM  2020-05-03 8:40AM  422  78  25  500   79  292   51   \n",
       "485   2020-05-02 2:55AM  2020-05-02 9:03AM  304  64  20  368   70  190   44   \n",
       "486  2020-04-30 10:54PM  2020-05-01 5:06AM  318  54  23  372   50  226   42   \n",
       "\n",
       "        9  \n",
       "34   None  \n",
       "35   None  \n",
       "36   None  \n",
       "37   None  \n",
       "38   None  \n",
       "..    ...  \n",
       "482  None  \n",
       "483  None  \n",
       "484  None  \n",
       "485  None  \n",
       "486  None  \n",
       "\n",
       "[167 rows x 10 columns]"
      ],
      "text/html": "<div>\n<style scoped>\n    .dataframe tbody tr th:only-of-type {\n        vertical-align: middle;\n    }\n\n    .dataframe tbody tr th {\n        vertical-align: top;\n    }\n\n    .dataframe thead th {\n        text-align: right;\n    }\n</style>\n<table border=\"1\" class=\"dataframe\">\n  <thead>\n    <tr style=\"text-align: right;\">\n      <th></th>\n      <th>0</th>\n      <th>1</th>\n      <th>2</th>\n      <th>3</th>\n      <th>4</th>\n      <th>5</th>\n      <th>6</th>\n      <th>7</th>\n      <th>8</th>\n      <th>9</th>\n    </tr>\n  </thead>\n  <tbody>\n    <tr>\n      <th>34</th>\n      <td>2020-04-30 12:29AM</td>\n      <td>2020-04-30 7:26AM</td>\n      <td>348</td>\n      <td>69</td>\n      <td>21</td>\n      <td>417</td>\n      <td>61</td>\n      <td>249</td>\n      <td>38</td>\n      <td>None</td>\n    </tr>\n    <tr>\n      <th>35</th>\n      <td>2020-04-29 1:49PM</td>\n      <td>2020-04-29 3:24PM</td>\n      <td>84</td>\n      <td>11</td>\n      <td>1</td>\n      <td>95</td>\n      <td>N/A</td>\n      <td>N/A</td>\n      <td>N/A</td>\n      <td>None</td>\n    </tr>\n    <tr>\n      <th>36</th>\n      <td>2020-04-28 9:28PM</td>\n      <td>2020-04-29 6:54AM</td>\n      <td>469</td>\n      <td>97</td>\n      <td>25</td>\n      <td>566</td>\n      <td>109</td>\n      <td>288</td>\n      <td>72</td>\n      <td>None</td>\n    </tr>\n    <tr>\n      <th>37</th>\n      <td>2020-04-28 5:28AM</td>\n      <td>2020-04-28 7:37AM</td>\n      <td>126</td>\n      <td>3</td>\n      <td>1</td>\n      <td>129</td>\n      <td>N/A</td>\n      <td>N/A</td>\n      <td>N/A</td>\n      <td>None</td>\n    </tr>\n    <tr>\n      <th>38</th>\n      <td>2020-04-27 11:17PM</td>\n      <td>2020-04-28 3:47AM</td>\n      <td>215</td>\n      <td>55</td>\n      <td>13</td>\n      <td>270</td>\n      <td>30</td>\n      <td>152</td>\n      <td>33</td>\n      <td>None</td>\n    </tr>\n    <tr>\n      <th>...</th>\n      <td>...</td>\n      <td>...</td>\n      <td>...</td>\n      <td>...</td>\n      <td>...</td>\n      <td>...</td>\n      <td>...</td>\n      <td>...</td>\n      <td>...</td>\n      <td>...</td>\n    </tr>\n    <tr>\n      <th>482</th>\n      <td>2020-05-04 11:30PM</td>\n      <td>2020-05-05 6:39AM</td>\n      <td>383</td>\n      <td>46</td>\n      <td>23</td>\n      <td>429</td>\n      <td>51</td>\n      <td>269</td>\n      <td>63</td>\n      <td>None</td>\n    </tr>\n    <tr>\n      <th>483</th>\n      <td>2020-05-03 11:53PM</td>\n      <td>2020-05-04 7:43AM</td>\n      <td>412</td>\n      <td>58</td>\n      <td>21</td>\n      <td>470</td>\n      <td>78</td>\n      <td>300</td>\n      <td>34</td>\n      <td>None</td>\n    </tr>\n    <tr>\n      <th>484</th>\n      <td>2020-05-03 12:20AM</td>\n      <td>2020-05-03 8:40AM</td>\n      <td>422</td>\n      <td>78</td>\n      <td>25</td>\n      <td>500</td>\n      <td>79</td>\n      <td>292</td>\n      <td>51</td>\n      <td>None</td>\n    </tr>\n    <tr>\n      <th>485</th>\n      <td>2020-05-02 2:55AM</td>\n      <td>2020-05-02 9:03AM</td>\n      <td>304</td>\n      <td>64</td>\n      <td>20</td>\n      <td>368</td>\n      <td>70</td>\n      <td>190</td>\n      <td>44</td>\n      <td>None</td>\n    </tr>\n    <tr>\n      <th>486</th>\n      <td>2020-04-30 10:54PM</td>\n      <td>2020-05-01 5:06AM</td>\n      <td>318</td>\n      <td>54</td>\n      <td>23</td>\n      <td>372</td>\n      <td>50</td>\n      <td>226</td>\n      <td>42</td>\n      <td>None</td>\n    </tr>\n  </tbody>\n</table>\n<p>167 rows × 10 columns</p>\n</div>"
     },
     "metadata": {},
     "execution_count": 4
    }
   ],
   "source": [
    "#Filter the dataset with the assumption that the first sleep column will display time. So, we check if it contains AM or PM\n",
    "sleep = sleep[sleep[0].str.contains('AM|PM', na=False)]\n",
    "sleep"
   ]
  },
  {
   "cell_type": "code",
   "execution_count": 6,
   "metadata": {},
   "outputs": [
    {
     "output_type": "execute_result",
     "data": {
      "text/plain": [
       "                      0                   1   2   3  4    5    6    7    8  \\\n",
       "35    2020-04-29 1:49PM   2020-04-29 3:24PM  84  11  1   95  N/A  N/A  N/A   \n",
       "40    2020-04-25 4:45PM   2020-04-25 5:52PM  57  10  3   67  N/A  N/A  N/A   \n",
       "100   2020-02-29 9:16PM  2020-02-29 10:31PM  59  16  5   75  N/A  N/A  N/A   \n",
       "120  2020-02-09 12:13PM   2020-02-09 1:48PM  87   8  3   95  N/A  N/A  N/A   \n",
       "129   2020-02-01 1:20PM   2020-02-01 3:03PM  90   7  2  103  N/A  N/A  N/A   \n",
       "\n",
       "        9  \n",
       "35   None  \n",
       "40   None  \n",
       "100  None  \n",
       "120  None  \n",
       "129  None  "
      ],
      "text/html": "<div>\n<style scoped>\n    .dataframe tbody tr th:only-of-type {\n        vertical-align: middle;\n    }\n\n    .dataframe tbody tr th {\n        vertical-align: top;\n    }\n\n    .dataframe thead th {\n        text-align: right;\n    }\n</style>\n<table border=\"1\" class=\"dataframe\">\n  <thead>\n    <tr style=\"text-align: right;\">\n      <th></th>\n      <th>0</th>\n      <th>1</th>\n      <th>2</th>\n      <th>3</th>\n      <th>4</th>\n      <th>5</th>\n      <th>6</th>\n      <th>7</th>\n      <th>8</th>\n      <th>9</th>\n    </tr>\n  </thead>\n  <tbody>\n    <tr>\n      <th>35</th>\n      <td>2020-04-29 1:49PM</td>\n      <td>2020-04-29 3:24PM</td>\n      <td>84</td>\n      <td>11</td>\n      <td>1</td>\n      <td>95</td>\n      <td>N/A</td>\n      <td>N/A</td>\n      <td>N/A</td>\n      <td>None</td>\n    </tr>\n    <tr>\n      <th>40</th>\n      <td>2020-04-25 4:45PM</td>\n      <td>2020-04-25 5:52PM</td>\n      <td>57</td>\n      <td>10</td>\n      <td>3</td>\n      <td>67</td>\n      <td>N/A</td>\n      <td>N/A</td>\n      <td>N/A</td>\n      <td>None</td>\n    </tr>\n    <tr>\n      <th>100</th>\n      <td>2020-02-29 9:16PM</td>\n      <td>2020-02-29 10:31PM</td>\n      <td>59</td>\n      <td>16</td>\n      <td>5</td>\n      <td>75</td>\n      <td>N/A</td>\n      <td>N/A</td>\n      <td>N/A</td>\n      <td>None</td>\n    </tr>\n    <tr>\n      <th>120</th>\n      <td>2020-02-09 12:13PM</td>\n      <td>2020-02-09 1:48PM</td>\n      <td>87</td>\n      <td>8</td>\n      <td>3</td>\n      <td>95</td>\n      <td>N/A</td>\n      <td>N/A</td>\n      <td>N/A</td>\n      <td>None</td>\n    </tr>\n    <tr>\n      <th>129</th>\n      <td>2020-02-01 1:20PM</td>\n      <td>2020-02-01 3:03PM</td>\n      <td>90</td>\n      <td>7</td>\n      <td>2</td>\n      <td>103</td>\n      <td>N/A</td>\n      <td>N/A</td>\n      <td>N/A</td>\n      <td>None</td>\n    </tr>\n  </tbody>\n</table>\n</div>"
     },
     "metadata": {},
     "execution_count": 6
    }
   ],
   "source": [
    "#There are more rows than the activity data and requires more filtering to be done. We will filter the second column by searching for elements that contain PM\n",
    "awake_pm = sleep[sleep[1].str.contains('PM', na=False)]\n",
    "awake_pm.head()"
   ]
  },
  {
   "cell_type": "code",
   "execution_count": 9,
   "metadata": {},
   "outputs": [],
   "source": [
    "#Combining both dataframes and dropping duplicates lets us filter out the extra 21 rows\n",
    "sleep = awake_pm.append(sleep)\n",
    "sleep = sleep[~sleep.index.duplicated(keep=False)]"
   ]
  },
  {
   "cell_type": "code",
   "execution_count": 10,
   "metadata": {},
   "outputs": [
    {
     "output_type": "execute_result",
     "data": {
      "text/plain": [
       "                      0                   1   2   3  4    5    6    7    8  \\\n",
       "35    2020-04-29 1:49PM   2020-04-29 3:24PM  84  11  1   95  N/A  N/A  N/A   \n",
       "40    2020-04-25 4:45PM   2020-04-25 5:52PM  57  10  3   67  N/A  N/A  N/A   \n",
       "100   2020-02-29 9:16PM  2020-02-29 10:31PM  59  16  5   75  N/A  N/A  N/A   \n",
       "120  2020-02-09 12:13PM   2020-02-09 1:48PM  87   8  3   95  N/A  N/A  N/A   \n",
       "129   2020-02-01 1:20PM   2020-02-01 3:03PM  90   7  2  103  N/A  N/A  N/A   \n",
       "\n",
       "        9  \n",
       "35   None  \n",
       "40   None  \n",
       "100  None  \n",
       "120  None  \n",
       "129  None  "
      ],
      "text/html": "<div>\n<style scoped>\n    .dataframe tbody tr th:only-of-type {\n        vertical-align: middle;\n    }\n\n    .dataframe tbody tr th {\n        vertical-align: top;\n    }\n\n    .dataframe thead th {\n        text-align: right;\n    }\n</style>\n<table border=\"1\" class=\"dataframe\">\n  <thead>\n    <tr style=\"text-align: right;\">\n      <th></th>\n      <th>0</th>\n      <th>1</th>\n      <th>2</th>\n      <th>3</th>\n      <th>4</th>\n      <th>5</th>\n      <th>6</th>\n      <th>7</th>\n      <th>8</th>\n      <th>9</th>\n    </tr>\n  </thead>\n  <tbody>\n    <tr>\n      <th>35</th>\n      <td>2020-04-29 1:49PM</td>\n      <td>2020-04-29 3:24PM</td>\n      <td>84</td>\n      <td>11</td>\n      <td>1</td>\n      <td>95</td>\n      <td>N/A</td>\n      <td>N/A</td>\n      <td>N/A</td>\n      <td>None</td>\n    </tr>\n    <tr>\n      <th>40</th>\n      <td>2020-04-25 4:45PM</td>\n      <td>2020-04-25 5:52PM</td>\n      <td>57</td>\n      <td>10</td>\n      <td>3</td>\n      <td>67</td>\n      <td>N/A</td>\n      <td>N/A</td>\n      <td>N/A</td>\n      <td>None</td>\n    </tr>\n    <tr>\n      <th>100</th>\n      <td>2020-02-29 9:16PM</td>\n      <td>2020-02-29 10:31PM</td>\n      <td>59</td>\n      <td>16</td>\n      <td>5</td>\n      <td>75</td>\n      <td>N/A</td>\n      <td>N/A</td>\n      <td>N/A</td>\n      <td>None</td>\n    </tr>\n    <tr>\n      <th>120</th>\n      <td>2020-02-09 12:13PM</td>\n      <td>2020-02-09 1:48PM</td>\n      <td>87</td>\n      <td>8</td>\n      <td>3</td>\n      <td>95</td>\n      <td>N/A</td>\n      <td>N/A</td>\n      <td>N/A</td>\n      <td>None</td>\n    </tr>\n    <tr>\n      <th>129</th>\n      <td>2020-02-01 1:20PM</td>\n      <td>2020-02-01 3:03PM</td>\n      <td>90</td>\n      <td>7</td>\n      <td>2</td>\n      <td>103</td>\n      <td>N/A</td>\n      <td>N/A</td>\n      <td>N/A</td>\n      <td>None</td>\n    </tr>\n  </tbody>\n</table>\n</div>"
     },
     "metadata": {},
     "execution_count": 10
    }
   ],
   "source": [
    "sleep.head()"
   ]
  },
  {
   "cell_type": "code",
   "execution_count": 13,
   "metadata": {},
   "outputs": [],
   "source": [
    "# Sleep data is reversed, so we need to order by ascending\n",
    "sleep.sort_values(by=[1], inplace=True, ascending=True)"
   ]
  },
  {
   "cell_type": "code",
   "execution_count": 14,
   "metadata": {},
   "outputs": [
    {
     "output_type": "execute_result",
     "data": {
      "text/plain": [
       "        0     1     2     3     4     5     6     7     8     9\n",
       "32  Sleep  None  None  None  None  None  None  None  None  None"
      ],
      "text/html": "<div>\n<style scoped>\n    .dataframe tbody tr th:only-of-type {\n        vertical-align: middle;\n    }\n\n    .dataframe tbody tr th {\n        vertical-align: top;\n    }\n\n    .dataframe thead th {\n        text-align: right;\n    }\n</style>\n<table border=\"1\" class=\"dataframe\">\n  <thead>\n    <tr style=\"text-align: right;\">\n      <th></th>\n      <th>0</th>\n      <th>1</th>\n      <th>2</th>\n      <th>3</th>\n      <th>4</th>\n      <th>5</th>\n      <th>6</th>\n      <th>7</th>\n      <th>8</th>\n      <th>9</th>\n    </tr>\n  </thead>\n  <tbody>\n    <tr>\n      <th>32</th>\n      <td>Sleep</td>\n      <td>None</td>\n      <td>None</td>\n      <td>None</td>\n      <td>None</td>\n      <td>None</td>\n      <td>None</td>\n      <td>None</td>\n      <td>None</td>\n      <td>None</td>\n    </tr>\n  </tbody>\n</table>\n</div>"
     },
     "metadata": {},
     "execution_count": 14
    }
   ],
   "source": [
    "# Search for Sleep column header (The fitbit export contains a csv with both activity and sleep data. Finding the 'Sleep' column helps us identify the start of the sleep dataset)\n",
    "sleep_col = data[data[0].str.contains('Sleep', na=False)]\n",
    "sleep_col.head(1)"
   ]
  },
  {
   "cell_type": "code",
   "execution_count": 15,
   "metadata": {},
   "outputs": [],
   "source": [
    "#Row 32 contains the 'Sleep' column. We assume the column headers start on the next row so we assign it as such.\n",
    "sleep.columns = [data.iloc[33]]"
   ]
  },
  {
   "cell_type": "code",
   "execution_count": 16,
   "metadata": {},
   "outputs": [
    {
     "output_type": "execute_result",
     "data": {
      "text/plain": [
       "33          Start Time           End Time Minutes Asleep Minutes Awake  \\\n",
       "203  2020-01-01 1:16AM  2020-01-01 8:28AM            334            98   \n",
       "\n",
       "33  Number of Awakenings Time in Bed Minutes REM Sleep Minutes Light Sleep  \\\n",
       "203                   20         432                47                 242   \n",
       "\n",
       "33  Minutes Deep Sleep   NaN  \n",
       "203                 45  None  "
      ],
      "text/html": "<div>\n<style scoped>\n    .dataframe tbody tr th:only-of-type {\n        vertical-align: middle;\n    }\n\n    .dataframe tbody tr th {\n        vertical-align: top;\n    }\n\n    .dataframe thead tr th {\n        text-align: left;\n    }\n</style>\n<table border=\"1\" class=\"dataframe\">\n  <thead>\n    <tr>\n      <th>33</th>\n      <th>Start Time</th>\n      <th>End Time</th>\n      <th>Minutes Asleep</th>\n      <th>Minutes Awake</th>\n      <th>Number of Awakenings</th>\n      <th>Time in Bed</th>\n      <th>Minutes REM Sleep</th>\n      <th>Minutes Light Sleep</th>\n      <th>Minutes Deep Sleep</th>\n      <th>NaN</th>\n    </tr>\n  </thead>\n  <tbody>\n    <tr>\n      <th>203</th>\n      <td>2020-01-01 1:16AM</td>\n      <td>2020-01-01 8:28AM</td>\n      <td>334</td>\n      <td>98</td>\n      <td>20</td>\n      <td>432</td>\n      <td>47</td>\n      <td>242</td>\n      <td>45</td>\n      <td>None</td>\n    </tr>\n  </tbody>\n</table>\n</div>"
     },
     "metadata": {},
     "execution_count": 16
    }
   ],
   "source": [
    "#Preview column headers\n",
    "sleep.head(1)"
   ]
  },
  {
   "cell_type": "code",
   "execution_count": 17,
   "metadata": {},
   "outputs": [],
   "source": [
    "#Drop NaN and index header\n",
    "sleep = sleep.iloc[:, :-1]\n",
    "sleep = sleep.rename_axis(None, axis=1)\n",
    "sleep = sleep.reset_index(drop=True)"
   ]
  },
  {
   "cell_type": "code",
   "execution_count": 18,
   "metadata": {},
   "outputs": [
    {
     "output_type": "execute_result",
     "data": {
      "text/plain": [
       "             Start Time           End Time Minutes Asleep Minutes Awake  \\\n",
       "0     2020-01-01 1:16AM  2020-01-01 8:28AM            334            98   \n",
       "1    2020-01-01 11:00PM  2020-01-02 7:27AM            414            93   \n",
       "2    2020-01-02 11:03PM  2020-01-03 5:32AM            331            58   \n",
       "3     2020-01-03 8:53PM  2020-01-04 6:06AM            464            89   \n",
       "4     2020-01-04 8:55PM  2020-01-05 7:47AM            526           126   \n",
       "..                  ...                ...            ...           ...   \n",
       "162  2020-05-28 10:25PM  2020-05-29 4:38AM            325            48   \n",
       "163   2020-05-29 9:32PM  2020-05-30 5:18AM            394            72   \n",
       "164   2020-05-31 3:02PM  2020-05-31 4:05PM             59             4   \n",
       "165   2020-05-30 7:52PM  2020-05-31 5:00AM            441           107   \n",
       "166  2020-05-31 10:33PM  2020-06-01 4:41AM            319            49   \n",
       "\n",
       "    Number of Awakenings Time in Bed Minutes REM Sleep Minutes Light Sleep  \\\n",
       "0                     20         432                47                 242   \n",
       "1                     33         507                50                 346   \n",
       "2                     27         389                31                 278   \n",
       "3                     36         553                84                 341   \n",
       "4                     46         652                79                 401   \n",
       "..                   ...         ...               ...                 ...   \n",
       "162                   22         373                56                 259   \n",
       "163                   27         466                52                 285   \n",
       "164                    1          63               N/A                 N/A   \n",
       "165                   32         548                71                 320   \n",
       "166                   15         368                66                 230   \n",
       "\n",
       "    Minutes Deep Sleep  \n",
       "0                   45  \n",
       "1                   18  \n",
       "2                   22  \n",
       "3                   39  \n",
       "4                   46  \n",
       "..                 ...  \n",
       "162                 10  \n",
       "163                 57  \n",
       "164                N/A  \n",
       "165                 50  \n",
       "166                 23  \n",
       "\n",
       "[167 rows x 9 columns]"
      ],
      "text/html": "<div>\n<style scoped>\n    .dataframe tbody tr th:only-of-type {\n        vertical-align: middle;\n    }\n\n    .dataframe tbody tr th {\n        vertical-align: top;\n    }\n\n    .dataframe thead tr th {\n        text-align: left;\n    }\n</style>\n<table border=\"1\" class=\"dataframe\">\n  <thead>\n    <tr>\n      <th></th>\n      <th>Start Time</th>\n      <th>End Time</th>\n      <th>Minutes Asleep</th>\n      <th>Minutes Awake</th>\n      <th>Number of Awakenings</th>\n      <th>Time in Bed</th>\n      <th>Minutes REM Sleep</th>\n      <th>Minutes Light Sleep</th>\n      <th>Minutes Deep Sleep</th>\n    </tr>\n  </thead>\n  <tbody>\n    <tr>\n      <th>0</th>\n      <td>2020-01-01 1:16AM</td>\n      <td>2020-01-01 8:28AM</td>\n      <td>334</td>\n      <td>98</td>\n      <td>20</td>\n      <td>432</td>\n      <td>47</td>\n      <td>242</td>\n      <td>45</td>\n    </tr>\n    <tr>\n      <th>1</th>\n      <td>2020-01-01 11:00PM</td>\n      <td>2020-01-02 7:27AM</td>\n      <td>414</td>\n      <td>93</td>\n      <td>33</td>\n      <td>507</td>\n      <td>50</td>\n      <td>346</td>\n      <td>18</td>\n    </tr>\n    <tr>\n      <th>2</th>\n      <td>2020-01-02 11:03PM</td>\n      <td>2020-01-03 5:32AM</td>\n      <td>331</td>\n      <td>58</td>\n      <td>27</td>\n      <td>389</td>\n      <td>31</td>\n      <td>278</td>\n      <td>22</td>\n    </tr>\n    <tr>\n      <th>3</th>\n      <td>2020-01-03 8:53PM</td>\n      <td>2020-01-04 6:06AM</td>\n      <td>464</td>\n      <td>89</td>\n      <td>36</td>\n      <td>553</td>\n      <td>84</td>\n      <td>341</td>\n      <td>39</td>\n    </tr>\n    <tr>\n      <th>4</th>\n      <td>2020-01-04 8:55PM</td>\n      <td>2020-01-05 7:47AM</td>\n      <td>526</td>\n      <td>126</td>\n      <td>46</td>\n      <td>652</td>\n      <td>79</td>\n      <td>401</td>\n      <td>46</td>\n    </tr>\n    <tr>\n      <th>...</th>\n      <td>...</td>\n      <td>...</td>\n      <td>...</td>\n      <td>...</td>\n      <td>...</td>\n      <td>...</td>\n      <td>...</td>\n      <td>...</td>\n      <td>...</td>\n    </tr>\n    <tr>\n      <th>162</th>\n      <td>2020-05-28 10:25PM</td>\n      <td>2020-05-29 4:38AM</td>\n      <td>325</td>\n      <td>48</td>\n      <td>22</td>\n      <td>373</td>\n      <td>56</td>\n      <td>259</td>\n      <td>10</td>\n    </tr>\n    <tr>\n      <th>163</th>\n      <td>2020-05-29 9:32PM</td>\n      <td>2020-05-30 5:18AM</td>\n      <td>394</td>\n      <td>72</td>\n      <td>27</td>\n      <td>466</td>\n      <td>52</td>\n      <td>285</td>\n      <td>57</td>\n    </tr>\n    <tr>\n      <th>164</th>\n      <td>2020-05-31 3:02PM</td>\n      <td>2020-05-31 4:05PM</td>\n      <td>59</td>\n      <td>4</td>\n      <td>1</td>\n      <td>63</td>\n      <td>N/A</td>\n      <td>N/A</td>\n      <td>N/A</td>\n    </tr>\n    <tr>\n      <th>165</th>\n      <td>2020-05-30 7:52PM</td>\n      <td>2020-05-31 5:00AM</td>\n      <td>441</td>\n      <td>107</td>\n      <td>32</td>\n      <td>548</td>\n      <td>71</td>\n      <td>320</td>\n      <td>50</td>\n    </tr>\n    <tr>\n      <th>166</th>\n      <td>2020-05-31 10:33PM</td>\n      <td>2020-06-01 4:41AM</td>\n      <td>319</td>\n      <td>49</td>\n      <td>15</td>\n      <td>368</td>\n      <td>66</td>\n      <td>230</td>\n      <td>23</td>\n    </tr>\n  </tbody>\n</table>\n<p>167 rows × 9 columns</p>\n</div>"
     },
     "metadata": {},
     "execution_count": 18
    }
   ],
   "source": [
    "#Preview dataframe\n",
    "sleep"
   ]
  },
  {
   "cell_type": "code",
   "execution_count": 41,
   "metadata": {},
   "outputs": [],
   "source": [
    "sleep.to_csv('Organized_Sleep_Data(Jan-May).csv', index=False)"
   ]
  },
  {
   "cell_type": "code",
   "execution_count": null,
   "metadata": {},
   "outputs": [],
   "source": []
  }
 ],
 "metadata": {
  "kernelspec": {
   "display_name": "Python 3",
   "language": "python",
   "name": "python3"
  },
  "language_info": {
   "codemirror_mode": {
    "name": "ipython",
    "version": 3
   },
   "file_extension": ".py",
   "mimetype": "text/x-python",
   "name": "python",
   "nbconvert_exporter": "python",
   "pygments_lexer": "ipython3",
   "version": "3.8.5-final"
  }
 },
 "nbformat": 4,
 "nbformat_minor": 4
}